{
 "cells": [
  {
   "cell_type": "markdown",
   "metadata": {},
   "source": [
    "# Thông tin nhóm"
   ]
  },
  {
   "cell_type": "markdown",
   "metadata": {},
   "source": [
    "1612406 - Đặng Phương Nam\n",
    "\n",
    "1612423 - Lê Minh nghĩa"
   ]
  },
  {
   "cell_type": "markdown",
   "metadata": {},
   "source": [
    "# Câu hỏi"
   ]
  },
  {
   "cell_type": "markdown",
   "metadata": {},
   "source": [
    "Cho các thông tin về căn nhà:\n",
    "\n",
    "- Đường.\n",
    "- Huyện/Quận.\n",
    "- Mặt tiền (met).\n",
    "- Đường vào (met).\n",
    "- Hướng nhà.\n",
    "- Chiều dài của nhà (met).\n",
    "- Chiều rộng của nhà (met).\n",
    "- Chính chủ (yes/no).\n",
    "- Gần trung tâm TP, dễ dàng đi lại (yes/no).\n",
    "- Loại nhà (nhà cấp 4, nhà lầu hay biệt thự?).\n",
    "- Hẻm (yes/no).\n",
    "- Nội thất (yes/no hay giá ước lượng bao nhiêu tiền?)\n",
    "- Nhà mới xây (yes/no).\n",
    "- Số lượng tầng.\n",
    "- Số lượng phòng ngủ.\n",
    "- Số lượng toliet.\n",
    "\n",
    "Hỏi giá trị của căn nhà là bao nhiêu tiền?"
   ]
  },
  {
   "cell_type": "markdown",
   "metadata": {},
   "source": [
    "# Lợi ích khi trả lời được câu hỏi"
   ]
  },
  {
   "cell_type": "markdown",
   "metadata": {},
   "source": [
    "Nhờ vào thông tin của căn nhà:\n",
    "\n",
    "- Người bán có thể dự đoán được giá trị căn nhà mà mình muốn bán.\n",
    "- Người mua có thể ước lượng được căn nhà mình muốn mua có giá cả hợp lý hay không?.\n",
    "- Dự đoán được giá trị căn nhà của mình.\n",
    "- ..."
   ]
  },
  {
   "cell_type": "markdown",
   "metadata": {},
   "source": [
    "# Thu thập dữ liệu (parse HTML)"
   ]
  },
  {
   "cell_type": "markdown",
   "metadata": {},
   "source": [
    "Dữ liệu thu thập từ trang web https://batdongsan.com.vn với bộ lọc là \"Bán nhà riêng\", \"Khu vực TP.HCM\". Thu được HTML cần parse: https://batdongsan.com.vn/ban-nha-rieng-tp-hcm"
   ]
  },
  {
   "cell_type": "code",
   "execution_count": 1,
   "metadata": {},
   "outputs": [],
   "source": [
    "# Import các thư viện cần thiết\n",
    "import urllib.robotparser\n",
    "import json\n",
    "import logging\n",
    "import os.path\n",
    "import time\n",
    "import traceback\n",
    "from datetime import datetime\n",
    "from pprint import pprint\n",
    "\n",
    "from requests_html import HTMLSession"
   ]
  },
  {
   "cell_type": "code",
   "execution_count": 2,
   "metadata": {},
   "outputs": [],
   "source": [
    "# Tạo looger để ghi nhận lịch sử ở mỗi lần lấy dữ liệu\n",
    "logger = logging.getLogger(\"crawler\")\n",
    "logFileName = f'{datetime.today().strftime(\"%Y-%m-%d_%H_%M_%S\")}.log'\n",
    "formatter = logging.Formatter(\"[%(asctime)s][%(name)s][%(levelname)s] - %(message)s\")\n",
    "fhandler = logging.FileHandler(filename=logFileName)\n",
    "fhandler.setLevel(logging.DEBUG)\n",
    "fhandler.setFormatter(formatter)\n",
    "ch = logging.StreamHandler()\n",
    "ch.setLevel(logging.DEBUG)\n",
    "ch.setFormatter(formatter)\n",
    "logger.handlers = []\n",
    "logger.addHandler(fhandler)\n",
    "logger.addHandler(ch)\n",
    "logger.setLevel(logging.DEBUG)\n",
    "\n",
    "\n",
    "# Hàm trả về generator, generator náy trả về trang tiếp theo sau mỗi lần duyệt\n",
    "def urlGenerator(baseUrl, startPage=1):\n",
    "    i = startPage\n",
    "    if i <= 1:\n",
    "        yield baseUrl\n",
    "        i = 2\n",
    "    while True:\n",
    "        yield f\"{baseUrl}/p{i}\"\n",
    "        i += 1\n",
    "\n",
    "\n",
    "# Hàm parse để lấy thông tin chi tiết của căn nhà từ detail Url của tin rao bán nhà.      \n",
    "def parseDetailPage(session: HTMLSession, url: str):\n",
    "    global logger\n",
    "    logger.info(f\"Processing detail url: {url}\")\n",
    "    \n",
    "    # Lấy mã HTML của trang web\n",
    "    r = session.get(url)\n",
    "    \n",
    "    # Dictionary lưu lại kết quả\n",
    "    result = {}\n",
    "    \n",
    "    # Lấy phần mô tả chi tiết của bản tin rao bán căn nhà\n",
    "    result[\"description\"] = r.html.find(\".pm-desc\", first=True).text\n",
    "\n",
    "    # Lấy hết các thông tin nổi bật của nhà (ví dụ: địa chỉ, mặt tiền, số phòng ngủ, số tầng, nội thất,...)\n",
    "    features = {}\n",
    "    featuresTable = r.html.find(\".table1\", first=True) # các thông tin này nằm ở class table1 trong mã HTML\n",
    "    rows = featuresTable.find(\".row\") # lấy hết tất cả các dòng của features Table\n",
    "    for row in rows:\n",
    "        key = row.find(\".left\", first=True).text\n",
    "        value = row.find(\".right\", first=True).text\n",
    "        features[key] = value\n",
    "    result[\"features\"] = features # Thêm phần feature vào phần kết quả muốn lấy\n",
    "\n",
    "    return result\n",
    "\n",
    "\n",
    "def parseSearchResultPage(fileName: str,\n",
    "                          session: HTMLSession,\n",
    "                          baseUrl: str = \"https://batdongsan.com.vn/ban-nha-rieng-tp-hcm\",\n",
    "                          startPage: int = 1):\n",
    "    global logger\n",
    "    if os.path.exists(fileName):\n",
    "        logger.error(f\"File exists {fileName}\")\n",
    "        return\n",
    "\n",
    "    rp = urllib.robotparser.RobotFileParser()\n",
    "    rp.set_url('https://batdongsan.com.vn/robots.txt')\n",
    "    rp.read()\n",
    "\n",
    "    try:\n",
    "        with open(fileName, \"w\", encoding=\"utf8\") as f:\n",
    "            for url in urlGenerator(baseUrl, startPage):\n",
    "                \n",
    "                # Bỏ qua trang hiện tại nếu website không cho phép lấy.\n",
    "                if not rp.can_fetch('*', url):\n",
    "                    logger.info(f\"SKIP {url}\")\n",
    "                    continue\n",
    "                    \n",
    "                logger.info(f\"Processing url: {url}\")\n",
    "                \n",
    "                # Lấy mã HTML của trang web\n",
    "                r = session.get(url)\n",
    "                \n",
    "                # Tìm phần tử \"not found\" của trang kết quả tìm kiếm,\n",
    "                # nếu phần tử này tồn tại tức là trang này không có kết quả nào\n",
    "                # -> đã lấy hết\n",
    "                notFound = r.html.find(\n",
    "                    \"#LeftMainContent__productSearchResult_pnlNotFound\", first=True\n",
    "                )\n",
    "                if notFound is not None:\n",
    "                    logger.info(f\"{url} Not found\")\n",
    "                    break\n",
    "\n",
    "                # Lấy hết các bản tin rao bán nhà\n",
    "                items = r.html.find(\".search-productItem\")\n",
    "                for item in items:\n",
    "                    result = {} # Dictionary này chứa tất cả các thông tin của căn nhà cần rao bán\n",
    "                    \n",
    "                    # Lấy title\n",
    "                    titleAnchor = item.find(\".p-title a\", first=True)\n",
    "                    result[\"title\"] = titleAnchor.text\n",
    "                    \n",
    "                    # Lấy detail Url\n",
    "                    result[\"detailUrl\"] = titleAnchor.absolute_links.pop()\n",
    "                    \n",
    "                    # Lấy giá nhà\n",
    "                    result[\"price\"] = item.find(\".product-price\", first=True).text\n",
    "                    \n",
    "                    # Lấy diện tích (met vuông)\n",
    "                    result[\"area\"] = item.find(\".product-area\", first=True).text\n",
    "                    \n",
    "                    # Lấy khu vực (huyện/quận)\n",
    "                    result[\"district\"] = item.find(\n",
    "                        \".product-city-dist\", first=True\n",
    "                    ).text\n",
    "                    \n",
    "                    # Lấy thời gian đăng tin\n",
    "                    result[\"uptime\"] = item.find(\".uptime\", first=True).text\n",
    "                    \n",
    "                    # Kiểm tra xem có được phép lấy dữ liệu từ trang detail hay không?\n",
    "                    if rp.can_fetch('*', result[\"detailUrl\"]):\n",
    "                        # Lấy thông tin mô tả chi tiết của căn nhà\n",
    "                        result[\"detail\"] = parseDetailPage(session, result[\"detailUrl\"])\n",
    "                    else:\n",
    "                        logger.info(f\"SKIP {result['detailUrl']}\")\n",
    "                    \n",
    "                    # Ghi xuống file\n",
    "                    json.dump(result, f, ensure_ascii=False)\n",
    "                    f.write(\"\\n\")\n",
    "\n",
    "                # sleep 2s khi lấy xong mỗi trang (chứa 20 tin đăng bán nhà)\n",
    "                time.sleep(2)\n",
    "                \n",
    "    except Exception as e:\n",
    "        logger.error(f\"{e}\\n{traceback.format_exc}\")"
   ]
  },
  {
   "cell_type": "code",
   "execution_count": null,
   "metadata": {},
   "outputs": [
    {
     "name": "stderr",
     "output_type": "stream",
     "text": [
      "[2019-11-30 13:21:54,431][crawler][INFO] - Processing url: https://batdongsan.com.vn/ban-nha-rieng-tp-hcm\n",
      "[2019-11-30 13:21:56,750][crawler][INFO] - Processing detail url: https://batdongsan.com.vn/ban-nha-rieng-duong-23-2-phuong-binh-tri-dong-b/can-khu-ten-lua-90m2-3-lau-co-ham-de-xe-chinh-chu-can-ban-pr23679945\n",
      "[2019-11-30 13:21:57,520][crawler][INFO] - Processing detail url: https://batdongsan.com.vn/ban-nha-rieng-duong-doan-nguyen-tuan-1-xa-hung-long-5/binh-chanh-1ty3-gan-cho-0934117173-pr22722319\n",
      "[2019-11-30 13:21:58,389][crawler][INFO] - Processing detail url: https://batdongsan.com.vn/ban-nha-rieng-duong-dong-hung-thuan-6-phuong-tan-hung-thuan-1/can-gap-5x10m2-cong-n-50m2-mot-tret-1-lung-3-lau-pr23671000\n",
      "[2019-11-30 13:21:59,364][crawler][INFO] - Processing detail url: https://batdongsan.com.vn/ban-nha-rieng-duong-lien-khu-4-5-phuong-binh-hung-hoa-b/133-16-4-5-quan-tan-tp-hcm-pr22894731\n",
      "[2019-11-30 13:22:00,346][crawler][INFO] - Processing detail url: https://batdongsan.com.vn/ban-nha-rieng-duong-8-2-phuong-hiep-binh-chanh/moi-xay-65m2-ngay-nga-tu-trieu-thu-duc-gia-chi-6ty199-sh-da-hoan-cong-lh-0766-399-339-pr23657676\n",
      "[2019-11-30 13:22:01,660][crawler][INFO] - Processing detail url: https://batdongsan.com.vn/ban-nha-rieng-duong-pham-van-chieu-phuong-9-11/biet-thu-mini-dt-5-3m-x-11m-gia-sieu-re-huong-tay-nam-chieu-pr21355140\n",
      "[2019-11-30 13:22:02,684][crawler][INFO] - Processing detail url: https://batdongsan.com.vn/ban-nha-rieng-duong-4-phuong-8-12/hem-o-to-so-71-5-so-4-quan-go-vap-pr21354710\n",
      "[2019-11-30 13:22:03,517][crawler][INFO] - Processing detail url: https://batdongsan.com.vn/ban-nha-rieng-binh-chanh/chi-680tr-can-cach-ubnd-dien-may-xanh-50m-1-tret-1-lau-so-hong-ngay-chu-100-0901346668-pr23068496\n",
      "[2019-11-30 13:22:04,461][crawler][INFO] - Processing detail url: https://batdongsan.com.vn/ban-nha-rieng-duong-8-2-phuong-truong-thanh/nh-8-lo-lu-q9-gia-uu-dai-trong-tuan-pr23609942\n",
      "[2019-11-30 13:22:05,985][crawler][INFO] - Processing detail url: https://batdongsan.com.vn/ban-nha-rieng-duong-tran-dinh-xu-phuong-nguyen-cu-trinh/chinh-chu-cho-thue-can-ho-189a-cong-quynh-gia-12-tr-thang-lh-0902682488-pr19952320\n",
      "[2019-11-30 13:22:06,902][crawler][INFO] - Processing detail url: https://batdongsan.com.vn/ban-nha-rieng-pho-nguyen-xi-66/dang-can-tim-binh-thanh-phap-ly-ro-rang-gia-ca-hop-ly-cam-ket-thong-tin-chinh-xac-100-pr20854151\n",
      "[2019-11-30 13:22:08,007][crawler][INFO] - Processing detail url: https://batdongsan.com.vn/ban-nha-rieng-duong-16-5-phuong-hiep-binh-chanh/chinh-chu-2-lau-80m2-ngang-6-36m-so-hong-tai-16-hbc-pham-van-dong-0778-698-776-pr23607865\n",
      "[2019-11-30 13:22:09,283][crawler][INFO] - Processing detail url: https://batdongsan.com.vn/ban-nha-rieng-duong-kp2-phuong-thanh-my-loi/chinh-chu-gap-trung-tam-quan-2-p-lh-0985356222-pr22405527\n",
      "[2019-11-30 13:22:10,208][crawler][INFO] - Processing detail url: https://batdongsan.com.vn/ban-nha-rieng-duong-tan-thoi-hiep-21-phuong-tan-thoi-hiep/can-tien-gap-hem-cach-nguyen-van-qua-150m-dt-4-95x16m-chinh-chu-4-2ty-tl-pr23584783\n"
     ]
    }
   ],
   "source": [
    "session = HTMLSession()\n",
    "\n",
    "# Tạo tên file lưu lại kết quả đã parse dữ liệu từ trang web, tên file chính là thời gian tiến hành parse\n",
    "resultFileName = f'data/{datetime.today().strftime(\"%Y-%m-%d_%H_%M_%S\")}.json'\n",
    "\n",
    "# Parse trang kết quả tìm kiếm\n",
    "parseSearchResultPage(resultFileName, session)"
   ]
  },
  {
   "cell_type": "markdown",
   "metadata": {},
   "source": [
    "# Tiền xử lý dữ liệu"
   ]
  },
  {
   "cell_type": "code",
   "execution_count": null,
   "metadata": {},
   "outputs": [],
   "source": []
  }
 ],
 "metadata": {
  "kernelspec": {
   "display_name": "Python 3",
   "language": "python",
   "name": "python3"
  },
  "language_info": {
   "codemirror_mode": {
    "name": "ipython",
    "version": 3
   },
   "file_extension": ".py",
   "mimetype": "text/x-python",
   "name": "python",
   "nbconvert_exporter": "python",
   "pygments_lexer": "ipython3",
   "version": "3.7.3"
  }
 },
 "nbformat": 4,
 "nbformat_minor": 2
}
