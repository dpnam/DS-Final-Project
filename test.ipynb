{
 "cells": [
  {
   "cell_type": "code",
   "execution_count": 35,
   "metadata": {},
   "outputs": [],
   "source": [
    "# write json to each line\n",
    "import json\n",
    "\n",
    "l = [{\"a\": 123}, {\"a\": 456}]\n",
    "with open('test.json', 'a') as f:\n",
    "    for a in l:\n",
    "        json.dump(a, f)\n",
    "        f.write('\\n')"
   ]
  },
  {
   "cell_type": "code",
   "execution_count": 44,
   "metadata": {},
   "outputs": [],
   "source": [
    "import logging\n",
    "from datetime import datetime\n",
    "\n",
    "logger = logging.getLogger()\n",
    "fhandler = logging.FileHandler(filename=f'{datetime.today().strftime(\"%Y-%m-%d_%H_%M_%S\")}.log', mode='a')\n",
    "formatter = logging.Formatter('%(asctime)s - %(name)s - %(levelname)s - %(message)s')\n",
    "fhandler.setFormatter(formatter)\n",
    "logger.addHandler(fhandler)\n",
    "logger.setLevel(logging.DEBUG)"
   ]
  },
  {
   "cell_type": "code",
   "execution_count": 43,
   "metadata": {},
   "outputs": [
    {
     "name": "stderr",
     "output_type": "stream",
     "text": [
      "INFO:root:2019-11-30T00:00:00+07\n",
      "INFO:root:2019-11-29T00:00:00+07\n",
      "INFO:root:2019-11-28T00:00:00+07\n"
     ]
    },
    {
     "name": "stdout",
     "output_type": "stream",
     "text": [
      "2019-11-28\n",
      "2019-11-30T00:00:00+07\n",
      "2019-11-29T00:00:00+07\n",
      "2019-11-28T00:00:00+07\n"
     ]
    }
   ],
   "source": [
    "# generate date\n",
    "from datetime import datetime, timedelta\n",
    "\n",
    "\n",
    "\n",
    "\n",
    "\n",
    "date_end = datetime(2019, 11, 30)\n",
    "n = 3\n",
    "date_start = date_end - timedelta(days=n-1)\n",
    "print(date_start.strftime(\"%Y-%m-%d\"))\n",
    "for dayDelta in range(n):\n",
    "    dt = date_end - timedelta(days=dayDelta)\n",
    "    timestr = dt.strftime(\"%Y-%m-%dT%H:%M:%S+07\")\n",
    "    logging.info(timestr)\n",
    "    print(timestr)"
   ]
  }
 ],
 "metadata": {
  "kernelspec": {
   "display_name": "Python 3",
   "language": "python",
   "name": "python3"
  },
  "language_info": {
   "codemirror_mode": {
    "name": "ipython",
    "version": 3
   },
   "file_extension": ".py",
   "mimetype": "text/x-python",
   "name": "python",
   "nbconvert_exporter": "python",
   "pygments_lexer": "ipython3",
   "version": "3.7.4"
  }
 },
 "nbformat": 4,
 "nbformat_minor": 4
}
