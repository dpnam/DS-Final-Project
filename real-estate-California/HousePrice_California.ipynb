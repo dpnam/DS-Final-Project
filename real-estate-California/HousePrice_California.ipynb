{
 "cells": [
  {
   "cell_type": "markdown",
   "metadata": {},
   "source": [
    "# Thông tin nhóm 14"
   ]
  },
  {
   "cell_type": "markdown",
   "metadata": {},
   "source": [
    "1612406 - Đặng Phương Nam\n",
    "\n",
    "1612423 - Lê Minh nghĩa"
   ]
  },
  {
   "cell_type": "markdown",
   "metadata": {},
   "source": [
    "# 1. Câu hỏi"
   ]
  },
  {
   "cell_type": "markdown",
   "metadata": {},
   "source": [
    "Cho các thông tin về căn nhà:\n",
    "\n",
    "- Giá cho thuê trước khi bán.\n",
    "- Địa chỉ.\n",
    "- Loại nhà.\n",
    "- Số phòng ngủ.\n",
    "- Số nhà vệ sinh.\n",
    "- Diện tích phần nhà.\n",
    "- Diện tích toàn bộ lô đất.\n",
    "- Năm xây dựng.\n",
    "- Tiền thuế.\n",
    "- Gần mấy trường học.\n",
    "- Tình hình tội phạm.\n",
    "- ...\n",
    "\n",
    "Hỏi giá trị của căn nhà là bao nhiêu tiền?"
   ]
  },
  {
   "cell_type": "markdown",
   "metadata": {},
   "source": [
    "# 2. Lợi ích khi trả lời được câu hỏi"
   ]
  },
  {
   "cell_type": "markdown",
   "metadata": {},
   "source": [
    "Nhờ vào thông tin của căn nhà:\n",
    "\n",
    "- Người bán có thể dự đoán được giá trị căn nhà mà mình muốn bán.\n",
    "- Người mua có thể ước lượng được căn nhà mình muốn mua có giá cả hợp lý hay không?.\n",
    "- Dự đoán được giá trị căn nhà của mình.\n",
    "- ..."
   ]
  },
  {
   "cell_type": "markdown",
   "metadata": {
    "toc-hr-collapsed": false
   },
   "source": [
    "# 3. Thu thập dữ liệu"
   ]
  },
  {
   "cell_type": "markdown",
   "metadata": {},
   "source": [
    "## 3.1. Parse HTML"
   ]
  },
  {
   "cell_type": "markdown",
   "metadata": {},
   "source": [
    "Dữ liệu thu thập từ trang web https://www.realtytrac.com/. Ta chỉ thu thập dữ liệu \"các estate đã được bán tại  California\", ta có HTML cần parse: https://m.realtytrac.com/mapsearch/sold/ca/\n",
    "\n",
    "Thời gian lấy dữ liệu: Ngày 10/12/2019"
   ]
  },
  {
   "cell_type": "code",
   "execution_count": null,
   "metadata": {},
   "outputs": [],
   "source": [
    "# Import các thư viện cần thiết.\n",
    "import urllib.robotparser\n",
    "import json\n",
    "import os.path\n",
    "import re\n",
    "\n",
    "from requests_html import HTMLSession"
   ]
  },
  {
   "cell_type": "code",
   "execution_count": null,
   "metadata": {},
   "outputs": [],
   "source": [
    "rp = urllib.robotparser.RobotFileParser()\n",
    "rp.set_url('https://m.realtytrac.com/robots.txt')\n",
    "rp.read()"
   ]
  },
  {
   "cell_type": "code",
   "execution_count": null,
   "metadata": {},
   "outputs": [],
   "source": [
    "# Lấy link chứa danh sách các ngôi nhà đã bán theo Quận tại California\n",
    "check_parse = rp.can_fetch('*', 'https://m.realtytrac.com/mapsearch/sold/ca/')\n",
    "\n",
    "base_url = \"https://m.realtytrac.com\"\n",
    "list_url_county = []\n",
    "\n",
    "# Kiểm tra việc parse HTML được cho phép hay không?\n",
    "if check_parse == True:\n",
    "    session = HTMLSession()\n",
    "    r = session.get('https://m.realtytrac.com/mapsearch/sold/ca/')\n",
    "\n",
    "    counties = r.html.find(\"option\")\n",
    "\n",
    "    for county in counties:\n",
    "        tail_url = county.attrs['value']\n",
    "        if (tail_url):\n",
    "            url = base_url + tail_url\n",
    "            list_url_county.append(url)\n",
    "\n",
    "\n",
    "list_url_county"
   ]
  },
  {
   "cell_type": "code",
   "execution_count": null,
   "metadata": {},
   "outputs": [],
   "source": [
    "# Hàm trả về generator, generator này trả về trang tiếp theo sau mỗi lần duyệt.\n",
    "def urlGenerator(baseUrl, startPage=1):\n",
    "    i = startPage\n",
    "    if i <= 1:\n",
    "        yield baseUrl\n",
    "        i = 2\n",
    "    while True:\n",
    "        yield f\"{baseUrl}/p-{i}\"\n",
    "        i += 1\n",
    "\n",
    "\n",
    "# Hàm parseDetailPage: parse để lấy thông tin chi tiết của từng căn nhà từ detailUrl (của căn nhà đã bán).\n",
    "# Tham số: session và detailUrl của căn nhà cần parse.\n",
    "# Trả về: dictionary chứa các thông tin đã parse được.\n",
    "def parseDetailPage(session: HTMLSession, detailUrl: str):\n",
    "\n",
    "    # Lấy mã HTML của trang web.\n",
    "    r = session.get(detailUrl)\n",
    "\n",
    "    # Dictionary lưu lại kết quả.\n",
    "    result = {}\n",
    "\n",
    "    # Lấy address của estate.\n",
    "    address = {}\n",
    "    street = r.html.find(\"[itemprop = 'streetAddress']\", first=True)\n",
    "    if street is not None:\n",
    "        street = street.text\n",
    "\n",
    "    locality = r.html.find(\"[itemprop = 'addressLocality']\", first=True)\n",
    "    if locality is not None:\n",
    "        locality = locality.text\n",
    "\n",
    "    region = r.html.find(\"[itemprop = 'addressRegion']\", first=True)\n",
    "    if region is not None:\n",
    "        region = region.text\n",
    "\n",
    "    code = r.html.find(\"[itemprop = 'postalCode']\", first=True)\n",
    "    if code is not None:\n",
    "        code = code.text\n",
    "\n",
    "    address[\"street\"] = street\n",
    "    address[\"locality\"] = locality\n",
    "    address[\"region\"] = region\n",
    "    address[\"code\"] = code\n",
    "\n",
    "    result[\"address\"] = address\n",
    "\n",
    "    # Lấy thông tin ngày đã bán căn nhà.\n",
    "    date_sold = r.html.find(\".recently-sold\", first=True)\n",
    "    if date_sold is not None:\n",
    "        result[\"date_sold\"] = date_sold.text.replace(\"SOLD ON \", \"\")\n",
    "    else:\n",
    "        result[\"date_sold\"] = None\n",
    "\n",
    "    # Lấy giá cho thuê trước khi bán.\n",
    "    mortgage = r.html.find(\".property-price-info\", first=True)\n",
    "    if mortgage is not None:\n",
    "        result[\"mortgage\"] = mortgage.text.replace(\"Est. Mortgage: \",\"\")\n",
    "    else:\n",
    "        result[\"mortgage\"] = None\n",
    "\n",
    "\n",
    "    # Lấy phân mô tả chi tiết về căn nhà.\n",
    "    details = []\n",
    "    detailTexts = r.html.find(\".detail-text\")\n",
    "    if detailTexts is not None:\n",
    "        for detailText in detailTexts:\n",
    "            details.append(detailText.html)  # sở dĩ lấy mà HTML để dễ parse sau này (khi muốn lấy thông tin từ details)\n",
    "    result[\"details\"] = details\n",
    "\n",
    "    # Lấy property info của căn nhà.\n",
    "    propertyInfo = r.html.find(\".property-info\", first=True)\n",
    "    if propertyInfo is not None:\n",
    "        info = {}\n",
    "        items = propertyInfo.find(\".item\")\n",
    "        if items is not None:\n",
    "            for item in items:\n",
    "                name = item.find(\".name\", first=True).text.lower().replace(\" \", \"_\")\n",
    "                value = item.find(\".value\", first=True).text\n",
    "                info[name] = value\n",
    "\n",
    "        result[\"info\"] = info\n",
    "    else:\n",
    "        result[\"info\"] = None\n",
    "\n",
    "    # Lấy property taxes của căn nhà.\n",
    "    property_taxes = r.html.find(\".property-taxes\")\n",
    "    if property_taxes is not None:\n",
    "        for tax in property_taxes:\n",
    "            key = tax.find(\".section-head\", first=True).text.lower().replace(\" \", \"_\")\n",
    "            taxes = {}\n",
    "            items = tax.find(\".item\")\n",
    "            if items is not None:\n",
    "                for item in items:\n",
    "                    name = item.find(\".name\", first=True).text.lower().replace(\" \", \"_\")\n",
    "                    value = item.find(\".value\", first=True).text\n",
    "                    taxes[name] = value\n",
    "\n",
    "            result[key] = taxes\n",
    "\n",
    "    # Lấy số lượng trường học gần đó.\n",
    "    local_school = r.html.find(\".property-schools\", first=True)\n",
    "    num_school = 0\n",
    "    if local_school is not None:\n",
    "        num_school = len(local_school.find(\".schoolInfo\"))\n",
    "\n",
    "    result[\"school\"] = num_school\n",
    "\n",
    "    # Lấy thông tin tội phạm trong vùng.\n",
    "    crimes = {}\n",
    "    local_crime_index = r.html.find(\".property-local-crime\", first=True)\n",
    "    if local_crime_index is not None:\n",
    "        type_crimes = local_crime_index.find(\".gradeTitle\")\n",
    "        if type_crimes is not None:\n",
    "            for type_crime in type_crimes:\n",
    "                match = re.match(r\"(.+?) = (\\d+)\", type_crime.text)\n",
    "                if match is not None:\n",
    "                    key = match.group(1).lower().replace(' ', '_')\n",
    "                    value = int(match.group(2))\n",
    "                    crimes[key] = value\n",
    "\n",
    "    result[\"local_crime_index\"] = crimes\n",
    "\n",
    "    # Lấy số lượng nhà bị tịch thu gần đó.\n",
    "    nearby_foreclosures = r.html.find(\".property-nearby-fc\", first=True)\n",
    "    num_fc = 0\n",
    "    if nearby_foreclosures is not None:\n",
    "        num_fc = len(nearby_foreclosures.find(\".nearby-property\"))\n",
    "\n",
    "    result[\"foreclosures\"] = num_fc\n",
    "\n",
    "    return result"
   ]
  },
  {
   "cell_type": "code",
   "execution_count": null,
   "metadata": {},
   "outputs": [],
   "source": [
    "# Hàm parseSearchPage: parse theo page (mỗi parse chứa danh sách và url của 25 căn nhà đã được bán).\n",
    "# Tham số: session và url của page hiện tại.\n",
    "# Trả về: list thông tin chi tiết của tất cả căn nhà tại page hiện tại và url của page kế tiếp.\n",
    "def parseSearchPage(session: HTMLSession, urlPage: str):\n",
    "\n",
    "    # Lấy mã HTML.\n",
    "    r = session.get(urlPage)\n",
    "\n",
    "    # Lấu detailUrl của tất cả bất động sản.\n",
    "    detailUrls = [link for link in r.html.absolute_links if 'property' in link]\n",
    "\n",
    "    results = []  # List chứa kết quả parse được tại page.\n",
    "\n",
    "    # Tiến hành parse từ detailUrl\n",
    "    for detailUrl in detailUrls:\n",
    "        # Kiểm tra việc parse HTML được cho phép hay không?\n",
    "        if not rp.can_fetch('*', detailUrl):\n",
    "            print(f\"SKIP: {detailUrl}\")\n",
    "            continue\n",
    "\n",
    "        print(f\"Parsing detail url {detailUrl}\")\n",
    "        result = parseDetailPage(session, detailUrl)\n",
    "        results.append(result)\n",
    "\n",
    "    nextPageAnchor = r.html.find(\".current + .page\", first=True)\n",
    "    return results, nextPageAnchor is not None"
   ]
  },
  {
   "cell_type": "code",
   "execution_count": null,
   "metadata": {},
   "outputs": [],
   "source": [
    "# Hàm getAllCountyProperties: parse tất cả các page của một County để lấy thông tin chi tiết của \n",
    "# căn nhà được bán thành công.\n",
    "# Tham số: session và countryUrl chứa thông tin các căn nhà được bán của một County.\n",
    "# Trả về: File chứa kết quả đã parse thành công (tên file là tên County được parse).\n",
    "def getAllCountyProperties(session: HTMLSession, countyUrl: str):\n",
    "    # Lấy tên County từ urlCounty.\n",
    "    if countyUrl.endswith(\"/\"):\n",
    "        countyUrl = countyUrl[:-1]\n",
    "    fileName = f\"data/{os.path.basename(countyUrl)}.json\"\n",
    "\n",
    "    # Kiểm tra sự tồn tại file.\n",
    "    if os.path.exists(fileName):\n",
    "        print(f\"FILE EXISTS: {fileName}\")\n",
    "        return\n",
    "\n",
    "    # Mở file để ghi dữ liệu (kiểu file là json)\n",
    "    with open(fileName, \"a\") as fOut:\n",
    "        for url in urlGenerator(countyUrl, 1):\n",
    "            # Kiểm tra việc parse HTML được cho phép hay không?\n",
    "            if not rp.can_fetch('*', url):\n",
    "                print(f\"SKIP: {url}\")\n",
    "                continue\n",
    "\n",
    "            # Tiến hành parse theo từng page.\n",
    "            print(f\"Parsing {url}\")\n",
    "            results, nextPage = parseSearchPage(session, url)\n",
    "\n",
    "            # Ghi kết quả xuống file.\n",
    "            for result in results:\n",
    "                json.dump(result, fOut, ensure_ascii=False)\n",
    "                fOut.write(\"\\n\")\n",
    "\n",
    "            # Kiểm tra có còn page tiếp theo hay không?\n",
    "            if not nextPage:\n",
    "                break\n",
    "\n",
    "            # Mỗi lần parse 1 page thì cho sleep 2s.\n",
    "            time.sleep(2)"
   ]
  },
  {
   "cell_type": "markdown",
   "metadata": {},
   "source": [
    "Tiến hành lấy dữ liệu. Lưu ý trong quá trình lấy có thể bị timeout do đường truyền mạng, nếu bị thì chỉ cần làm theo các bước sau:\n",
    "- Xem đã lấy tới page mấy. vd: \"...page-125\"\n",
    "- Đổi lại tên file trong thư mục data là \"orange-county-1.json\" chẳng hạn (số 1, 2, 3,.. là theo mỗi lần lấy dữ liệu của mình).\n",
    "- Vào hàm \"getAllCountyProperties\" đổi lại dòng \"for url in urlGenerator(countyUrl, 1)\" thành \"for url in urlGenerator(countyUrl, 125)\", số 125 là tùy mình lấy tới page thứ mấy mà bị timeout.\n",
    "- Dữ liệu tất nhiên sẽ bị trùng, cứ việc yên tâm vì phần sau sẽ xóa trùng."
   ]
  },
  {
   "cell_type": "code",
   "execution_count": null,
   "metadata": {
    "scrolled": true
   },
   "outputs": [],
   "source": [
    "url = \"https://m.realtytrac.com/mapsearch/sold/ca/orange-county\"\n",
    "session = HTMLSession()\n",
    "getAllCountyProperties(session, url)"
   ]
  },
  {
   "cell_type": "code",
   "execution_count": null,
   "metadata": {},
   "outputs": [],
   "source": [
    "# Phần gộp từng phần dữ liệu đã lấy dang dở lại thành 1 file.\n",
    "# Nếu không bị timeout như trường hợp ở trên thì không dùng shell code này.\n",
    "'''\n",
    "inputFiles = [\"data/orange-county-1.json\", \"data/orange-county-2.json\", \n",
    "              \"data/orange-county-3.json\", \"data/orange-county-4.json\"]\n",
    "outputFile = \"data/full-orange-county.json\"\n",
    "\n",
    "with open(outputFile, \"a+\") as fOut:\n",
    "    for inputFile in inputFiles:\n",
    "        with open(inputFile, \"r\") as fIn:\n",
    "            data = fIn.read()\n",
    "            fOut.write(data)\n",
    "'''"
   ]
  },
  {
   "cell_type": "code",
   "execution_count": null,
   "metadata": {},
   "outputs": [],
   "source": [
    "# Phần convert file json sang file csv.\n",
    "\n",
    "def xstr(s):\n",
    "    return '' if s is None else str(s)\n",
    "\n",
    "\n",
    "# Hàm preprocessFile: chuyển file json sang file csv.\n",
    "# Tham số: tên file json và tên file csv.\n",
    "# Không trả về.\n",
    "def preprocessFile(inputFile: str, outputFile: str):\n",
    "\n",
    "    # Kiểm tra tồn tại file Input.\n",
    "    if os.path.exists(outputFile):\n",
    "        print(f\"FILE EXISTS: {outputFile}\")\n",
    "        return\n",
    "\n",
    "    # Kiểm tra tồn tại file Output.\n",
    "    if not os.path.exists(inputFile):\n",
    "        print(f\"Input file not found: {inputFile}\")\n",
    "        return\n",
    "\n",
    "    with open(inputFile) as fIn, open(outputFile, \"w\") as fOut:\n",
    "        tab = \"\\t\"\n",
    "        headers = (\n",
    "            \"address_street\",\n",
    "            \"address_locality\",\n",
    "            \"address_region\",\n",
    "            \"address_code\",\n",
    "            \"date_sold\",\n",
    "            \"mortgage\",\n",
    "            \"info_type\",\n",
    "            \"info_bedrooms\",\n",
    "            \"info_bathrooms\",\n",
    "            \"info_size\",\n",
    "            \"info_lot_size\",\n",
    "            \"info_year_built\",\n",
    "            \"info_est_value\",\n",
    "            \"info_sold_price\",\n",
    "            \"info_property_id\",\n",
    "            \"info_county\",\n",
    "            \"info_parcel_number\",\n",
    "            \"taxes_land\",\n",
    "            \"taxes_improvements\",\n",
    "            \"taxes_total\",\n",
    "            \"taxes_taxes\",\n",
    "            \"school\",\n",
    "            \"total_crime\",\n",
    "            \"violent_crime\",\n",
    "            \"property_crime\",\n",
    "            \"foreclosures\",\n",
    "        )\n",
    "\n",
    "        # Ghi các tên cột vào file output, mỗi cột ngăn cách bởi \"\\t\".\n",
    "        fOut.write(f\"{tab.join(headers)}\\n\")\n",
    "\n",
    "        # Duyệt từng line trong file Input (json).\n",
    "        for line in fIn:\n",
    "            row = json.loads(line)\n",
    "\n",
    "            # Lấy địa chỉ\n",
    "            address = row.get(\"address\")\n",
    "            address_street = address.get(\"street\")\n",
    "            address_locality = address.get(\"locality\")\n",
    "            address_region = address.get(\"region\")\n",
    "            address_code = address.get(\"code\")\n",
    "\n",
    "            # Lấy ngày bán thành công.\n",
    "            date_sold = row.get(\"date_sold\")\n",
    "\n",
    "            # Lấy giá cho thuê mỗi tháng (trước khi được bán).\n",
    "            mortgage = row.get(\"mortgage\")\n",
    "            if mortgage is not None:\n",
    "                mortgage = float(mortgage.replace(\"$\",\"\").replace(\",\",\"\").replace(\"/mo\",\"\").replace(\"Est. Refinance: \", \"\"))\n",
    "\n",
    "            # Lấy phần info\n",
    "            info = row.get(\"info\")\n",
    "\n",
    "            # Type.\n",
    "            info_type = info.get(\"type\")\n",
    "\n",
    "            # Bedrooms.\n",
    "            info_bedrooms = info.get(\"bedrooms\")\n",
    "            if info_bedrooms == \"Contact Agent\":\n",
    "                info_bedrooms = None\n",
    "            else:\n",
    "                info_bedrooms = float(info_bedrooms)\n",
    "\n",
    "            # Bathrooms.\n",
    "            info_bathrooms = info.get(\"bathrooms\")\n",
    "            if info_bathrooms == \"Contact Agent\":\n",
    "                info_bathrooms = None\n",
    "            else:\n",
    "                info_bathrooms = float(info_bathrooms)\n",
    "\n",
    "            # Size.\n",
    "            info_size = info.get(\"size\")\n",
    "            if info_size == \"Contact Agent\":\n",
    "                info_size = None\n",
    "            else:\n",
    "                info_size = float(info_size.replace(\",\", \"\").replace(\" sqft\", \"\"))\n",
    "\n",
    "            # Lot size.\n",
    "            info_lot_size = info.get(\"lot_size\")\n",
    "            if info_lot_size == \"Contact Agent\":\n",
    "                info_lot_size = None\n",
    "            else:\n",
    "                info_lot_size = float(info_lot_size.replace(\",\", \"\").replace(\" sqft\", \"\").replace(\" acres\", \"\"))\n",
    "\n",
    "            # Year build.\n",
    "            info_year_built = info.get(\"year_built\")\n",
    "            if info_year_built  == \"Contact Agent\":\n",
    "                info_year_built = None\n",
    "            else:\n",
    "                info_year_built = int(info_year_built)\n",
    "\n",
    "            # Est value.\n",
    "            info_est_value = info.get(\"est._value\")\n",
    "            if info_est_value is not None:\n",
    "                info_est_value = float(info_est_value.replace(\"$\", \"\").replace(\",\",\"\"))\n",
    "\n",
    "            # Sold price.\n",
    "            info_sold_price = info.get(\"sold_price\")\n",
    "            if info_sold_price is not None:\n",
    "                if info_sold_price != \"N/A\":\n",
    "                    info_sold_price = float(info_sold_price.replace(\"$\", \"\").replace(\",\", \"\"))\n",
    "\n",
    "            # ID.\n",
    "            info_property_id = info.get(\"property_id\")\n",
    "\n",
    "            # County.\n",
    "            info_county = info.get(\"county\")\n",
    "\n",
    "            # Parcel_number.\n",
    "            info_parcel_number = info.get(\"parcel_number\")\n",
    "\n",
    "            # Lấy phần Taxes.\n",
    "            taxes = row.get(\"property_taxes\")\n",
    "            taxes_land = None\n",
    "            taxes_improvements = None\n",
    "            taxes_total = None\n",
    "            taxes_taxes = None\n",
    "            if taxes is not None:\n",
    "                taxes_land = float(taxes.get(\"land\").replace(\"$\", \"\").replace(\",\", \"\"))\n",
    "                taxes_improvements = float(taxes.get(\"improvements\").replace(\"$\", \"\").replace(\",\", \"\"))\n",
    "                taxes_total = float(taxes.get(\"total\").replace(\"$\", \"\").replace(\",\", \"\"))\n",
    "                taxes_taxes = taxes.get(\"taxes\").replace(\"$\", \"\").replace(\",\", \"\")\n",
    "\n",
    "            # Lấy số lượng scholl gần đó.\n",
    "            school = int(row.get(\"school\"))\n",
    "\n",
    "            # Lấy tình hình tội phạm.\n",
    "            crime = row.get(\"local_crime_index\")\n",
    "            if crime is not None:\n",
    "                total_crime = crime.get(\"total_crime\")\n",
    "                if total_crime is not None:\n",
    "                    total_crime = int(total_crime)\n",
    "                violent_crime = crime.get(\"violent_crime\")\n",
    "                if violent_crime is not None:\n",
    "                    violent_crime = int(violent_crime)\n",
    "                property_crime = crime.get(\"property_crime\")\n",
    "                if property_crime is not None:\n",
    "                    property_crime = int(property_crime)\n",
    "\n",
    "            # Lấy số lượng foreclosures gần đó.\n",
    "            foreclosures = int(row.get(\"foreclosures\"))\n",
    "\n",
    "            # Row này là tổng hợp các thông tin lấy được ở trên.\n",
    "            row = (\n",
    "                xstr(address_street),\n",
    "                xstr(address_locality),\n",
    "                xstr(address_region),\n",
    "                xstr(address_code),\n",
    "                xstr(date_sold),\n",
    "                xstr(mortgage),\n",
    "                xstr(info_type),\n",
    "                xstr(info_bedrooms),\n",
    "                xstr(info_bathrooms),\n",
    "                xstr(info_size),\n",
    "                xstr(info_lot_size),\n",
    "                xstr(info_year_built),\n",
    "                xstr(info_est_value),\n",
    "                xstr(info_sold_price),\n",
    "                xstr(info_property_id),\n",
    "                xstr(info_county),\n",
    "                xstr(info_parcel_number),\n",
    "                xstr(taxes_land),\n",
    "                xstr(taxes_improvements),\n",
    "                xstr(taxes_total),\n",
    "                xstr(taxes_taxes),\n",
    "                xstr(school),\n",
    "                xstr(total_crime),\n",
    "                xstr(violent_crime),\n",
    "                xstr(property_crime),\n",
    "                xstr(foreclosures),\n",
    "            )\n",
    "\n",
    "            # Ghi xuống file output\n",
    "            fOut.write(f\"{tab.join(row)}\\n\")"
   ]
  },
  {
   "cell_type": "markdown",
   "metadata": {},
   "source": [
    "&#9889; Sở dĩ nhóm không thêm phần `description` vào dữ liệu là bởi vì khi quan sát phần mã `html` của `description` thì phát hiện ra nó được viết theo một `format` nhất định, các thông tin số liệu của nó được lấy từ các bảng số liệu trong cùng một trang web (tức là các phần thông tin nhà, thuế,.. mà mình đã parse ở trên). Nếu số liệu nào có thì sẽ được lấy ra và tạo một câu mô tả theo `format` cho trước, còn số liệu nào không có thì hiển nhiên không xuất hiện câu đó. Như vậy, có thể kết luận là phần `description` lúc này sẽ không giúp ích gì cho chúng ta."
   ]
  },
  {
   "cell_type": "code",
   "execution_count": null,
   "metadata": {},
   "outputs": [],
   "source": [
    "inputFile = \"data/full-orange-county.json\"\n",
    "outputFile = \"data/orange-county.csv\"\n",
    "preprocessFile(inputFile, outputFile)"
   ]
  },
  {
   "cell_type": "markdown",
   "metadata": {},
   "source": [
    "## 3.2. Lựa chọn dữ liệu của năm 2019 và có \"correct ouput\""
   ]
  },
  {
   "cell_type": "code",
   "execution_count": null,
   "metadata": {},
   "outputs": [],
   "source": [
    "# Import các thư viện cần thiết.\n",
    "import pandas as pd"
   ]
  },
  {
   "cell_type": "markdown",
   "metadata": {},
   "source": [
    "### 3.2.1 Xóa dữ liệu trùng"
   ]
  },
  {
   "cell_type": "markdown",
   "metadata": {},
   "source": [
    "#### Dữ liệu ban đầu"
   ]
  },
  {
   "cell_type": "code",
   "execution_count": null,
   "metadata": {},
   "outputs": [],
   "source": [
    "# Đọc dữ liệu lên\n",
    "file_csv = \"data/Orange-County/orange-county.csv\"\n",
    "data_df =  pd.read_csv(file_csv, sep='\\t')\n",
    "data_df.head(10)"
   ]
  },
  {
   "cell_type": "code",
   "execution_count": null,
   "metadata": {
    "scrolled": true
   },
   "outputs": [],
   "source": [
    "data_df.info()"
   ]
  },
  {
   "cell_type": "markdown",
   "metadata": {},
   "source": [
    "Dữ liệu ban đầu có 21268 dòng."
   ]
  },
  {
   "cell_type": "markdown",
   "metadata": {},
   "source": [
    "#### Dữ liệu sau khi xóa trùng"
   ]
  },
  {
   "cell_type": "code",
   "execution_count": null,
   "metadata": {},
   "outputs": [],
   "source": [
    "# Xóa các phần dữ liệu bị trùng\n",
    "unique_data_df = data_df.drop_duplicates()"
   ]
  },
  {
   "cell_type": "code",
   "execution_count": null,
   "metadata": {},
   "outputs": [],
   "source": [
    "# Xem phần dữ liệu khi đã xóa trùng\n",
    "unique_data_df.info()"
   ]
  },
  {
   "cell_type": "markdown",
   "metadata": {},
   "source": [
    "Dữ liệu sau khi xóa trùng còn lại 18893 dòng."
   ]
  },
  {
   "cell_type": "code",
   "execution_count": null,
   "metadata": {},
   "outputs": [],
   "source": [
    "# Ghi dữ liệu xuống file csv\n",
    "unique_data_df.to_csv(\"data/Orange-County/delete-duplicate-orange.csv\", sep='\\t', index=False)"
   ]
  },
  {
   "cell_type": "markdown",
   "metadata": {},
   "source": [
    "### 3.2.2. Lấy dữ liệu của năm 2019"
   ]
  },
  {
   "cell_type": "code",
   "execution_count": null,
   "metadata": {},
   "outputs": [],
   "source": [
    "# Đọc dữ liệu lên\n",
    "df = pd.read_csv(\"data/Orange-County/delete-duplicate-orange.csv\", sep='\\t')\n",
    "df.head(10)"
   ]
  },
  {
   "cell_type": "code",
   "execution_count": null,
   "metadata": {},
   "outputs": [],
   "source": [
    "df.info()"
   ]
  },
  {
   "cell_type": "code",
   "execution_count": null,
   "metadata": {},
   "outputs": [],
   "source": [
    "# Thêm cột năm bán vào dữ liệu\n",
    "df = df.assign(year_sold=df.date_sold.str[-4:])"
   ]
  },
  {
   "cell_type": "code",
   "execution_count": null,
   "metadata": {},
   "outputs": [],
   "source": [
    "# Xem dữ liệu này thu thập của các năm nào\n",
    "df.year_sold.unique()"
   ]
  },
  {
   "cell_type": "code",
   "execution_count": null,
   "metadata": {},
   "outputs": [],
   "source": [
    "# Chỉ lấy phần dữ liệu của năm 2019\n",
    "df = df[df.year_sold == \"2019\"]\n",
    "df.year_sold = df.year_sold.astype(int)"
   ]
  },
  {
   "cell_type": "code",
   "execution_count": null,
   "metadata": {},
   "outputs": [],
   "source": [
    "# Ghi dữ liệu xuống file csv\n",
    "df.to_csv(\"data/Orange-County/delete-duplicate-orange-2019.csv\", sep='\\t', index=False)"
   ]
  },
  {
   "cell_type": "markdown",
   "metadata": {},
   "source": [
    "### 3.2.3. Lấy dữ liệu của năm 2019 có \"correct output\""
   ]
  },
  {
   "cell_type": "code",
   "execution_count": null,
   "metadata": {},
   "outputs": [],
   "source": [
    "import pandas as pd"
   ]
  },
  {
   "cell_type": "code",
   "execution_count": null,
   "metadata": {},
   "outputs": [],
   "source": [
    "# Đọc dữ liệu\n",
    "data_df = pd.read_csv(\"data/Orange-County/delete-duplicate-orange-2019.csv\", sep='\\t')\n",
    "data_df.head(10)"
   ]
  },
  {
   "cell_type": "code",
   "execution_count": null,
   "metadata": {},
   "outputs": [],
   "source": [
    "data_df.info()"
   ]
  },
  {
   "cell_type": "markdown",
   "metadata": {},
   "source": [
    "Dữ liệu có 16011 căn nhà được bán trong 2019"
   ]
  },
  {
   "cell_type": "markdown",
   "metadata": {},
   "source": [
    "Ta chỉ lấy dữ liệu có `info_sold_price` khác `null`. Như đã nói ở phần cuối của `1.1. Parse HTML` thì không thể tìm kiếm các giá trị chính xác từ phần `decription` để có thể lắp đầy giá trị `null`, mà nếu có tìm cũng chỉ toàn ra giá trị trung bình của các căn nhà được bán lân cận chứ không phải giá trị chính xác của nó."
   ]
  },
  {
   "cell_type": "code",
   "execution_count": null,
   "metadata": {},
   "outputs": [],
   "source": [
    "df = data_df[pd.notna(data_df[\"info_sold_price\"])]"
   ]
  },
  {
   "cell_type": "code",
   "execution_count": null,
   "metadata": {},
   "outputs": [],
   "source": [
    "df.info()"
   ]
  },
  {
   "cell_type": "markdown",
   "metadata": {},
   "source": [
    "Dữ liệu còn lại là 15755.\n",
    "\n",
    "&#9889; Sau khi xóa các dòng có sold_price là `null`. Xem lại cột `info_est_value` thấy toàn `null`, cột này ý nghĩa là giá trị định giá của căn nhà trên các bản rao bán (chưa chốt giá). Nên xóa đi cột này là hoàn toàn hợp lý."
   ]
  },
  {
   "cell_type": "code",
   "execution_count": null,
   "metadata": {},
   "outputs": [],
   "source": [
    "df = df.drop(columns=[\"info_est_value\"])\n",
    "df.info()"
   ]
  },
  {
   "cell_type": "markdown",
   "metadata": {},
   "source": [
    "Ta cần kiểm tra xem ứng với `15755` dòng dữ liệu thì phải có đúng `15755` `info_property_id` hay không?"
   ]
  },
  {
   "cell_type": "code",
   "execution_count": null,
   "metadata": {},
   "outputs": [],
   "source": [
    "len(df.info_property_id.unique())"
   ]
  },
  {
   "cell_type": "markdown",
   "metadata": {},
   "source": [
    "OK ổn vì có đúng `15755` `info_property_id` như mong muốn"
   ]
  },
  {
   "cell_type": "markdown",
   "metadata": {},
   "source": [
    "Bây giờ, ta kiểm tra liệu ứng với mỗi `address_street` liệu chỉ có duy nhất một căn nhà được bán thành công hay không?"
   ]
  },
  {
   "cell_type": "code",
   "execution_count": null,
   "metadata": {},
   "outputs": [],
   "source": [
    "address_street_count = df.address_street.value_counts()\n",
    "address_street_count"
   ]
  },
  {
   "cell_type": "markdown",
   "metadata": {},
   "source": [
    "Như vậy có `38` `address_street` có số lượng nhà bán thành công trong năm 2019 lơn hơn 1, trong đó lại có `1600 S Disneyland Dr` có số lần xuất hiện lên đến con sô `16`, điều này hơi kỳ lạ. Vì vậy, ta cần quan sát thêm về các `addresss_street` kiểu này."
   ]
  },
  {
   "cell_type": "code",
   "execution_count": null,
   "metadata": {},
   "outputs": [],
   "source": [
    "# Lấy tên các addresss_street có số lượng nhà được bán trong năm 2019 nhiều hơn 1\n",
    "duplicate_addresss_street = address_street_count[address_street_count > 1].index\n",
    "duplicate_addresss_street"
   ]
  },
  {
   "cell_type": "code",
   "execution_count": null,
   "metadata": {},
   "outputs": [],
   "source": [
    "len(duplicate_addresss_street)"
   ]
  },
  {
   "cell_type": "markdown",
   "metadata": {},
   "source": [
    "Xem thử tất cả các dòng có `address_street` là `1600 S Disneyland Dr` (hay `duplicate_addresss_street[0]`)"
   ]
  },
  {
   "cell_type": "code",
   "execution_count": null,
   "metadata": {},
   "outputs": [],
   "source": [
    "tmp_df = df[df.address_street == duplicate_addresss_street[0]]\n",
    "tmp_df"
   ]
  },
  {
   "cell_type": "code",
   "execution_count": null,
   "metadata": {},
   "outputs": [],
   "source": [
    "tmp_df.info_sold_price"
   ]
  },
  {
   "cell_type": "markdown",
   "metadata": {},
   "source": [
    "Đối với những dòng có cùng `address_street` mà lại khác `date_sold` và `info_sold_price` thì nên bỏ là hợp lý và khó có thể lấy được chính xác giá trị `sold_price`."
   ]
  },
  {
   "cell_type": "markdown",
   "metadata": {},
   "source": [
    "Tiếp tục, xem thử tất cả các dòng có `address_street` là `200 W Midway Dr ` (hay `duplicate_addresss_street[1]`)"
   ]
  },
  {
   "cell_type": "code",
   "execution_count": null,
   "metadata": {},
   "outputs": [],
   "source": [
    "tmp_df = df[df.address_street == duplicate_addresss_street[1]]\n",
    "tmp_df"
   ]
  },
  {
   "cell_type": "code",
   "execution_count": null,
   "metadata": {},
   "outputs": [],
   "source": [
    "tmp_df.info_sold_price"
   ]
  },
  {
   "cell_type": "markdown",
   "metadata": {},
   "source": [
    "Mặc dù có cùng `address_street`, cùng `date_sold` và cùng `info_sold_price` nhưng lại có các giá trị `taxes` thay đổi một cách kỳ lại + với các thông tin chính (`info_bedrooms`, `info_bathroooms`,...) bị thiếu. Phần các thông tin chính này có thể giải quyết bằng `fill miss value` (`mean`, `median`, `most`,...) nhưng phần `taxes` thì nhóm không biết xác định như thế nào cho hợp lý và gần chính xác nhất. Nên quyết định bỏ luôn các dòng dạng này."
   ]
  },
  {
   "cell_type": "code",
   "execution_count": null,
   "metadata": {},
   "outputs": [],
   "source": [
    "sum(address_street_count[address_street_count > 1])"
   ]
  },
  {
   "cell_type": "markdown",
   "metadata": {},
   "source": [
    "Có `106` dòng dữ liệu bị như thế, so với `15755` dòng dữ liệu hiện có thì chúng chưa chiếm đến `1%` nên nhóm quyết định bỏ đi là hợp lý."
   ]
  },
  {
   "cell_type": "code",
   "execution_count": null,
   "metadata": {},
   "outputs": [],
   "source": [
    "df = df[~df.address_street.isin(duplicate_addresss_street)]\n",
    "df.info()"
   ]
  },
  {
   "cell_type": "code",
   "execution_count": null,
   "metadata": {},
   "outputs": [],
   "source": [
    "# Ghi dữ liệu xuống file csv.\n",
    "df.to_csv(\"data/Orange-County/data-2019.csv\", sep='\\t', index=False)"
   ]
  },
  {
   "cell_type": "markdown",
   "metadata": {},
   "source": [
    "#### Tách dữ liệu thành 2 tập train và test theo tỉ lệ 80% 20%"
   ]
  },
  {
   "cell_type": "code",
   "execution_count": null,
   "metadata": {},
   "outputs": [],
   "source": [
    "# Đọc dữ liệu lên\n",
    "data_df = pd.read_csv(\"data/Orange-County/data-2019.csv\", sep='\\t')\n",
    "data_df.head()"
   ]
  },
  {
   "cell_type": "code",
   "execution_count": null,
   "metadata": {},
   "outputs": [],
   "source": [
    "data_df.info()"
   ]
  },
  {
   "cell_type": "code",
   "execution_count": null,
   "metadata": {},
   "outputs": [],
   "source": [
    "from sklearn.model_selection import train_test_split"
   ]
  },
  {
   "cell_type": "code",
   "execution_count": null,
   "metadata": {},
   "outputs": [],
   "source": [
    "# Đổi tên\n",
    "data_df = data_df.rename(columns={\"info_sold_price\": \"sold_price\"})"
   ]
  },
  {
   "cell_type": "code",
   "execution_count": null,
   "metadata": {},
   "outputs": [],
   "source": [
    "# Tách dữ liệu theo tỉ lệ 80% và 20%\n",
    "train, test = train_test_split(data_df, test_size=0.2, random_state=0)\n",
    "train.head().index"
   ]
  },
  {
   "cell_type": "markdown",
   "metadata": {},
   "source": [
    "&#9889; Nhóm đã cố định `random_state` trong `train_test_split` để đảm bảo kết quả của thầy ra giống với của nhóm. Kết quả của câu lệnh `train.head().index` của nhóm ra 5 giá trị là: [2746, 8859, 11288, 2153, 12119]. "
   ]
  },
  {
   "cell_type": "code",
   "execution_count": null,
   "metadata": {},
   "outputs": [],
   "source": [
    "train.info()"
   ]
  },
  {
   "cell_type": "code",
   "execution_count": null,
   "metadata": {},
   "outputs": [],
   "source": [
    "test.info()"
   ]
  },
  {
   "cell_type": "code",
   "execution_count": null,
   "metadata": {},
   "outputs": [],
   "source": [
    "# Ghi tập train\n",
    "train.to_csv(\"data/Orange-County/train-data-2019.csv\", sep='\\t', index=False)"
   ]
  },
  {
   "cell_type": "code",
   "execution_count": null,
   "metadata": {},
   "outputs": [],
   "source": [
    "# Ghi tập test\n",
    "test.to_csv(\"data/Orange-County/test-data-2019.csv\", sep='\\t', index=False)"
   ]
  },
  {
   "cell_type": "markdown",
   "metadata": {},
   "source": [
    "# 4. Tiền xử lý dữ liệu"
   ]
  },
  {
   "cell_type": "code",
   "execution_count": 1,
   "metadata": {},
   "outputs": [],
   "source": [
    "import pandas as pd\n",
    "from sklearn.model_selection import train_test_split"
   ]
  },
  {
   "cell_type": "code",
   "execution_count": 2,
   "metadata": {},
   "outputs": [
    {
     "data": {
      "text/html": [
       "<div>\n",
       "<style scoped>\n",
       "    .dataframe tbody tr th:only-of-type {\n",
       "        vertical-align: middle;\n",
       "    }\n",
       "\n",
       "    .dataframe tbody tr th {\n",
       "        vertical-align: top;\n",
       "    }\n",
       "\n",
       "    .dataframe thead th {\n",
       "        text-align: right;\n",
       "    }\n",
       "</style>\n",
       "<table border=\"1\" class=\"dataframe\">\n",
       "  <thead>\n",
       "    <tr style=\"text-align: right;\">\n",
       "      <th></th>\n",
       "      <th>address_street</th>\n",
       "      <th>address_locality</th>\n",
       "      <th>address_region</th>\n",
       "      <th>address_code</th>\n",
       "      <th>date_sold</th>\n",
       "      <th>mortgage</th>\n",
       "      <th>info_type</th>\n",
       "      <th>info_bedrooms</th>\n",
       "      <th>info_bathrooms</th>\n",
       "      <th>info_size</th>\n",
       "      <th>...</th>\n",
       "      <th>taxes_land</th>\n",
       "      <th>taxes_improvements</th>\n",
       "      <th>taxes_total</th>\n",
       "      <th>taxes_taxes</th>\n",
       "      <th>school</th>\n",
       "      <th>total_crime</th>\n",
       "      <th>violent_crime</th>\n",
       "      <th>property_crime</th>\n",
       "      <th>foreclosures</th>\n",
       "      <th>year_sold</th>\n",
       "    </tr>\n",
       "  </thead>\n",
       "  <tbody>\n",
       "    <tr>\n",
       "      <th>0</th>\n",
       "      <td>13242 Amarillo Dr</td>\n",
       "      <td>Westminster</td>\n",
       "      <td>CA</td>\n",
       "      <td>92683</td>\n",
       "      <td>10/24/2019</td>\n",
       "      <td>3157.0</td>\n",
       "      <td>Single Family Residence</td>\n",
       "      <td>3.0</td>\n",
       "      <td>1.0</td>\n",
       "      <td>1090.0</td>\n",
       "      <td>...</td>\n",
       "      <td>508260.0</td>\n",
       "      <td>54780.0</td>\n",
       "      <td>563040.0</td>\n",
       "      <td>6969 (1.23 %)</td>\n",
       "      <td>3</td>\n",
       "      <td>97.0</td>\n",
       "      <td>79.0</td>\n",
       "      <td>140.0</td>\n",
       "      <td>4</td>\n",
       "      <td>2019</td>\n",
       "    </tr>\n",
       "    <tr>\n",
       "      <th>1</th>\n",
       "      <td>716 S Palomino Ln</td>\n",
       "      <td>Anaheim</td>\n",
       "      <td>CA</td>\n",
       "      <td>92807</td>\n",
       "      <td>08/16/2019</td>\n",
       "      <td>2748.0</td>\n",
       "      <td>Single Family Residence</td>\n",
       "      <td>3.0</td>\n",
       "      <td>3.0</td>\n",
       "      <td>1582.0</td>\n",
       "      <td>...</td>\n",
       "      <td>371674.0</td>\n",
       "      <td>148526.0</td>\n",
       "      <td>520200.0</td>\n",
       "      <td>5527 (1.06 %)</td>\n",
       "      <td>3</td>\n",
       "      <td>88.0</td>\n",
       "      <td>71.0</td>\n",
       "      <td>127.0</td>\n",
       "      <td>4</td>\n",
       "      <td>2019</td>\n",
       "    </tr>\n",
       "    <tr>\n",
       "      <th>2</th>\n",
       "      <td>19702 Lancewood Plz</td>\n",
       "      <td>Yorba Linda</td>\n",
       "      <td>CA</td>\n",
       "      <td>92886</td>\n",
       "      <td>07/23/2019</td>\n",
       "      <td>2966.0</td>\n",
       "      <td>Single Family Residence</td>\n",
       "      <td>4.0</td>\n",
       "      <td>2.0</td>\n",
       "      <td>1440.0</td>\n",
       "      <td>...</td>\n",
       "      <td>29459.0</td>\n",
       "      <td>43373.0</td>\n",
       "      <td>72832.0</td>\n",
       "      <td>1240 (1.70 %)</td>\n",
       "      <td>3</td>\n",
       "      <td>22.0</td>\n",
       "      <td>12.0</td>\n",
       "      <td>44.0</td>\n",
       "      <td>4</td>\n",
       "      <td>2019</td>\n",
       "    </tr>\n",
       "    <tr>\n",
       "      <th>3</th>\n",
       "      <td>25885 Trabuco Rd Apt 59</td>\n",
       "      <td>Lake Forest</td>\n",
       "      <td>CA</td>\n",
       "      <td>92630</td>\n",
       "      <td>10/30/2019</td>\n",
       "      <td>1726.0</td>\n",
       "      <td>Condominium</td>\n",
       "      <td>2.0</td>\n",
       "      <td>2.0</td>\n",
       "      <td>1190.0</td>\n",
       "      <td>...</td>\n",
       "      <td>112879.0</td>\n",
       "      <td>93656.0</td>\n",
       "      <td>206535.0</td>\n",
       "      <td>2096 (1.01 %)</td>\n",
       "      <td>3</td>\n",
       "      <td>29.0</td>\n",
       "      <td>23.0</td>\n",
       "      <td>42.0</td>\n",
       "      <td>4</td>\n",
       "      <td>2019</td>\n",
       "    </tr>\n",
       "    <tr>\n",
       "      <th>4</th>\n",
       "      <td>6742 Gate Hill Cir</td>\n",
       "      <td>Huntington Beach</td>\n",
       "      <td>CA</td>\n",
       "      <td>92648</td>\n",
       "      <td>07/15/2019</td>\n",
       "      <td>5860.0</td>\n",
       "      <td>Single Family Residence</td>\n",
       "      <td>4.0</td>\n",
       "      <td>3.0</td>\n",
       "      <td>2193.0</td>\n",
       "      <td>...</td>\n",
       "      <td>159764.0</td>\n",
       "      <td>148957.0</td>\n",
       "      <td>308721.0</td>\n",
       "      <td>3706 (1.20 %)</td>\n",
       "      <td>3</td>\n",
       "      <td>57.0</td>\n",
       "      <td>47.0</td>\n",
       "      <td>82.0</td>\n",
       "      <td>4</td>\n",
       "      <td>2019</td>\n",
       "    </tr>\n",
       "  </tbody>\n",
       "</table>\n",
       "<p>5 rows × 26 columns</p>\n",
       "</div>"
      ],
      "text/plain": [
       "            address_street  address_locality address_region  address_code  \\\n",
       "0        13242 Amarillo Dr       Westminster             CA         92683   \n",
       "1        716 S Palomino Ln           Anaheim             CA         92807   \n",
       "2      19702 Lancewood Plz       Yorba Linda             CA         92886   \n",
       "3  25885 Trabuco Rd Apt 59       Lake Forest             CA         92630   \n",
       "4       6742 Gate Hill Cir  Huntington Beach             CA         92648   \n",
       "\n",
       "    date_sold  mortgage                info_type  info_bedrooms  \\\n",
       "0  10/24/2019    3157.0  Single Family Residence            3.0   \n",
       "1  08/16/2019    2748.0  Single Family Residence            3.0   \n",
       "2  07/23/2019    2966.0  Single Family Residence            4.0   \n",
       "3  10/30/2019    1726.0              Condominium            2.0   \n",
       "4  07/15/2019    5860.0  Single Family Residence            4.0   \n",
       "\n",
       "   info_bathrooms  info_size  ...  taxes_land  taxes_improvements  \\\n",
       "0             1.0     1090.0  ...    508260.0             54780.0   \n",
       "1             3.0     1582.0  ...    371674.0            148526.0   \n",
       "2             2.0     1440.0  ...     29459.0             43373.0   \n",
       "3             2.0     1190.0  ...    112879.0             93656.0   \n",
       "4             3.0     2193.0  ...    159764.0            148957.0   \n",
       "\n",
       "   taxes_total    taxes_taxes school  total_crime  violent_crime  \\\n",
       "0     563040.0  6969 (1.23 %)      3         97.0           79.0   \n",
       "1     520200.0  5527 (1.06 %)      3         88.0           71.0   \n",
       "2      72832.0  1240 (1.70 %)      3         22.0           12.0   \n",
       "3     206535.0  2096 (1.01 %)      3         29.0           23.0   \n",
       "4     308721.0  3706 (1.20 %)      3         57.0           47.0   \n",
       "\n",
       "   property_crime  foreclosures year_sold  \n",
       "0           140.0             4      2019  \n",
       "1           127.0             4      2019  \n",
       "2            44.0             4      2019  \n",
       "3            42.0             4      2019  \n",
       "4            82.0             4      2019  \n",
       "\n",
       "[5 rows x 26 columns]"
      ]
     },
     "execution_count": 2,
     "metadata": {},
     "output_type": "execute_result"
    }
   ],
   "source": [
    "data_df = pd.read_csv(\"data/Orange-County/train-data-2019.csv\", sep='\\t')\n",
    "data_df.head()"
   ]
  },
  {
   "cell_type": "code",
   "execution_count": null,
   "metadata": {},
   "outputs": [],
   "source": [
    "data_df.info()"
   ]
  },
  {
   "cell_type": "markdown",
   "metadata": {},
   "source": [
    "Tập train có `12519` dòng dữ liệu và `26` cột."
   ]
  },
  {
   "cell_type": "code",
   "execution_count": null,
   "metadata": {},
   "outputs": [],
   "source": [
    "data_df.describe(include=\"all\")"
   ]
  },
  {
   "cell_type": "markdown",
   "metadata": {},
   "source": [
    "## 4.1. Tách tập dữ liệu thành 2 phần train (70%) và validation (30%)"
   ]
  },
  {
   "cell_type": "code",
   "execution_count": 5,
   "metadata": {},
   "outputs": [],
   "source": [
    "# Tách X và y\n",
    "y_sr = data_df[\"sold_price\"] # sr là viết tắt của series\n",
    "X_df = data_df.drop(\"sold_price\", axis=1)"
   ]
  },
  {
   "cell_type": "code",
   "execution_count": 6,
   "metadata": {},
   "outputs": [
    {
     "data": {
      "text/plain": [
       "Int64Index([10747, 12214, 5916, 489, 12257], dtype='int64')"
      ]
     },
     "execution_count": 6,
     "metadata": {},
     "output_type": "execute_result"
    }
   ],
   "source": [
    "# Tách tập train và tập validation theo tỉ lệ 70%:30%\n",
    "train_X_df, val_X_df, train_y_sr, val_y_sr = train_test_split(X_df, y_sr, test_size=0.3, random_state=0)\n",
    "train_X_df.head().index"
   ]
  },
  {
   "cell_type": "markdown",
   "metadata": {},
   "source": [
    "&#9889; Nhóm đã cố định `random_state` trong `train_test_split` để đảm bảo kết quả của thầy ra giống với của nhóm. Kết quả của câu lệnh `train_X_df.head().index` của nhóm ra 5 giá trị là: [10747, 12214, 5916, 489, 12257]. "
   ]
  },
  {
   "cell_type": "code",
   "execution_count": null,
   "metadata": {},
   "outputs": [],
   "source": [
    "train_X_df.info()"
   ]
  },
  {
   "cell_type": "markdown",
   "metadata": {},
   "source": [
    "`train_X_df` có `8763` dòng dữ liệu và `25` cột."
   ]
  },
  {
   "cell_type": "code",
   "execution_count": null,
   "metadata": {},
   "outputs": [],
   "source": [
    "val_X_df.info()"
   ]
  },
  {
   "cell_type": "markdown",
   "metadata": {},
   "source": [
    "`val_X_df` có `3756` dòng dữ liệu và `25` cột."
   ]
  },
  {
   "cell_type": "markdown",
   "metadata": {},
   "source": [
    "## 4.2. Quan sát và lựa chọn dữ liệu bằng kiến thức cá nhân trên tập train (`train_X_df` và `train_y_sr`)"
   ]
  },
  {
   "cell_type": "markdown",
   "metadata": {},
   "source": [
    "### 4.2.1. Quan sát cột `address_street`"
   ]
  },
  {
   "cell_type": "code",
   "execution_count": null,
   "metadata": {},
   "outputs": [],
   "source": [
    "# https://stackoverflow.com/questions/55105280/how-to-extract-apartment-from-address-in-pandas\n",
    "pat = r'^(?P<number>\\d+)?(?P<direction>.\\w(?= ))?(?P<street>.+(?=\\bapt|\\bunit)|.+(?=#)|.+)(?P<apt_unit>(?:\\bapt|\\bunit|#|).+)?'\n",
    "lower_address_street = train_X_df.address_street.str.lower()\n",
    "tmp = lower_address_street.str.extract(pat)\n",
    "tmp"
   ]
  },
  {
   "cell_type": "code",
   "execution_count": null,
   "metadata": {},
   "outputs": [],
   "source": [
    "train_X_df.iloc[10]"
   ]
  },
  {
   "cell_type": "code",
   "execution_count": null,
   "metadata": {},
   "outputs": [],
   "source": [
    "tmp[\"street\"].value_counts()"
   ]
  },
  {
   "cell_type": "code",
   "execution_count": null,
   "metadata": {},
   "outputs": [],
   "source": [
    "sum(tmp[\"street\"].value_counts() > 1)"
   ]
  },
  {
   "cell_type": "code",
   "execution_count": null,
   "metadata": {},
   "outputs": [],
   "source": [
    "len(tmp[\"street\"].unique())"
   ]
  },
  {
   "cell_type": "markdown",
   "metadata": {},
   "source": [
    "Theo kết quả tìm kiếm trên internet (https://cartographic.info/usa/street/show.php?p=california&t=Orange%20County) thì có `280` tên đường lớn tại `Orange County`. Vậy trong danh sách mà nhóm parse được có đến `6051` tên đường khác nhau, chắc bao gồm những con đường nhỏ. Việc dùng `street` cho huấn luyện mô hình sẽ không hiệu quả, vì khi đưa vào mô hình bằng phương pháp one-hot chắc chắn sẽ tạo ra số chiều rất lớn và với một số địa chỉ xuất hiện rất ít dễ dẫn đén overfitting."
   ]
  },
  {
   "cell_type": "code",
   "execution_count": null,
   "metadata": {},
   "outputs": [],
   "source": [
    "len(tmp[pd.notna(tmp[\"apt_unit\"])])"
   ]
  },
  {
   "cell_type": "markdown",
   "metadata": {},
   "source": [
    "Nhóm sẽ xóa cột `address_street` và thêm cột `apt_unit` được rút trích ở trên vào dữ liệu ở bước tiền xử lý dữ liệu, cột này chỉ có 2 giá trị (`True`/`False`)"
   ]
  },
  {
   "cell_type": "markdown",
   "metadata": {},
   "source": [
    "### 4.2.2. Quan sát các cột `address_locality`, `address_region` và `address_code`"
   ]
  },
  {
   "cell_type": "markdown",
   "metadata": {},
   "source": [
    "&#9889; Theo tìm hiểu của nhóm, `address_code` là tổng hợp từ `address_locality` và `address_region`"
   ]
  },
  {
   "cell_type": "code",
   "execution_count": null,
   "metadata": {},
   "outputs": [],
   "source": [
    "unique_code = train_X_df.address_code.unique()\n",
    "len(unique_code)"
   ]
  },
  {
   "cell_type": "code",
   "execution_count": null,
   "metadata": {},
   "outputs": [],
   "source": [
    "train_X_df.address_code.value_counts()"
   ]
  },
  {
   "cell_type": "code",
   "execution_count": null,
   "metadata": {},
   "outputs": [],
   "source": [
    "for code in unique_code:\n",
    "    tmp_df = train_X_df[train_X_df.address_code == code]\n",
    "    print(\"Code: \" + str(code))\n",
    "    print(\"\\n + Locality: \" + str(tmp_df.address_locality.unique()))\n",
    "    print(\"\\n + Region: \" + str(tmp_df.address_region.unique()))\n",
    "    print(\"\\n\")"
   ]
  },
  {
   "cell_type": "markdown",
   "metadata": {},
   "source": [
    "Theo nhóm tìm hiểu thì mã `code` (`address_code`) kia là mã bưu điện, mã này có thể dùng cho nhiều `locality` ở gần nhau, do đó ta kết quả như ở trên là hoàn toàn bình thường. Giờ nhóm quyết định bỏ 2 cột `address_locality` và `addres_region`, chỉ giữ lại cột `address_code` là đủ."
   ]
  },
  {
   "cell_type": "markdown",
   "metadata": {},
   "source": [
    "2. Xem thử cột `address_code` có bao nhiêu giá trị thiếu"
   ]
  },
  {
   "cell_type": "code",
   "execution_count": null,
   "metadata": {},
   "outputs": [],
   "source": [
    "num_miss_code = train_X_df.shape[0] - len(train_X_df[pd.notna(train_X_df.address_code)])\n",
    "print(\"The number of missing values (column 'address_code'): \" + str(num_miss_code))"
   ]
  },
  {
   "cell_type": "markdown",
   "metadata": {},
   "source": [
    "Good. Cột `address_code` không có giá trị thiếu."
   ]
  },
  {
   "cell_type": "markdown",
   "metadata": {},
   "source": [
    "### 4.2.3. Quan sát cột `date_sold`"
   ]
  },
  {
   "cell_type": "markdown",
   "metadata": {},
   "source": [
    "Đây là cột dạng chuỗi có giá trị rời rạc không thứ tự (categorical)"
   ]
  },
  {
   "cell_type": "markdown",
   "metadata": {},
   "source": [
    "1. Xem thử cột `date_sold` có bao nhiêu giá trị thiếu"
   ]
  },
  {
   "cell_type": "code",
   "execution_count": null,
   "metadata": {},
   "outputs": [],
   "source": [
    "num_miss_date_sold = train_X_df.shape[0] - len(train_X_df[pd.notna(train_X_df.date_sold)])\n",
    "print(\"The number of missing values (column 'date_sold'): \" + str(num_miss_date_sold))"
   ]
  },
  {
   "cell_type": "markdown",
   "metadata": {},
   "source": [
    "Good. Cột `date_sold` không có giá trị thiếu."
   ]
  },
  {
   "cell_type": "markdown",
   "metadata": {},
   "source": [
    "2. Rút trích thông tin từ cột `date_sold`"
   ]
  },
  {
   "cell_type": "code",
   "execution_count": null,
   "metadata": {},
   "outputs": [],
   "source": [
    "train_X_df.date_sold.unique()"
   ]
  },
  {
   "cell_type": "markdown",
   "metadata": {},
   "source": [
    "Cột `date_sold` được ghi dưới dạng `MM/DD/YYYY`. Giờ nhóm sẽ rút trích `Month` từ `date_sold`."
   ]
  },
  {
   "cell_type": "code",
   "execution_count": null,
   "metadata": {},
   "outputs": [],
   "source": [
    "month = train_X_df.date_sold.str[:2].astype(int)\n",
    "sorted(month.unique())"
   ]
  },
  {
   "cell_type": "markdown",
   "metadata": {},
   "source": [
    "Sở dĩ không có tháng `12` là do thời gian lấy dữ liệu của nhóm là đầu tháng `12` nên trang web chưa cập nhật. Về sau ở bước `Xây dựng pipline tiền xử lý dữ liệu`, nhóm sẽ tiến hành xóa cột `date_sold`, thêm cột `Month` và muốn thử để nguyên `11` tháng huấn luyện tốt hơn hay chia ra thành `4` mùa tốt hơn bằng cách đặt thêm cờ hiệu `month_to_seasion`."
   ]
  },
  {
   "cell_type": "code",
   "execution_count": null,
   "metadata": {},
   "outputs": [],
   "source": [
    "# Cách chia month theo 4 mùa\n",
    "season = (month%12 + 3)//3\n",
    "season.value_counts()"
   ]
  },
  {
   "cell_type": "markdown",
   "metadata": {},
   "source": [
    "### 4.2.4. Quan sát cột `mortgage`"
   ]
  },
  {
   "cell_type": "markdown",
   "metadata": {},
   "source": [
    "Đây là cột dạng số (numerical) - float64"
   ]
  },
  {
   "cell_type": "markdown",
   "metadata": {},
   "source": [
    "`mortgage` là tiền cho thuê tính theo tháng của căn nhà khi chưa được bán, nó cũng gần gần để suy ra `sold_price` rồi."
   ]
  },
  {
   "cell_type": "code",
   "execution_count": null,
   "metadata": {},
   "outputs": [],
   "source": [
    "train_X_df.mortgage.describe()"
   ]
  },
  {
   "cell_type": "markdown",
   "metadata": {},
   "source": [
    "Xem thử cột `mortgage` có bao nhiêu giá trị thiếu"
   ]
  },
  {
   "cell_type": "code",
   "execution_count": null,
   "metadata": {},
   "outputs": [],
   "source": [
    "num_miss_mortgage = train_X_df.shape[0] - len(train_X_df[pd.notna(train_X_df.mortgage)])\n",
    "print(\"The number of missing values (column 'mortgage'): \" + str(num_miss_mortgage))"
   ]
  },
  {
   "cell_type": "markdown",
   "metadata": {},
   "source": [
    "Good. Cột `mortgage` không có giá trị thiếu."
   ]
  },
  {
   "cell_type": "markdown",
   "metadata": {},
   "source": [
    "Nhưng, nhóm lại phát hiện khi lấy `mortgage` nhân cho `220` sẽ ra con số rất gần với giá tiền của căn nhà, nhưng vậy phải xóa `mortgage` đi thì mới áp dụng các mô hình máy học để dự đoán giá nhà được."
   ]
  },
  {
   "cell_type": "markdown",
   "metadata": {},
   "source": [
    "### 4.2.5. Quan sát cột `info_type`"
   ]
  },
  {
   "cell_type": "markdown",
   "metadata": {},
   "source": [
    "Đây là cột dạng chuỗi có giá trị rời rạc không thứ tự (categorical)"
   ]
  },
  {
   "cell_type": "markdown",
   "metadata": {},
   "source": [
    "1. Quan sát các giá trị xuất hiện trong cột và số lượng tương ứng"
   ]
  },
  {
   "cell_type": "code",
   "execution_count": null,
   "metadata": {},
   "outputs": [],
   "source": [
    "len(train_X_df.info_type.unique())"
   ]
  },
  {
   "cell_type": "code",
   "execution_count": null,
   "metadata": {},
   "outputs": [],
   "source": [
    "train_X_df.info_type.value_counts()"
   ]
  },
  {
   "cell_type": "markdown",
   "metadata": {},
   "source": [
    "Có một số giá trị xuất hiện rất ít, nhóm thử dùng thêm tham số `num_top_type` để chọn ra các `info_type` xuất hiện nhiều lần; còn các giá trị nằm ngoài `num_top_type` nhóm sẽ cho là giá trị `Others`. (như `BT03-TienXuLy_ChongOverfit`)"
   ]
  },
  {
   "cell_type": "markdown",
   "metadata": {},
   "source": [
    "2. Xem thử cột `address_type` có bao nhiêu giá trị thiếu"
   ]
  },
  {
   "cell_type": "code",
   "execution_count": null,
   "metadata": {},
   "outputs": [],
   "source": [
    "num_miss_type = train_X_df.shape[0] - len(train_X_df[pd.notna(train_X_df.info_type)])\n",
    "print(\"The number of missing values (column 'info_type'): \" + str(num_miss_type))"
   ]
  },
  {
   "cell_type": "markdown",
   "metadata": {},
   "source": [
    "Good. Cột `info_type` không có giá trị thiếu."
   ]
  },
  {
   "cell_type": "markdown",
   "metadata": {},
   "source": [
    "### 4.2.5. Quan sát cột `info_bedrooms` và cột `info_bathrooms`"
   ]
  },
  {
   "cell_type": "markdown",
   "metadata": {},
   "source": [
    "Đây là cột dạng số (numerical) - float64"
   ]
  },
  {
   "cell_type": "markdown",
   "metadata": {},
   "source": [
    "1. Xem thử cột `info_bedrooms` có bao nhiêu giá trị thiếu và chọn cách để lắp đầy các giá trị thiếu đó."
   ]
  },
  {
   "cell_type": "code",
   "execution_count": null,
   "metadata": {},
   "outputs": [],
   "source": [
    "num_miss_bedrooms = train_X_df.shape[0] - len(train_X_df[pd.notnull(train_X_df.info_bedrooms)])\n",
    "print(\"The number of missing values (column 'info_bedrooms'): \" + str(num_miss_bedrooms))"
   ]
  },
  {
   "cell_type": "markdown",
   "metadata": {},
   "source": [
    "Cột `info_bedrooms` có `812` giá trị bị thiếu."
   ]
  },
  {
   "cell_type": "code",
   "execution_count": null,
   "metadata": {},
   "outputs": [],
   "source": [
    "train_X_df.info_bedrooms.value_counts()"
   ]
  },
  {
   "cell_type": "code",
   "execution_count": null,
   "metadata": {},
   "outputs": [],
   "source": [
    "train_X_df.info_bedrooms.describe()"
   ]
  },
  {
   "cell_type": "code",
   "execution_count": null,
   "metadata": {},
   "outputs": [],
   "source": [
    "train_X_df.info_bedrooms.value_counts().sort_index().plot(kind='bar')"
   ]
  },
  {
   "cell_type": "markdown",
   "metadata": {},
   "source": [
    "Do là `bedrooms` và các giá trị của nó là số nguyên, nên nhóm dùng `most` để lắp đầy các giá trị thiếu cho cột `info_bedrooms`"
   ]
  },
  {
   "cell_type": "markdown",
   "metadata": {},
   "source": [
    "2. Xem thử cột `info_bathrooms` có bao nhiêu giá trị thiếu và chọn cách để lắp đầy các giá trị thiếu đó."
   ]
  },
  {
   "cell_type": "code",
   "execution_count": null,
   "metadata": {},
   "outputs": [],
   "source": [
    "num_miss_bathrooms = train_X_df.shape[0] - len(train_X_df[pd.notnull(train_X_df.info_bathrooms)])\n",
    "print(\"The number of missing values (column 'info_bathrooms'): \" + str(num_miss_bathrooms))"
   ]
  },
  {
   "cell_type": "markdown",
   "metadata": {},
   "source": [
    "Cột `info_bathrooms` có `807` giá trị bị thiếu."
   ]
  },
  {
   "cell_type": "code",
   "execution_count": null,
   "metadata": {},
   "outputs": [],
   "source": [
    "train_X_df.info_bathrooms.value_counts()"
   ]
  },
  {
   "cell_type": "code",
   "execution_count": null,
   "metadata": {},
   "outputs": [],
   "source": [
    "train_X_df.info_bathrooms.describe()"
   ]
  },
  {
   "cell_type": "code",
   "execution_count": null,
   "metadata": {},
   "outputs": [],
   "source": [
    "train_X_df.info_bathrooms.value_counts().sort_index().plot(kind='bar')"
   ]
  },
  {
   "cell_type": "markdown",
   "metadata": {},
   "source": [
    "Tương tự nhóm cùng sẽ dùng `most` để lắp đầy các giá trị thiếu cho cột `info_bathrooms`"
   ]
  },
  {
   "cell_type": "markdown",
   "metadata": {},
   "source": [
    "### 4.2.6. Quan sát cột `info_size` và cột `info_lot_size`"
   ]
  },
  {
   "cell_type": "markdown",
   "metadata": {},
   "source": [
    "Đây là cột dạng số (numerical) - float64"
   ]
  },
  {
   "cell_type": "markdown",
   "metadata": {},
   "source": [
    "1. Xem thử cột `info_size` có bao nhiêu giá trị thiếu và chọn cách để lắp đầy các giá trị thiếu đó."
   ]
  },
  {
   "cell_type": "code",
   "execution_count": null,
   "metadata": {},
   "outputs": [],
   "source": [
    "num_miss_size= train_X_df.shape[0] - len(train_X_df[pd.notnull(train_X_df.info_size)])\n",
    "print(\"The number of missing values (column 'info_size'): \" + str(num_miss_size))"
   ]
  },
  {
   "cell_type": "markdown",
   "metadata": {},
   "source": [
    "Cột `info_size` có `402` giá trị bị thiếu."
   ]
  },
  {
   "cell_type": "code",
   "execution_count": null,
   "metadata": {},
   "outputs": [],
   "source": [
    "train_X_df.info_size.value_counts()"
   ]
  },
  {
   "cell_type": "code",
   "execution_count": null,
   "metadata": {},
   "outputs": [],
   "source": [
    "train_X_df.info_size.describe()"
   ]
  },
  {
   "cell_type": "code",
   "execution_count": null,
   "metadata": {},
   "outputs": [],
   "source": [
    "len(train_X_df.info_size.unique())"
   ]
  },
  {
   "cell_type": "markdown",
   "metadata": {},
   "source": [
    "Điền các giá trị thiếu bằng `mean`."
   ]
  },
  {
   "cell_type": "markdown",
   "metadata": {},
   "source": [
    "2. Xem thử cột `info_lot_size` có bao nhiêu giá trị thiếu và chọn cách để lắp đầy các giá trị thiếu đó."
   ]
  },
  {
   "cell_type": "code",
   "execution_count": null,
   "metadata": {},
   "outputs": [],
   "source": [
    "num_miss_lot_size= train_X_df.shape[0] - len(train_X_df[pd.notnull(train_X_df.info_lot_size)])\n",
    "print(\"The number of missing values (column 'info_size'): \" + str(num_miss_lot_size))"
   ]
  },
  {
   "cell_type": "markdown",
   "metadata": {},
   "source": [
    "Cột `info_size` có `2832` giá trị bị thiếu."
   ]
  },
  {
   "cell_type": "code",
   "execution_count": null,
   "metadata": {},
   "outputs": [],
   "source": [
    "train_X_df.info_lot_size.value_counts()"
   ]
  },
  {
   "cell_type": "code",
   "execution_count": null,
   "metadata": {},
   "outputs": [],
   "source": [
    "train_X_df.info_lot_size.describe()"
   ]
  },
  {
   "cell_type": "code",
   "execution_count": null,
   "metadata": {},
   "outputs": [],
   "source": [
    "len(train_X_df.info_lot_size.unique())"
   ]
  },
  {
   "cell_type": "markdown",
   "metadata": {},
   "source": [
    "Điền các giá trị thiếu bằng `mean`."
   ]
  },
  {
   "cell_type": "markdown",
   "metadata": {},
   "source": [
    "### 4.2.7. Quan sát cột `info_year_built`"
   ]
  },
  {
   "cell_type": "markdown",
   "metadata": {},
   "source": [
    "Đây là cột dạng số (numerical) - float64"
   ]
  },
  {
   "cell_type": "markdown",
   "metadata": {},
   "source": [
    "Xem thử cột `info_year_built` có bao nhiêu giá trị thiếu"
   ]
  },
  {
   "cell_type": "code",
   "execution_count": null,
   "metadata": {},
   "outputs": [],
   "source": [
    "num_miss_year_built = train_X_df.shape[0] - len(train_X_df[pd.notnull(train_X_df.info_year_built)])\n",
    "print(\"The number of missing values (column 'info_size'): \" + str(num_miss_year_built))"
   ]
  },
  {
   "cell_type": "markdown",
   "metadata": {},
   "source": [
    "Cột `info_year_built` có `664` giá trị bị thiếu."
   ]
  },
  {
   "cell_type": "code",
   "execution_count": null,
   "metadata": {},
   "outputs": [],
   "source": [
    "train_X_df.info_year_built.unique()"
   ]
  },
  {
   "cell_type": "code",
   "execution_count": null,
   "metadata": {},
   "outputs": [],
   "source": [
    "train_X_df.info_year_built.value_counts()"
   ]
  },
  {
   "cell_type": "code",
   "execution_count": null,
   "metadata": {},
   "outputs": [],
   "source": [
    "train_X_df.info_year_built.describe()"
   ]
  },
  {
   "cell_type": "markdown",
   "metadata": {},
   "source": [
    "Nhóm muốn thử để nguyên các năm mà căn nhà được xây vào huấn luyện là tốt hay chia ra thành khoảng thời gian như: trước 1900, từ 1900 đến 1949, từ 1950 đến 1999, từ 2000 trở về sau. Nhóm đặt cờ hiệu `year_to_period`, nếu là `True` thì chuyển thành các khoảng thời gian để huấn luyện, ngược lại vẫn để nguyên vào huấn luyện."
   ]
  },
  {
   "cell_type": "markdown",
   "metadata": {},
   "source": [
    "### 4.2.8. Quan sát các cột `info_property_id`, `info_county` và `info_parcel_number`"
   ]
  },
  {
   "cell_type": "markdown",
   "metadata": {},
   "source": [
    "- `info_property_id` là cột dạng số (numerical) - int64\n",
    "- `info_county` là cột dạng chuỗi có giá trị rời rạc không thứ tự (categorical)\n",
    "- `info_parcel_number` là cột dạng số (numerical) - int64"
   ]
  },
  {
   "cell_type": "markdown",
   "metadata": {},
   "source": [
    "Bỏ đi các cột này, vì 2 cột `info_property_id` và `info_parcel_number` ứng với mỗi dòng dữ liệu là hoàn toàn khác nhau; còn cột `info_county` thì có giá trị là `Orange County` (do dữ liệu thu thập của Quận Cam)."
   ]
  },
  {
   "cell_type": "markdown",
   "metadata": {},
   "source": [
    "### 4.2.9. Quan sát các cột `taxes_land`, `taxes_improvements`, `taxes_total` và `taxes_taxes`"
   ]
  },
  {
   "cell_type": "markdown",
   "metadata": {},
   "source": [
    "Các cột này đều là cột dạng số (numerical) - float64"
   ]
  },
  {
   "cell_type": "code",
   "execution_count": null,
   "metadata": {},
   "outputs": [],
   "source": [
    "num_miss_taxes = train_X_df.shape[0] - len(train_X_df[pd.notnull(train_X_df.taxes_land)])\n",
    "print(\"The number of missing values (column 'taxes'): \" + str(num_miss_taxes))"
   ]
  },
  {
   "cell_type": "markdown",
   "metadata": {},
   "source": [
    "Có `131` giá trị thiếu cho mỗi cột `taxes_land`, `taxes_improvements`, `taxes_total` và `taxes_taxes`"
   ]
  },
  {
   "cell_type": "markdown",
   "metadata": {},
   "source": [
    "Search cùng `address_code` thì lắp đầy các giá trị thiếu bằng `mean` của các `taxes` trong cùng `address_code`"
   ]
  },
  {
   "cell_type": "markdown",
   "metadata": {},
   "source": [
    "Giữ nguyên các cột `taxes_land`, `taxes_improvements` và bỏ cột `taxes_total`. Giải thích thêm ý nghĩa của các cột này:\n",
    "- Cột `taxes_land` là tiền cải thuế cải tạo đất mà mình phải đóng cho chính phủ.\n",
    "- Cột `taxes_improvements` là tiền mà mình phải trả do sử dụng các tiện ích của chính phủ (cắt cỏ, tiền rác, củng cố hàng rào,...)\n",
    "- Cột `taxes_total` là tổng của 2 cột trên."
   ]
  },
  {
   "cell_type": "markdown",
   "metadata": {},
   "source": [
    "Đối với cột `taxes_taxes` thì nhóm sẽ rút trích số tiền phải trả trong cột này ra."
   ]
  },
  {
   "cell_type": "code",
   "execution_count": null,
   "metadata": {},
   "outputs": [],
   "source": [
    "train_X_df.taxes_taxes"
   ]
  },
  {
   "cell_type": "code",
   "execution_count": null,
   "metadata": {},
   "outputs": [],
   "source": [
    "train_X_df.taxes_taxes.str.extract(r'(\\d+)', expand=False)"
   ]
  },
  {
   "cell_type": "markdown",
   "metadata": {},
   "source": [
    "### 4.2.10. Quan sát cột `school` và cột `foreclosures`"
   ]
  },
  {
   "cell_type": "markdown",
   "metadata": {},
   "source": [
    "Các cột này đều là cột dạng số (numerical) - int64"
   ]
  },
  {
   "cell_type": "markdown",
   "metadata": {},
   "source": [
    "Hai cột này không có giá trị thiếu, nên được giữ nguyên để huấn luyện."
   ]
  },
  {
   "cell_type": "code",
   "execution_count": null,
   "metadata": {},
   "outputs": [],
   "source": [
    "train_X_df.school.value_counts().sort_index().plot(kind='bar')"
   ]
  },
  {
   "cell_type": "code",
   "execution_count": null,
   "metadata": {},
   "outputs": [],
   "source": [
    "train_X_df.foreclosures.value_counts().sort_index().plot(kind='bar')"
   ]
  },
  {
   "cell_type": "markdown",
   "metadata": {},
   "source": [
    "### 4.2.11. Quan sát cột `total_crime`, `violent_crime` và `property_crime`"
   ]
  },
  {
   "cell_type": "markdown",
   "metadata": {},
   "source": [
    "Các cột này đều là cột dạng số (numerical) - float64"
   ]
  },
  {
   "cell_type": "markdown",
   "metadata": {},
   "source": [
    "Giải thích về ý nghĩa của các cột này. Giá trị mà các cột `total_crime`, `violent_crime` và `property_crime` biểu diễn được tính theo % so với tỉ lệ tội phạm quốc gia. Ví dụ `total_crime = 79` thì ở đây tổng số tội phạm là `79%` so với toàn nước (`100%`)."
   ]
  },
  {
   "cell_type": "code",
   "execution_count": null,
   "metadata": {},
   "outputs": [],
   "source": [
    "num_miss_crime = train_X_df.shape[0] - len(train_X_df[pd.notnull(train_X_df.total_crime)])\n",
    "print(\"The number of missing values (column 'taxes'): \" + str(num_miss_crime))"
   ]
  },
  {
   "cell_type": "markdown",
   "metadata": {},
   "source": [
    "Có `265` giá trị thiếu cho mỗi cột `total_crime`, `violent_crime` và `property_crime`"
   ]
  },
  {
   "cell_type": "code",
   "execution_count": null,
   "metadata": {},
   "outputs": [],
   "source": [
    "train_X_df.total_crime.value_counts()"
   ]
  },
  {
   "cell_type": "markdown",
   "metadata": {},
   "source": [
    "Search cùng `address_code` thì lắp đầy các giá trị thiếu bằng `median` của các `crime` trong cùng `address_code`"
   ]
  },
  {
   "cell_type": "markdown",
   "metadata": {},
   "source": [
    "### 4.2.12. Quan sát `correct input` (`sold_price` của ` train_y_sr`)"
   ]
  },
  {
   "cell_type": "markdown",
   "metadata": {},
   "source": [
    "Đây là cột dạng số (numerical) - float64"
   ]
  },
  {
   "cell_type": "code",
   "execution_count": null,
   "metadata": {},
   "outputs": [],
   "source": [
    "train_y_sr.describe()"
   ]
  },
  {
   "cell_type": "code",
   "execution_count": null,
   "metadata": {},
   "outputs": [],
   "source": [
    "train_y_sr.sort_values().sort_index().plot(style='.')"
   ]
  },
  {
   "cell_type": "markdown",
   "metadata": {},
   "source": [
    "## 4.3. Thiết kế pipeline tiền xử lý dữ liệu"
   ]
  },
  {
   "cell_type": "markdown",
   "metadata": {},
   "source": [
    "1. Cột `address_street`: \n",
    "    - Ở đây có 4 thông tin được rút trích (xem  phần `4.2.1. Quan sát cột address_street` ở trên):\n",
    "         + `number`: số nhà, thông tin này không cần thiết cho việc huấn luyện.\n",
    "         + `direction`: hướng (đông, tây, nam, bắc) của đường, thông tin này không cần thiết cho việc huấn luyện.\n",
    "         + `street`: tên đường, theo kết quả parse thì thu được đến 6051 tên đường lớn/nhỏ khác nhau. Nếu đưa tên đường này vào huấn luyện thì có 3 vấn đề: thứ nhất là nếu dùng one-hot để chuyển sang dạng số thì sẽ làm tăng số chiều dữ liệu lên rất nhiều (thêm đến trên 6000 thuộc tính), thứ hai do có khoảng 1500 tên đường chỉ xuất hiện duy nhất một lần trong `train_X_df`, còn các tên đường khác thì cũng có tần số xuất hiện khá thấp (cao nhất chỉ có 16 lần) nên nếu thêm vào huấn luyện có thể dẫn đến overfitting, thứ 3 là nếu như ở tập `validation` hay tập `test` mà có tên đường không nằm trong tập `train` thì cũng khó khăn để giải quyết. Nên nhóm quyết định không lấy thông tin `street` để huấn luyện.\n",
    "         + `apt_unit`: cho biết căn nhà có thuộc chung cư nào hay không, thông tin này nhóm nghĩ là cần thiết cho việc huấn luyện vì nghĩ giá nhà riêng sẽ có phần nào khác với các căn nhà thuộc các khu chung cư. Vì vậy, sẽ thêm cột `is_apt` vào để huấn luyện, cột này chỉ có 2 giá trị `0`/`1` (nếu thuộc chung cư thì `1`, ngược lại thì `0`).\n",
    "    - Tóm lại, các việc cần làm:\n",
    "        + Rút trích ra cột `is_apt` (như mô tả ở trên) và thêm vào dữ liệu.\n",
    "        + Xóa cột `address_street`.\n",
    "        + Không cần lắp đầy giá trị thiếu, mặc định thiếu là 0 (tức tìm không thấy chung cư trong địa chỉ).\n",
    "        + Đây là dữ liệu số, để nguyên vậy vào huấn luyện.\n",
    "         \n",
    "2. Xóa 2 cột `address_locality` và cột `address_region`, giữ lại cột `address_code` (lý do xem ở phần `4.2.2. Quan sát các cột address_locality, address_region và address_code` ở trên). Ở tập `train_X_df` thì không thấy dữ liệu thiếu, nếu thiếu dùng `most` để lấp đầy. Dùng one-hot để đưa vào huấn luyện.\n",
    "3. Cột `date_sold`: rút trích `month` ra (xem ở phần `4.2.3. Quan sát cột date_sold`), xóa cột `date_sold` và `year_sol`, thêm vào cột `time_sold` (là giá trị `month` vừa rút trích, đặt tên để tiện cho sau này có chuyển sang `season` hay không thôi). Ở tập `train_X_df` thì không thấy dữ liệu thiếu, nếu thiếu dùng `most` để lấp đầy. Bỏ vào huấn luyện dùng one-hot, nhớ là thử để nguyên `11` tháng huấn luyện tốt hơn hay chia ra thành `4` mùa tốt hơn bằng cách đặt thêm cờ hiệu `month_to_season`.\n",
    "4. Cột `mortgage`: nếu để nguyên huấn luyện dùng mô hình `Linear Regression` thì cho ra kết quả độ chính xác bất ngờ là `99.99%`, và sau khi thử tính toán một vài records thì nhóm phát hiện ra chỉ cần lấy `mortgage` nhân cho `200` thì ra con số rất gần với giá nhà (`sold_price`), vì có công thức sẵn khi có được số liệu `mortgage`. Như thế thì dự đoán gì nữa, nên nhóm quyết định xóa đi cột `mortgage`.\n",
    "5. Cột `info_type`: Có một số giá trị xuất hiện rất ít, nhóm thử dùng thêm tham số `num_top_types` để chọn ra các `info_type` xuất hiện nhiều lần; còn các giá trị nằm ngoài `num_top_types` nhóm sẽ cho là giá trị `Others`. (như `BT03-TienXuLy_ChongOverfit`). Ở tập `train_X_df` thì không thấy dữ liệu thiếu, nếu thiếu dùng `most` để lấp đầy. Đưa vào huấn luyện thì dùng one-hot.\n",
    "6. Hai cột `info_bedrooms` và `info_bathrooms`: lắp đầy giá trị thiều bằng `most`. Kiểu số, cứ bỏ thẳng vào huấn luyện.\n",
    "7. Hai cột `info_size` và `info_lot_size`: dùng `KNN (n=5)` để lắp đầy giá trị thiếu. Kiểu số, cứ bỏ thẳng vào huấn luyện.\n",
    "8. Cột `info_year_built` để nguyên vào huấn luyện hoặc chuyển thành các giai đoạn (trước 1900, từ 1900 đên trước 1950, từ 1950 đến trước 2000 và từ 2000 trở về sau) bằng tham số `year_to_period`, lắp đầy giá trị thiếu bằng `most`, đưa vào huấn luyện dùng `one-hot`.\n",
    "9. Xóa 3 cột` info_property_id`, `info_county` và `info_parcel_number` (lý do xem ở phần `4.2.9. Quan sát các cột info_property_id, info_county và info_parcel_number`).\n",
    "10. Các cột `taxes_land`, `taxes_improvements`, `taxes_total` và `taxes_taxes`: đầu tiên rút trích `taxes` cho cột `taxes_taxes`, thay bằng dữ liệu tìm được (xem ở phần `4.2.10. Quan sát các cột taxes_land, taxes_improvements và taxes_taxes`), nhớ xóa cột `taxes_total`. Điền các giá trị thiếu bằng `mean`. Kiểu số, cứ bỏ thẳng vào huấn luyện.\n",
    "11. Giữ nguyên cột `school` và cột `foreclosures`. Nếu có giá trị thiếu thì điền bằng `median`. Kiểu số, cứ bỏ thẳng vào huấn luyện.\n",
    "12. Các `total_crime`, `violent_crime` và `property_crime`: lắp đầy giá trị thiếu bằng `median`. Kiểu số, cứ bỏ thẳng vào huấn luyện."
   ]
  },
  {
   "cell_type": "markdown",
   "metadata": {},
   "source": [
    "- Chuẩn hóa theo cách của thầy trong `BT03`.\n",
    "- Dùng mô hình `Linear Regression` để huấn luyện mô mình thử xem."
   ]
  },
  {
   "cell_type": "markdown",
   "metadata": {},
   "source": [
    "Cần kiểm tra lại version của sklearn, nếu chưa phải là `verson 0.22` thì phải update lên `0.22` vì nhóm có sủ dụng `KNN` để điền các giá trị thiếu (missing value) và `KNN` chỉ được hỗ trợ trong `version 0.22`."
   ]
  },
  {
   "cell_type": "code",
   "execution_count": 7,
   "metadata": {},
   "outputs": [
    {
     "data": {
      "text/plain": [
       "'0.22'"
      ]
     },
     "execution_count": 7,
     "metadata": {},
     "output_type": "execute_result"
    }
   ],
   "source": [
    "import sklearn\n",
    "sklearn.__version__"
   ]
  },
  {
   "cell_type": "code",
   "execution_count": 8,
   "metadata": {},
   "outputs": [],
   "source": [
    "from sklearn.base import BaseEstimator, TransformerMixin\n",
    "from sklearn.impute import SimpleImputer, KNNImputer\n",
    "from sklearn.pipeline import Pipeline\n",
    "from sklearn.compose import ColumnTransformer\n",
    "from sklearn.preprocessing import OneHotEncoder, StandardScaler\n",
    "from sklearn.linear_model import LinearRegression\n",
    "import re"
   ]
  },
  {
   "cell_type": "code",
   "execution_count": 9,
   "metadata": {},
   "outputs": [],
   "source": [
    "# Class AddressProcessor dùng để xử lý các cột address_street, address_locality, address_region và address_code\n",
    "# Được kế thừa từ 2 class của Sklearn là BaseEstimator và TransformerMixin. \n",
    "# Việc kế thừa này giúp class của ta tự động có các phương thức như set_params, get_params, fit_transform.\n",
    "class AddressProcessor(BaseEstimator, TransformerMixin):\n",
    "    def __init__(self):\n",
    "        pass\n",
    "\n",
    "    def fit(self, X_df, y=None):\n",
    "        return self\n",
    "\n",
    "    def transform(self, X_df, y=None):\n",
    "        # Extract các thông tin (số nhà, hướng của đường, tên đường, tên chung cư) từ address_street.\n",
    "        pat = r'^(?P<number>\\d+)?(?P<direction>.\\w(?= ))?(?P<street>.+(?=\\bapt|\\bunit)|.+(?=#)|.+)(?P<apt_unit>(?:\\bapt|\\bunit|#|).+)?'\n",
    "        lower_address_street = X_df.address_street.str.lower()\n",
    "        street_parsed = lower_address_street.str.extract(pat)\n",
    "        \n",
    "        # Xóa các cột dùng nữa.\n",
    "        transformed_df = X_df.drop([\"address_street\", \"address_locality\", \"address_region\"], axis=1)\n",
    "        \n",
    "        # Chuyển cột address_code về dạng categorical\n",
    "        transformed_df[\"address_code\"] = transformed_df[\"address_code\"].astype(str)\n",
    "            \n",
    "        # Thêm cột is_apt vào DataFrame (1 là thuộc chung cư, 0 là không không thuộc chung cư).\n",
    "        transformed_df[\"is_apt\"] = street_parsed[\"apt_unit\"].notnull().astype(int)\n",
    "        return transformed_df"
   ]
  },
  {
   "cell_type": "code",
   "execution_count": null,
   "metadata": {},
   "outputs": [],
   "source": [
    "# TEST AddressProcessor\n",
    "ap = AddressProcessor()\n",
    "\n",
    "ap.transform(train_X_df).is_apt.value_counts()"
   ]
  },
  {
   "cell_type": "code",
   "execution_count": 10,
   "metadata": {},
   "outputs": [],
   "source": [
    "# Class DateSoldProcessor dùng để xử lý các cột date_sold và year_sold.\n",
    "# Được kế thừa từ 2 class của Sklearn là BaseEstimator và TransformerMixin. \n",
    "# Việc kế thừa này giúp class của ta tự động có các phương thức như set_params, get_params, fit_transform.\n",
    "\n",
    "class DateSoldProcessor(BaseEstimator, TransformerMixin):\n",
    "    def __init__(self, month_to_season = True):\n",
    "        self.month_to_season = month_to_season\n",
    "\n",
    "    def fit(self, X_df, y=None):\n",
    "        return self\n",
    "\n",
    "    def transform(self, X_df, y=None):\n",
    "        # Rút trích month từ date_sold.\n",
    "        month = X_df.date_sold.str[:2].astype(int)\n",
    "        \n",
    "        # Xóa các cột không dùng nữa.\n",
    "        transformed_df = X_df.drop([\"date_sold\", \"year_sold\"], axis=1)\n",
    "        \n",
    "        if (self.month_to_season == False):\n",
    "            # Thêm cột month vào DataFrame (để tên là time_sold cho tiện truy cập).\n",
    "            transformed_df[\"time_sold\"] = month\n",
    "        else:\n",
    "            # 1 là Đông (tháng 12, 1, 2)\n",
    "            # 2 là Xuân (tháng 3, 4, 5)\n",
    "            # 3 là Hạ (tháng 6, 7, 8)\n",
    "            # 4 là Thu (tháng 9, 10, 11)\n",
    "            season = ((month.astype(int)%12 + 3)//3).astype(str)\n",
    "            # Thêm cột season_sold vào DataFrame (để tên là time_sold cho tiện truy cập).\n",
    "            transformed_df[\"time_sold\"] = season\n",
    "        return transformed_df"
   ]
  },
  {
   "cell_type": "code",
   "execution_count": null,
   "metadata": {},
   "outputs": [],
   "source": [
    "# TEST DateSoldProcessor\n",
    "dsp = DateSoldProcessor(False)\n",
    "\n",
    "dsp.transform(train_X_df).time_sold.value_counts()"
   ]
  },
  {
   "cell_type": "code",
   "execution_count": null,
   "metadata": {},
   "outputs": [],
   "source": [
    "# TEST DateSoldProcessor\n",
    "dsp = DateSoldProcessor(True)\n",
    "\n",
    "dsp.transform(train_X_df).time_sold.value_counts()"
   ]
  },
  {
   "cell_type": "code",
   "execution_count": 11,
   "metadata": {},
   "outputs": [],
   "source": [
    "# Class InfoTypeProcessor dùng để xử lý cột info_type.\n",
    "# Được kế thừa từ 2 class của Sklearn là BaseEstimator và TransformerMixin. \n",
    "# Việc kế thừa này giúp class của ta tự động có các phương thức như set_params, get_params, fit_transform.\n",
    "\n",
    "class InfoTypeProcessor(BaseEstimator, TransformerMixin):\n",
    "    def __init__(self, num_top_types=5):\n",
    "        self.num_top_types = num_top_types\n",
    "\n",
    "    def fit(self, X_df, y=None):\n",
    "        info_type_col = X_df.info_type\n",
    "        \n",
    "        # Đếm các dạng type trong cột info_type\n",
    "        self.type_counts_ = info_type_col.value_counts()\n",
    "        types = list(map(re.escape, self.type_counts_.index))\n",
    "        \n",
    "        # Lấy ra top_type theo tham số num_top_types được truyền vào\n",
    "        self.top_types_ = types[:max(1, min(self.num_top_types, len(types)))]\n",
    "        return self\n",
    "\n",
    "    def transform(self, X_df, y=None):\n",
    "        # Các cột không phải top_type được mặc định là \"Others\"\n",
    "        type_sr = X_df.info_type.str.extract(f'^({\"|\".join(self.top_types_)})$', expand=False).fillna(\"Others\")\n",
    "        \n",
    "        # Xóa đi cột info_type vì không dùng nữa.\n",
    "        transformed_df = X_df.drop([\"info_type\"], axis=1)\n",
    "        \n",
    "        # Thêm cột type vào DataFrame.\n",
    "        transformed_df[\"type\"] = type_sr\n",
    "        return transformed_df"
   ]
  },
  {
   "cell_type": "code",
   "execution_count": null,
   "metadata": {},
   "outputs": [],
   "source": [
    "# TEST InfoTypeProcessor\n",
    "itp = InfoTypeProcessor(num_top_types=9)\n",
    "\n",
    "itp.fit(train_X_df).transform(train_X_df).type.value_counts()"
   ]
  },
  {
   "cell_type": "code",
   "execution_count": 12,
   "metadata": {},
   "outputs": [],
   "source": [
    "# Class YearBuiltProcessor dùng để xử lý cột info_year_built.\n",
    "# Được kế thừa từ 2 class của Sklearn là BaseEstimator và TransformerMixin. \n",
    "# Việc kế thừa này giúp class của ta tự động có các phương thức như set_params, get_params, fit_transform.\n",
    "\n",
    "class YearBuiltProcessor(BaseEstimator, TransformerMixin):\n",
    "    def __init__(self, year_to_period=True):\n",
    "        self.year_to_period = year_to_period\n",
    "\n",
    "    def fit(self, X_df, y=None):\n",
    "        return self\n",
    "\n",
    "    def transform(self, X_df, y=None):\n",
    "        transformed_df = X_df\n",
    "        \n",
    "        # Lấy cột năm xây dựng ra.\n",
    "        year_built = transformed_df.info_year_built\n",
    "        time_built = year_built.astype(str)\n",
    "        \n",
    "        # Xóa đi các cột không cần thiết.\n",
    "        transformed_df = X_df.drop([\"info_year_built\"], axis=1)\n",
    "        \n",
    "        # Chuyển từ year sang khoảng thời gian.\n",
    "        if (self.year_to_period == True):\n",
    "            for i in year_built.index:\n",
    "                year = year_built[i]\n",
    "                if year < 1900:\n",
    "                    time_built[i] = \"Before1900\"\n",
    "                if year >= 1900 and year < 1950:\n",
    "                    time_built[i] = \"From1900ToBefore1950\"\n",
    "                if year >= 1950 and year < 2000:\n",
    "                    time_built[i] = \"From1950ToBefore2000\"\n",
    "                if year >= 2000:\n",
    "                    time_built[i] = \"After2000\"\n",
    "\n",
    "        \n",
    "        # Thêm cột time_built vào DataFrame.\n",
    "        transformed_df[\"time_built\"] = time_built\n",
    "        return transformed_df"
   ]
  },
  {
   "cell_type": "code",
   "execution_count": null,
   "metadata": {},
   "outputs": [],
   "source": [
    "# TEST YearBuiltProcessor\n",
    "itp = YearBuiltProcessor(True)\n",
    "\n",
    "itp.fit(train_X_df).transform(train_X_df).time_built.value_counts()"
   ]
  },
  {
   "cell_type": "code",
   "execution_count": null,
   "metadata": {},
   "outputs": [],
   "source": [
    "# TEST YearBuiltProcessor\n",
    "itp = YearBuiltProcessor(False)\n",
    "\n",
    "itp.fit(train_X_df).transform(train_X_df).time_built.value_counts()"
   ]
  },
  {
   "cell_type": "code",
   "execution_count": 13,
   "metadata": {},
   "outputs": [],
   "source": [
    "# Class TaxesProcessor dùng để xử lý các cột taxes_total và taxes_taxes.\n",
    "# Được kế thừa từ 2 class của Sklearn là BaseEstimator và TransformerMixin. \n",
    "# Việc kế thừa này giúp class của ta tự động có các phương thức như set_params, get_params, fit_transform.\n",
    "\n",
    "class TaxesProcessor(BaseEstimator, TransformerMixin):\n",
    "    def __init__(self):\n",
    "        pass\n",
    "\n",
    "    def fit(self, X_df, y=None):\n",
    "        return self\n",
    "\n",
    "    def transform(self, X_df, y=None):\n",
    "        # Extract ra tiền thuế phải trả.\n",
    "        taxes = X_df.taxes_taxes.str.extract(r'(\\d+)', expand=False)\n",
    "        \n",
    "        # Xóa đi các cột không cần thiết.\n",
    "        transformed_df = X_df.drop([\"taxes_total\", \"taxes_taxes\"], axis=1)\n",
    "        \n",
    "        # Thêm cột taxes_taxes với giá trị mới extract được vào.\n",
    "        transformed_df[\"taxes_taxes\"] = taxes\n",
    "        return transformed_df"
   ]
  },
  {
   "cell_type": "code",
   "execution_count": null,
   "metadata": {},
   "outputs": [],
   "source": [
    "# TEST InfoTypeProcessor\n",
    "tp = TaxesProcessor()\n",
    "\n",
    "tp.fit(train_X_df).transform(train_X_df).taxes_taxes.value_counts()"
   ]
  },
  {
   "cell_type": "code",
   "execution_count": 14,
   "metadata": {},
   "outputs": [],
   "source": [
    "# Class ColumnDropper dùng để xóa các cột info_property_id, info_county, info_parcel_number và mortgage.\n",
    "# Được kế thừa từ 2 class của Sklearn là BaseEstimator và TransformerMixin. \n",
    "# Việc kế thừa này giúp class của ta tự động có các phương thức như set_params, get_params, fit_transform.\n",
    "class ColumnDropper(BaseEstimator, TransformerMixin):\n",
    "    def __init__(self):\n",
    "        pass\n",
    "\n",
    "    def fit(self, X_df, y=None):\n",
    "        return self\n",
    "\n",
    "    def transform(self, X_df, y=None):\n",
    "        return X_df.drop([\"info_property_id\", \"info_county\", \"info_parcel_number\", \"mortgage\"], axis=1)"
   ]
  },
  {
   "cell_type": "code",
   "execution_count": null,
   "metadata": {},
   "outputs": [],
   "source": [
    "# TEST InfoTypeProcessor\n",
    "cd = ColumnDropper()\n",
    "\n",
    "cd.fit(train_X_df).transform(train_X_df).info()"
   ]
  },
  {
   "cell_type": "markdown",
   "metadata": {},
   "source": [
    "Bây giờ tạo một `pipeline` của bước tiền xử lý dữ liệu để gom tất cả các bước xử lý ở trên, thêm thao tác điền các giá trị thiếu như mô tả và tiến hành chuẩn hóa bằng cách trừ đi mean và chia cho độ lệch chuẩn của cột để giúp cho các thuật toán cực tiểu hóa như Gradient Descent, LBFGS, ... hội tụ nhanh hơn (dùng `StandardScaler` trong Sklearn)."
   ]
  },
  {
   "cell_type": "code",
   "execution_count": 15,
   "metadata": {},
   "outputs": [],
   "source": [
    "knn_cols = [\"info_size\", \"info_lot_size\"]\n",
    "most_frequent_cols = [\"info_bedrooms\", \"info_bathrooms\"]\n",
    "mean_cols = [\"taxes_land\", \"taxes_improvements\", \"taxes_taxes\"]\n",
    "median_cols = [\"school\", \"foreclosures\", \"total_crime\", \"violent_crime\", \"property_crime\"]\n",
    "cate_cols = [\"address_code\", \"type\", \"time_built\", \"time_sold\"]\n",
    "\n",
    "cate_pipeline = Pipeline([(\"most_frequent\", SimpleImputer(strategy=\"most_frequent\")),\n",
    "                          (\"onehot\", OneHotEncoder(handle_unknown='ignore'))])\n",
    "\n",
    "\n",
    "column_transformer = ColumnTransformer([(\"knn\", KNNImputer(), knn_cols),\n",
    "                                        (\"most_frequent\", SimpleImputer(strategy=\"most_frequent\"), most_frequent_cols),\n",
    "                                        (\"mean\", SimpleImputer(strategy=\"mean\"), mean_cols),\n",
    "                                        (\"median\", SimpleImputer(strategy=\"median\"), median_cols),\n",
    "                                        (\"cate\", cate_pipeline, cate_cols)])\n",
    "\n",
    "\n",
    "preprocess_pipeline = Pipeline([(\"address\", AddressProcessor()),\n",
    "                                (\"date_sold\", DateSoldProcessor()),\n",
    "                                (\"info_type\", InfoTypeProcessor()),\n",
    "                                (\"year_built\", YearBuiltProcessor()),\n",
    "                                (\"col_dropper\", ColumnDropper()),\n",
    "                                (\"taxes\", TaxesProcessor()),\n",
    "                                (\"column_transformer\", column_transformer),\n",
    "                                (\"std_scaler\", StandardScaler(with_mean=False))])"
   ]
  },
  {
   "cell_type": "code",
   "execution_count": 16,
   "metadata": {},
   "outputs": [
    {
     "data": {
      "text/plain": [
       "<8763x114 sparse matrix of type '<class 'numpy.float64'>'\n",
       "\twith 139296 stored elements in Compressed Sparse Row format>"
      ]
     },
     "execution_count": 16,
     "metadata": {},
     "output_type": "execute_result"
    }
   ],
   "source": [
    "# TEST preprocess_pipeline\n",
    "preprocess_pipeline.fit_transform(train_X_df)"
   ]
  },
  {
   "cell_type": "markdown",
   "metadata": {},
   "source": [
    "# 5. Mô hình hóa dữ liệu"
   ]
  },
  {
   "cell_type": "markdown",
   "metadata": {},
   "source": [
    "Giờ ta có các siêu tham số:\n",
    "- `month_to_season` của class `DateSoldProcessor()`, có 2 giá trị :\n",
    "   + `True`: yêu cầu chuyển từ tháng bán nhà sang bán nhà theo bốn mùa.\n",
    "   + `False`: để nguyên các tháng bán nhà.\n",
    "   + Giá trị mặc định lúc code là `True`.\n",
    "- `num_top_types` của class `InfoTypeProcessor()`, giá trị là số nguyên dương. Trong tập train có khoảng 13 loại type. Giờ mình chỉ thử tập giá trị sau [1, 3, 5, 7, 9, 11, 13]. Giá trị mặc định lúc code là `5`.\n",
    "- `year_to_period` của class `YearBuiltProcessor()`, có 2 giá trị :\n",
    "   + `True`: yêu cầu chuyển từ năm xây dựng nhà sang các khoảng thời gian xây nhà .\n",
    "   + `False`: để nguyên các năm xây nhà.\n",
    "   + Giá trị mặc định lúc code là `True`.\n",
    "   \n",
    "Vậy ta muốn thử tất cả các giá trị ở trên thì tốn `3` vòng lặp với `2x7x2` là `28` lần chạy."
   ]
  },
  {
   "cell_type": "markdown",
   "metadata": {},
   "source": [
    "## 5.1. Linear Regression"
   ]
  },
  {
   "cell_type": "markdown",
   "metadata": {},
   "source": [
    "Giờ ta thử với mô hình `Linear Regression` với đủ 3 bộ siêu tham số trên."
   ]
  },
  {
   "cell_type": "code",
   "execution_count": 16,
   "metadata": {},
   "outputs": [],
   "source": [
    "from sklearn.linear_model import LinearRegression\n",
    "\n",
    "# Tạo full pipeline bao gồm bước: tiền xử lý dữ liệu và mô hình hóa dữ liệu bằng Linear Regression.\n",
    "full_pipeline = Pipeline([(\"preprocess\", preprocess_pipeline),\n",
    "                          (\"regression\", LinearRegression())])"
   ]
  },
  {
   "cell_type": "code",
   "execution_count": 20,
   "metadata": {},
   "outputs": [],
   "source": [
    "# Hàm runLinearRegression dùng để chạy mô hình Linear Regression huấn luyện tập train và đánh giá trên tập validaion.\n",
    "# Input là train_X_df, train_y_sr, val_X_df, val_y_sr, full_pipeline, month_to_season, year_to_period, num_top_types_s.\n",
    "# Output là train_errs, val_errs, best_val_err, best_num_top_types.\n",
    "def runLinearRegression(train_X_df, train_y_sr, val_X_df, val_y_sr,\n",
    "                        full_pipeline, month_to_season=True, year_to_period=True, num_top_types_s = [5]):\n",
    "    train_errs = []\n",
    "    val_errs = []\n",
    "    \n",
    "    best_val_err = float('inf')\n",
    "    best_num_top_types = None\n",
    "\n",
    "\n",
    "    for num_top_types in num_top_types_s:\n",
    "        # Set các tham số mới cho full_pipeline\n",
    "        full_pipeline.set_params(preprocess__date_sold__month_to_season=month_to_season,\n",
    "                                 preprocess__year_built__year_to_period=year_to_period,\n",
    "                                 preprocess__info_type__num_top_types=num_top_types)\n",
    "            \n",
    "        # Fit full_pipeline vào tập huấn luyện\n",
    "        full_pipeline.fit(train_X_df, train_y_sr)\n",
    "    \n",
    "        # Độ lỗi trên tập huấn luyện\n",
    "        train_err = 100 - full_pipeline.score(train_X_df, train_y_sr)*100\n",
    "    \n",
    "        # Độ lỗi tên tập validation\n",
    "        val_err = 100 - full_pipeline.score(val_X_df, val_y_sr)*100\n",
    "        \n",
    "        # Lưu lại các giá trị độ lỗi\n",
    "        train_errs.append(train_err)\n",
    "        val_errs.append(val_err)\n",
    "        \n",
    "        # Lưu lại best_val_err, best_num_top_types\n",
    "        if (val_err < best_val_err): \n",
    "            best_val_err = val_err\n",
    "            best_num_top_types= num_top_types\n",
    "            \n",
    "    return train_errs, val_errs, best_val_err, best_num_top_types"
   ]
  },
  {
   "cell_type": "markdown",
   "metadata": {},
   "source": [
    "**Trường hợp 1:**\n",
    "- `month_to_season` = <span style=\"color:blue\">True</span>.\n",
    "- `num_top_types` = <span style=\"color:blue\">True</span>.\n",
    "- `num_top_types_s` = [1, 3, 5, 7, 9, 11, 13]"
   ]
  },
  {
   "cell_type": "code",
   "execution_count": 21,
   "metadata": {},
   "outputs": [],
   "source": [
    "month_to_season = True\n",
    "year_to_period = True\n",
    "num_top_types_s = [1, 3, 5, 7, 9, 11, 13]\n",
    "\n",
    "train_errs_LR_1 = [] # LR là viết tắt của Linear Regression, số 1 là trường hợp 1\n",
    "val_errs_LR_1 = []\n",
    "\n",
    "best_val_err_LR_1 = float('inf')\n",
    "best_num_top_types_LR_1 = None\n",
    "\n",
    "# Chạy mô hình Linear Regression cho các tham số trên và ghi nhận các kết quả độ lỗi.\n",
    "train_errs_LR_1, val_errs_LR_1, best_val_err_LR_1, best_num_top_types_LR_1 = runLinearRegression(train_X_df, train_y_sr, \n",
    "                                                                                                 val_X_df, val_y_sr,\n",
    "                                                                                                 full_pipeline,\n",
    "                                                                                                 month_to_season, \n",
    "                                                                                                 year_to_period, \n",
    "                                                                                                 num_top_types_s)"
   ]
  },
  {
   "cell_type": "code",
   "execution_count": 22,
   "metadata": {},
   "outputs": [
    {
     "name": "stdout",
     "output_type": "stream",
     "text": [
      "[76.30336150055886, 73.19519307812502, 72.59982377413813, 70.94568352569252, 70.9407730543621, 70.9396428302866, 70.93827199537559]\n",
      "[63.19642528441863, 60.91786611163863, 60.81209462939404, 59.42398143194044, 59.40595387313977, 59.40439029226361, 59.413561502329074]\n"
     ]
    }
   ],
   "source": [
    "# Xem thử độ lỗi thu được.\n",
    "print(train_errs_LR_1)\n",
    "print(val_errs_LR_1)"
   ]
  },
  {
   "cell_type": "markdown",
   "metadata": {},
   "source": [
    "**Trường hợp 2:**\n",
    "- `month_to_season` = <span style=\"color:blue\">True</span>.\n",
    "- `num_top_types` = <span style=\"color:red\">False</span>.\n",
    "- `num_top_types_s` = [1, 3, 5, 7, 9, 11, 13]"
   ]
  },
  {
   "cell_type": "code",
   "execution_count": 23,
   "metadata": {},
   "outputs": [],
   "source": [
    "month_to_season = True\n",
    "year_to_period = False\n",
    "num_top_types_s = [1, 3, 5, 7, 9, 11, 13]\n",
    "\n",
    "train_errs_LR_2 = [] # LR là viết tắt của Linear Regression, số 2 là trường hợp 2\n",
    "val_errs_LR_2 = []\n",
    "\n",
    "best_val_err_LR_2 = float('inf')\n",
    "best_num_top_types_LR_2 = None\n",
    "\n",
    "# Chạy mô hình Linear Regression cho các tham số trên và ghi nhận các kết quả độ lỗi.\n",
    "train_errs_LR_2, val_errs_LR_2, best_val_err_LR_2, best_num_top_types_LR_2 = runLinearRegression(train_X_df, train_y_sr, \n",
    "                                                                                                 val_X_df, val_y_sr,\n",
    "                                                                                                 full_pipeline,\n",
    "                                                                                                 month_to_season, \n",
    "                                                                                                 year_to_period, \n",
    "                                                                                                 num_top_types_s)"
   ]
  },
  {
   "cell_type": "code",
   "execution_count": 24,
   "metadata": {},
   "outputs": [
    {
     "name": "stdout",
     "output_type": "stream",
     "text": [
      "[75.8079132444767, 72.5342947677832, 71.91244113199915, 70.14469367459515, 70.13979304303797, 70.13882278439827, 70.13803185859246]\n",
      "[62.77578519721608, 60.44900144117859, 60.35725845651893, 58.9032740245874, 58.883577045370025, 58.883133184677895, 58.89016784040875]\n"
     ]
    }
   ],
   "source": [
    "# Xem thử độ lỗi thu được.\n",
    "print(train_errs_LR_2)\n",
    "print(val_errs_LR_2)"
   ]
  },
  {
   "cell_type": "markdown",
   "metadata": {},
   "source": [
    "**Trường hợp 3:**\n",
    "- `month_to_season` = <span style=\"color:red\">False</span>.\n",
    "- `num_top_types` = <span style=\"color:blue\">True</span>.\n",
    "- `num_top_types_s` = [1, 3, 5, 7, 9, 11, 13]"
   ]
  },
  {
   "cell_type": "code",
   "execution_count": 25,
   "metadata": {},
   "outputs": [],
   "source": [
    "month_to_season = False\n",
    "year_to_period = True\n",
    "num_top_types_s = [1, 3, 5, 7, 9, 11, 13]\n",
    "\n",
    "train_errs_LR_3 = [] # LR là viết tắt của Linear Regression, số 3 là trường hợp 3\n",
    "val_errs_LR_3 = []\n",
    "\n",
    "best_val_err_LR_3 = float('inf')\n",
    "best_num_top_types_LR_3 = None\n",
    "\n",
    "# Chạy mô hình Linear Regression cho các tham số trên và ghi nhận các kết quả độ lỗi.\n",
    "train_errs_LR_3, val_errs_LR_3, best_val_err_LR_3, best_num_top_types_LR_3 = runLinearRegression(train_X_df, train_y_sr, \n",
    "                                                                                                 val_X_df, val_y_sr,\n",
    "                                                                                                 full_pipeline,\n",
    "                                                                                                 month_to_season, \n",
    "                                                                                                 year_to_period, \n",
    "                                                                                                 num_top_types_s)"
   ]
  },
  {
   "cell_type": "code",
   "execution_count": 26,
   "metadata": {},
   "outputs": [
    {
     "name": "stdout",
     "output_type": "stream",
     "text": [
      "[76.10452874608998, 72.98787326093631, 72.39772308376402, 70.74686151337373, 70.74069563389153, 70.74006320095884, 70.73875196652953]\n",
      "[62.952424228964546, 60.68029759571483, 60.5903808223808, 59.20104338256195, 59.18090480109374, 59.17971535814955, 59.18860614206615]\n"
     ]
    }
   ],
   "source": [
    "# Xem thử độ lỗi thu được.\n",
    "print(train_errs_LR_3)\n",
    "print(val_errs_LR_3)"
   ]
  },
  {
   "cell_type": "markdown",
   "metadata": {},
   "source": [
    "**Trường hợp 4:**\n",
    "- `month_to_season` = <span style=\"color:red\">False</span>.\n",
    "- `num_top_types` = <span style=\"color:red\">False</span>.\n",
    "- `num_top_types_s` = [1, 3, 5, 7, 9, 11, 13]"
   ]
  },
  {
   "cell_type": "code",
   "execution_count": 28,
   "metadata": {},
   "outputs": [],
   "source": [
    "month_to_season = False\n",
    "year_to_period = False\n",
    "num_top_types_s = [1, 3, 5, 7, 9, 11, 13]\n",
    "\n",
    "train_errs_LR_4 = [] # LR là viết tắt của Linear Regression, số 4 là trường hợp 4\n",
    "val_errs_LR_4 = []\n",
    "\n",
    "best_val_err_LR_4 = float('inf')\n",
    "best_num_top_types_LR_4 = None\n",
    "\n",
    "# Chạy mô hình Linear Regression cho các tham số trên và ghi nhận các kết quả độ lỗi.\n",
    "train_errs_LR_4, val_errs_LR_4, best_val_err_LR_4, best_num_top_types_LR_4 = runLinearRegression(train_X_df, train_y_sr, \n",
    "                                                                                                 val_X_df, val_y_sr,\n",
    "                                                                                                 full_pipeline,\n",
    "                                                                                                 month_to_season, \n",
    "                                                                                                 year_to_period, \n",
    "                                                                                                 num_top_types_s)"
   ]
  },
  {
   "cell_type": "code",
   "execution_count": 29,
   "metadata": {},
   "outputs": [
    {
     "name": "stdout",
     "output_type": "stream",
     "text": [
      "[75.60732170158576, 72.3307405057688, 71.71591551386841, 69.95088077362666, 69.94469448309016, 69.94418072635936, 69.94343623779702]\n",
      "[62.530198585394864, 60.21328113744065, 60.13838200323697, 58.684447730280176, 58.662585075855304, 58.66253800275205, 58.66924741807093]\n"
     ]
    }
   ],
   "source": [
    "# Xem thử độ lỗi thu được.\n",
    "print(train_errs_LR_4)\n",
    "print(val_errs_LR_4)"
   ]
  },
  {
   "cell_type": "markdown",
   "metadata": {},
   "source": [
    "Bây giờ, nhóm sẽ vẻ đồ thị độ lỗi thu được để xem sự ảnh hưởng của các tham số."
   ]
  },
  {
   "cell_type": "code",
   "execution_count": 76,
   "metadata": {},
   "outputs": [],
   "source": [
    "import matplotlib.pyplot as plt\n",
    "\n",
    "# Hàm drawCharErrsLR dùng để vẽ đồ thị biểu diễn độ lỗi (dạng line).\n",
    "# Tham số truyền vào là num_top_types_s, train_errs_LR, val_errs_LR, title.\n",
    "# Không trả về.\n",
    "def drawCharErrsLR(num_top_types_s, train_errs_LR, val_errs_LR, title):\n",
    "    # Vẽ đường biểu diễn độ lỗi của tập train.\n",
    "    plt.plot(num_top_types_s, train_errs_LR, color='blue',marker='o', label='train_errs')\n",
    "    \n",
    "    # Hiển thị giá trị độ lỗi của tập train lên.\n",
    "    for x, y in zip(num_top_types_s, train_errs_LR):\n",
    "        value = \"%.2f\" % y\n",
    "        plt.text(x - 0.5, y - 1.5, value) # 2 giá trị đầu tiên là set vị trí (x, y) hiển thị text.\n",
    "\n",
    "    # Vẽ đường biểu diễn độ lỗi của tập validation.\n",
    "    plt.plot(num_top_types_s, val_errs_LR, color='red', marker='^', label='val_errs')\n",
    "    \n",
    "    # Hiển thị giá trị độ lỗi của tập validation lên.\n",
    "    for x, y in zip(num_top_types_s, val_errs_LR):\n",
    "        value = \"%.2f\" % y\n",
    "        plt.text(x - 0.5 , y + 0.5, value) # 2 giá trị đầu tiên là set vị trí (x, y) hiển thị text.\n",
    "\n",
    "    plt.title(title) # Ghi tiêu đề.\n",
    "    plt.xlabel('num_top_types_s') # Ghi label trục x.\n",
    "    plt.ylabel('error (%)') # Ghi label trục y.\n",
    "    plt.xlim((0, 14)) # Giới hạng trục x cho dễ nhìn.\n",
    "\n",
    "    # Show hình vẽ lên.\n",
    "    plt.legend()"
   ]
  },
  {
   "cell_type": "code",
   "execution_count": 77,
   "metadata": {},
   "outputs": [
    {
     "data": {
      "image/png": "[encoded data removed]",
      "text/plain": [
       "<Figure size 432x288 with 1 Axes>"
      ]
     },
     "metadata": {
      "needs_background": "light"
     },
     "output_type": "display_data"
    }
   ],
   "source": [
    "num_top_types_s = [1, 3, 5, 7, 9, 11, 13]\n",
    "title_1 = \"Case 1: (month_to_season = True; year_to_period = True)\"\n",
    "drawCharErrsLR(num_top_types_s, train_errs_LR_1, val_errs_LR_1, title_1)"
   ]
  },
  {
   "cell_type": "code",
   "execution_count": 78,
   "metadata": {},
   "outputs": [
    {
     "data": {
      "image/png": "[encoded data removed]",
      "text/plain": [
       "<Figure size 432x288 with 1 Axes>"
      ]
     },
     "metadata": {
      "needs_background": "light"
     },
     "output_type": "display_data"
    }
   ],
   "source": [
    "num_top_types_s = [1, 3, 5, 7, 9, 11, 13]\n",
    "title_2 = \"Case 2: (month_to_season = True; year_to_period = False)\"\n",
    "drawCharErrsLR(num_top_types_s, train_errs_LR_2, val_errs_LR_2, title_2)"
   ]
  },
  {
   "cell_type": "code",
   "execution_count": 79,
   "metadata": {},
   "outputs": [
    {
     "data": {
      "image/png": "[encoded data removed]",
      "text/plain": [
       "<Figure size 432x288 with 1 Axes>"
      ]
     },
     "metadata": {
      "needs_background": "light"
     },
     "output_type": "display_data"
    }
   ],
   "source": [
    "num_top_types_s = [1, 3, 5, 7, 9, 11, 13]\n",
    "title_3 = \"Case 3: (month_to_season = False; year_to_period = True)\"\n",
    "drawCharErrsLR(num_top_types_s, train_errs_LR_3, val_errs_LR_3, title_3)"
   ]
  },
  {
   "cell_type": "code",
   "execution_count": 80,
   "metadata": {},
   "outputs": [
    {
     "data": {
      "image/png": "[encoded data removed]",
      "text/plain": [
       "<Figure size 432x288 with 1 Axes>"
      ]
     },
     "metadata": {
      "needs_background": "light"
     },
     "output_type": "display_data"
    }
   ],
   "source": [
    "num_top_types_s = [1, 3, 5, 7, 9, 11, 13]\n",
    "title_4 = \"Case 4: (month_to_season = False; year_to_period = False)\"\n",
    "drawCharErrsLR(num_top_types_s, train_errs_LR_4, val_errs_LR_4, title_4)"
   ]
  },
  {
   "cell_type": "code",
   "execution_count": 113,
   "metadata": {},
   "outputs": [
    {
     "data": {
      "image/png": "[encoded data removed]",
      "text/plain": [
       "<Figure size 1080x864 with 4 Axes>"
      ]
     },
     "metadata": {
      "needs_background": "light"
     },
     "output_type": "display_data"
    }
   ],
   "source": [
    "num_top_types_s = [1, 3, 5, 7, 9, 11, 13]\n",
    "plt.figure(figsize=(15, 12))\n",
    "\n",
    "plt.subplot(2, 2, 1)\n",
    "title_1 = \"Case 1: (month_to_season = True; year_to_period = True)\"\n",
    "drawCharErrsLR(num_top_types_s, train_errs_LR_1, val_errs_LR_1, title_1)\n",
    "\n",
    "plt.subplot(2, 2, 2)\n",
    "title_2 = \"Case 2: (month_to_season = True; year_to_period = False)\"\n",
    "drawCharErrsLR(num_top_types_s, train_errs_LR_2, val_errs_LR_2, title_2)\n",
    "\n",
    "plt.subplot(2, 2, 3)\n",
    "title_3 = \"Case 3: (month_to_season = False; year_to_period = True)\"\n",
    "drawCharErrsLR(num_top_types_s, train_errs_LR_3, val_errs_LR_3, title_3)\n",
    "\n",
    "plt.subplot(2, 2, 4)\n",
    "title_4 = \"Case 4: (month_to_season = False; year_to_period = False)\"\n",
    "drawCharErrsLR(num_top_types_s, train_errs_LR_4, val_errs_LR_4, title_4)"
   ]
  },
  {
   "cell_type": "markdown",
   "metadata": {},
   "source": [
    "Mô hình `Linear Regression` quá yếu nên dự đoán bị `underfitting`, khi tăng chiều dữ liệu lên (cho các siêu tham số bằng False, tăng số lượng `num_top_types`) thì thấy giúp học tốt hơn một chút, nhưng vẫn bị `underfitting`."
   ]
  },
  {
   "cell_type": "code",
   "execution_count": 84,
   "metadata": {},
   "outputs": [
    {
     "name": "stdout",
     "output_type": "stream",
     "text": [
      "Best Case of Linear Regression : 4\n",
      "+ best_val_err_LR: 58.66253800275205\n",
      "+ best_num_top_types_LR: 11\n"
     ]
    }
   ],
   "source": [
    "# Tìm trường hợp có độ lỗi trên tập validation bé nhất khi dùng Linear Regression để huấn luyện.\n",
    "\n",
    "best_val_err_LR_s = [best_val_err_LR_1, best_val_err_LR_2, best_val_err_LR_3, best_val_err_LR_4]\n",
    "best_num_top_types_LR_s = [best_num_top_types_LR_1, best_num_top_types_LR_2, \n",
    "                           best_num_top_types_LR_3, best_num_top_types_LR_4]\n",
    "best_case_LR_s = [1, 2, 3, 4]\n",
    "\n",
    "best_val_err_LR = float('inf')\n",
    "best_num_top_types_LR = None\n",
    "best_case_LR = None\n",
    "\n",
    "for i in range(len(best_case_LR_s)):\n",
    "    if best_val_err_LR_s[i] < best_val_err_LR:\n",
    "        best_val_err_LR = best_val_err_LR_s[i]\n",
    "        best_num_top_types_LR = best_num_top_types_LR_s[i]\n",
    "        best_case_LR = best_case_LR_s[i]\n",
    "\n",
    "print(\"Best Case of Linear Regression : \" + str(best_case_LR))        \n",
    "print(\"+ best_val_err_LR: \" + str(best_val_err_LR))\n",
    "print(\"+ best_num_top_types_LR: \" + str(best_num_top_types_LR))"
   ]
  },
  {
   "cell_type": "markdown",
   "metadata": {},
   "source": [
    "Như vậy với mô hình `Linear Regression` thì độ lỗi trên tập validation thu được tốt nhất là `58.66%` với các siêu tham số `month_to_season` = False, `year_to_period` = False và `num_top_types` = 11."
   ]
  },
  {
   "cell_type": "markdown",
   "metadata": {},
   "source": [
    "## 5.2. K-Neighbors Regressor"
   ]
  },
  {
   "cell_type": "code",
   "execution_count": 17,
   "metadata": {},
   "outputs": [],
   "source": [
    "from sklearn.neighbors import KNeighborsRegressor\n",
    "\n",
    "# Tạo full pipeline bao gồm bước: tiền xử lý dữ liệu và mô hình hóa dữ liệu bằng K-Neighbors Regressor.\n",
    "full_pipeline = Pipeline([(\"preprocess\", preprocess_pipeline),\n",
    "                          (\"regression\", KNeighborsRegressor())])"
   ]
  },
  {
   "cell_type": "code",
   "execution_count": 18,
   "metadata": {},
   "outputs": [],
   "source": [
    "# Hàm runKNeighborsRegressor dùng để chạy mô hình K-Neighbors Regressor huấn luyện tập train và đánh giá \n",
    "# trên tập validaion.\n",
    "# Input là train_X_df, train_y_sr, val_X_df, val_y_sr, full_pipeline, month_to_season, year_to_period,\n",
    "# num_top_types_s và neighbors_s.\n",
    "# Output là train_errs, val_errs, best_val_err, best_num_top_types và best_neighbors.\n",
    "def runKNeighborsRegressor(train_X_df, train_y_sr, val_X_df, val_y_sr,\n",
    "                           full_pipeline, month_to_season=True, year_to_period=True, \n",
    "                           num_top_types_s=[5], neighbors_s=[1]):\n",
    "    train_errs = []\n",
    "    val_errs = []\n",
    "    \n",
    "    best_val_err = float('inf')\n",
    "    best_num_top_types = None\n",
    "    best_neighbors = None\n",
    "\n",
    "\n",
    "    for num_top_types in num_top_types_s:\n",
    "        for neighbors in neighbors_s:\n",
    "            # Set các tham số mới cho full_pipeline\n",
    "            full_pipeline.set_params(preprocess__date_sold__month_to_season=month_to_season,\n",
    "                                     preprocess__year_built__year_to_period=year_to_period,\n",
    "                                     preprocess__info_type__num_top_types=num_top_types,\n",
    "                                     regression__n_neighbors=neighbors)\n",
    "            \n",
    "            # Fit full_pipeline vào tập huấn luyện\n",
    "            full_pipeline.fit(train_X_df, train_y_sr)\n",
    "    \n",
    "            # Độ lỗi trên tập huấn luyện\n",
    "            train_err = 100 - full_pipeline.score(train_X_df, train_y_sr)*100\n",
    "    \n",
    "            # Độ lỗi tên tập validation\n",
    "            val_err = 100 - full_pipeline.score(val_X_df, val_y_sr)*100\n",
    "        \n",
    "            # Lưu lại các giá trị độ lỗi\n",
    "            train_errs.append(train_err)\n",
    "            val_errs.append(val_err)\n",
    "        \n",
    "            # Lưu lại best_val_err, best_num_top_types và best_neighbors\n",
    "            if (val_err < best_val_err): \n",
    "                best_val_err = val_err\n",
    "                best_num_top_types= num_top_types\n",
    "                best_neighbors = neighbors\n",
    "            \n",
    "    return (train_errs, val_errs, best_val_err, best_num_top_types, best_neighbors)"
   ]
  },
  {
   "cell_type": "markdown",
   "metadata": {},
   "source": [
    "**Trường hợp 1:**\n",
    "- `month_to_season` = <span style=\"color:blue\">True</span>.\n",
    "- `num_top_types` = <span style=\"color:blue\">True</span>.\n",
    "- `num_top_types_s` = [1, 3, 5, 7, 9, 11, 13]\n",
    "- `neighbors_s` = [1, 3, 5, 7, 9, 11]"
   ]
  },
  {
   "cell_type": "code",
   "execution_count": 19,
   "metadata": {},
   "outputs": [],
   "source": [
    "month_to_season = True\n",
    "year_to_period = True\n",
    "num_top_types_s = [1, 3, 5, 7, 9, 11, 13]\n",
    "neighbors_s = [1, 3, 5, 7, 9, 11]\n",
    "\n",
    "train_errs_KNR_1 = [] # KNR là viết tắt của K-Neighbors Regressor, số 1 là trường hợp 1\n",
    "val_errs_KNR_1 = []\n",
    "\n",
    "best_val_err_KNR_1 = float('inf')\n",
    "best_num_top_types_KNR_1 = None\n",
    "best_neighbors_KNR_1 = None\n",
    "\n",
    "# Chạy mô hình K-Neighbors Regressor cho các tham số trên và ghi nhận các kết quả độ lỗi.\n",
    "results = runKNeighborsRegressor(train_X_df, train_y_sr,\n",
    "                                 val_X_df, val_y_sr,\n",
    "                                 full_pipeline, \n",
    "                                 month_to_season, \n",
    "                                 year_to_period, \n",
    "                                 num_top_types_s, \n",
    "                                 neighbors_s)\n",
    "\n",
    "train_errs_KNR_1 = results[0]\n",
    "val_errs_KNR_1 = results[1]\n",
    "best_val_err_KNR_1 = results[2]\n",
    "best_num_top_types_KNR_1 = results[3] \n",
    "best_neighbors_KNR_1 = results[4] "
   ]
  },
  {
   "cell_type": "code",
   "execution_count": 20,
   "metadata": {},
   "outputs": [
    {
     "name": "stdout",
     "output_type": "stream",
     "text": [
      "[0.006393856234637951, 17.99822739311459, 29.351344920042507, 41.61185367186528, 48.389871997281254, 50.57804420510963, 0.0063873032629828685, 7.922822838630708, 16.215280499649836, 21.33700480720509, 25.051269279916113, 30.502121761087594, 0.0063873032629828685, 9.216409482344247, 15.746979819901469, 20.548737920453206, 24.798967675236, 29.62675159815747, 0.0063873032629828685, 9.217032625653943, 15.746202895238653, 20.548104395526266, 24.799205615568738, 29.625890442191576, 0.0063873032629828685, 9.218273015565273, 15.746993139830934, 20.548466440266225, 24.798876469323687, 29.625463234982675, 0.0063873032629828685, 9.218375415288335, 15.74710018369872, 20.54858319455218, 24.799028849835125, 29.625656723870506, 0.0063873032629828685, 9.218352135790013, 15.747101556485262, 20.5485807986951, 24.799027093235054, 29.62565482364529]\n",
      "[16.55476122005308, 24.798427253331454, 30.811204938810647, 35.72497840656497, 40.968922013317766, 47.988425635040855, 18.3874629315047, 22.327597756349775, 23.98512430697795, 28.244163103634293, 35.98707256459083, 42.15027471941497, 19.273275573141476, 22.390799449197985, 24.075030658647194, 27.83458256385201, 35.51147013092999, 41.96661525705745, 19.272523417344672, 22.377357820266425, 24.07597588104244, 27.832192662273627, 35.510430546547354, 41.97996615038746, 19.225941837159752, 22.377869912451857, 24.075681367360986, 27.83365195986069, 35.510426411840655, 41.97927251103219, 19.230664391298575, 22.3918208849218, 24.083636531864784, 27.838827585822358, 35.51446560607964, 41.98285307971541, 19.23076138037574, 22.391972957593666, 24.083691951627046, 27.838863772854026, 35.51448966023206, 41.982874184818144]\n"
     ]
    }
   ],
   "source": [
    "# Xem thử độ lỗi thu được.\n",
    "print(train_errs_KNR_1)\n",
    "print(val_errs_KNR_1)"
   ]
  },
  {
   "cell_type": "markdown",
   "metadata": {},
   "source": [
    "**Trường hợp 2:**\n",
    "- `month_to_season` = <span style=\"color:blue\">True</span>.\n",
    "- `num_top_types` = <span style=\"color:red\">False</span>.\n",
    "- `num_top_types_s` = [1, 3, 5, 7, 9, 11, 13]\n",
    "- `neighbors_s` = [1, 3, 5, 7, 9, 11]"
   ]
  },
  {
   "cell_type": "code",
   "execution_count": 26,
   "metadata": {},
   "outputs": [],
   "source": [
    "month_to_season = True\n",
    "year_to_period = False\n",
    "num_top_types_s = [1, 3, 5, 7, 9, 11, 13]\n",
    "neighbors_s = [1, 3, 5, 7, 9, 11]\n",
    "\n",
    "train_errs_KNR_2 = [] # KNR là viết tắt của K-Neighbors Regressor, số 2 là trường hợp 2\n",
    "val_errs_KNR_2 = []\n",
    "\n",
    "best_val_err_KNR_2 = float('inf')\n",
    "best_num_top_types_KNR_2 = None\n",
    "best_neighbors_KNR_2 = None\n",
    "\n",
    "# Chạy mô hình K-Neighbors Regressor cho các tham số trên và ghi nhận các kết quả độ lỗi.\n",
    "results = runKNeighborsRegressor(train_X_df, train_y_sr,\n",
    "                                 val_X_df, val_y_sr,\n",
    "                                 full_pipeline, \n",
    "                                 month_to_season, \n",
    "                                 year_to_period, \n",
    "                                 num_top_types_s, \n",
    "                                 neighbors_s)\n",
    "\n",
    "train_errs_KNR_2 = results[0]\n",
    "val_errs_KNR_2 = results[1]\n",
    "best_val_err_KNR_2 = results[2]\n",
    "best_num_top_types_KNR_2 = results[3] \n",
    "best_neighbors_KNR_2 = results[4] "
   ]
  },
  {
   "cell_type": "code",
   "execution_count": 34,
   "metadata": {},
   "outputs": [
    {
     "name": "stdout",
     "output_type": "stream",
     "text": [
      "[0.006393856234637951, 34.728826244494286, 66.54359357154806, 71.35654918551332, 79.60054370578496, 74.71240350876141, 0.0063873032629828685, 13.548386742705873, 19.556509849885018, 25.480343393768706, 36.48737839742553, 40.0645398541841, 0.0063873032629828685, 14.916708146108434, 18.997363675720663, 24.7092069111644, 35.008751709725146, 40.18705573628188, 0.0063873032629828685, 14.920122873521166, 18.9978605506509, 24.709436226763657, 35.00872808575082, 40.186741840567066, 0.0063873032629828685, 14.919543223675674, 18.996650004288867, 24.70793611171814, 35.00746064297664, 40.287725968350195, 0.0063873032629828685, 14.91768891670688, 18.995689201020937, 24.707409685066523, 35.006793923539206, 40.28770890803717, 0.0063873032629828685, 14.917728375185945, 18.99567987581068, 24.707414140573093, 35.00678978222179, 40.28770900833424]\n",
      "[23.553108249727245, 38.66512403163653, 53.921425570891685, 54.82843130384524, 60.46866183355351, 63.0843653709953, 16.468901083467813, 21.10480279530951, 24.06583845888683, 29.671406061363186, 35.162233634767716, 41.73583493331525, 18.261220060076255, 21.26815239932418, 23.488057330391513, 27.174585804114713, 33.3634170240873, 40.56213494131675, 18.267711014088505, 21.258311248967374, 23.489459994404413, 27.1762822080411, 33.36318469658927, 40.615547361776215, 18.221039963137187, 21.25541594083458, 23.48719704569099, 27.171927318609008, 33.36062388512413, 40.61327586898393, 18.218592529799608, 21.26867883505915, 23.491048918461928, 27.17728611623363, 33.36486241597922, 40.616839197946874, 18.218689518876772, 21.268816793062925, 23.491101001632302, 27.17731349170144, 33.364885808485, 40.61688375590868]\n"
     ]
    }
   ],
   "source": [
    "# Xem thử độ lỗi thu được.\n",
    "print(train_errs_KNR_2)\n",
    "print(val_errs_KNR_2)"
   ]
  },
  {
   "cell_type": "markdown",
   "metadata": {},
   "source": [
    "**Trường hợp 3:**\n",
    "- `month_to_season` = <span style=\"color:red\">False</span>.\n",
    "- `num_top_types` = <span style=\"color:blue\">True</span>.\n",
    "- `num_top_types_s` = [1, 3, 5, 7, 9, 11, 13]\n",
    "- `neighbors_s` = [1, 3, 5, 7, 9, 11]"
   ]
  },
  {
   "cell_type": "code",
   "execution_count": 37,
   "metadata": {},
   "outputs": [],
   "source": [
    "month_to_season = False\n",
    "year_to_period = True\n",
    "num_top_types_s = [1, 3, 5, 7, 9, 11, 13]\n",
    "neighbors_s = [1, 3, 5, 7, 9, 11]\n",
    "\n",
    "train_errs_KNR_3 = [] # KNR là viết tắt của K-Neighbors Regressor, số 3 là trường hợp 3\n",
    "val_errs_KNR_3 = []\n",
    "\n",
    "best_val_err_KNR_3 = float('inf')\n",
    "best_num_top_types_KNR_3 = None\n",
    "best_neighbors_KNR_3 = None\n",
    "\n",
    "# Chạy mô hình K-Neighbors Regressor cho các tham số trên và ghi nhận các kết quả độ lỗi.\n",
    "results = runKNeighborsRegressor(train_X_df, train_y_sr,\n",
    "                                 val_X_df, val_y_sr,\n",
    "                                 full_pipeline, \n",
    "                                 month_to_season, \n",
    "                                 year_to_period, \n",
    "                                 num_top_types_s, \n",
    "                                 neighbors_s)\n",
    "\n",
    "train_errs_KNR_3 = results[0]\n",
    "val_errs_KNR_3 = results[1]\n",
    "best_val_err_KNR_3 = results[2]\n",
    "best_num_top_types_KNR_3 = results[3] \n",
    "best_neighbors_KNR_3 = results[4] "
   ]
  },
  {
   "cell_type": "code",
   "execution_count": 38,
   "metadata": {},
   "outputs": [
    {
     "name": "stdout",
     "output_type": "stream",
     "text": [
      "[6.430042441252226e-05, 13.016720950604594, 26.279553645905494, 36.80999698072589, 43.605165229846776, 42.56415263849467, 5.382256247798978e-05, 6.523293831666635, 11.093448237479052, 16.624138167151926, 23.67231707476853, 29.274185508615005, 5.382256247798978e-05, 7.816302250860744, 11.573974590175567, 15.885277883081073, 23.408780333674173, 29.429309669914886, 5.382256247798978e-05, 7.817259206842849, 11.5731993109343, 15.884472660743356, 23.409066816453347, 29.428364093290895, 5.382256247798978e-05, 7.818217440946583, 11.573729594536417, 15.884805280475362, 23.408720124509244, 29.42793403448448, 5.382256247798978e-05, 7.818325615921935, 11.573896607985418, 15.88497991030826, 23.408849992407056, 29.42816486596533, 5.382256247798978e-05, 7.818307322034727, 11.573909900855114, 15.884975681856247, 23.40884619363014, 29.428159112368633]\n",
      "[15.706680656671907, 24.395657999211068, 28.44919040697387, 33.94414544290815, 40.8650665733788, 47.900032107478665, 17.52721613443333, 21.56817968106232, 23.855205247748884, 28.084095422134297, 34.635274246962695, 41.084152371042315, 18.41147614653498, 20.97544384151351, 23.944663634268338, 27.645570080246685, 34.23963069618303, 40.74885408880301, 18.410677456431344, 20.944825825466296, 23.945236453188272, 27.64308315070778, 34.23857753282503, 40.76212537754345, 18.366622586580093, 20.945424995051468, 23.944849802791566, 27.644123026431487, 34.23822194294162, 40.76132023427456, 18.368864964692094, 20.9593896323492, 23.952358980754767, 27.649226182008576, 34.24238326583446, 40.76479828522466, 18.36903794687504, 20.959527042202737, 23.952425133118965, 27.64922427519872, 34.24242906663959, 40.76481778896688]\n"
     ]
    }
   ],
   "source": [
    "# Xem thử độ lỗi thu được.\n",
    "print(train_errs_KNR_3)\n",
    "print(val_errs_KNR_3)"
   ]
  },
  {
   "cell_type": "markdown",
   "metadata": {},
   "source": [
    "**Trường hợp 4:**\n",
    "- `month_to_season` = <span style=\"color:red\">False</span>.\n",
    "- `num_top_types` = <span style=\"color:red\">False</span>.\n",
    "- `num_top_types_s` = [1, 3, 5, 7, 9, 11, 13]\n",
    "- `neighbors_s` = [1, 3, 5, 7, 9, 11]"
   ]
  },
  {
   "cell_type": "code",
   "execution_count": 39,
   "metadata": {},
   "outputs": [],
   "source": [
    "month_to_season = False\n",
    "year_to_period = False\n",
    "num_top_types_s = [1, 3, 5, 7, 9, 11, 13]\n",
    "neighbors_s = [1, 3, 5, 7, 9, 11]\n",
    "\n",
    "train_errs_KNR_4 = [] # KNR là viết tắt của K-Neighbors Regressor, số 4 là trường hợp 4\n",
    "val_errs_KNR_4 = []\n",
    "\n",
    "best_val_err_KNR_4 = float('inf')\n",
    "best_num_top_types_KNR_4 = None\n",
    "best_neighbors_KNR_4 = None\n",
    "\n",
    "# Chạy mô hình K-Neighbors Regressor cho các tham số trên và ghi nhận các kết quả độ lỗi.\n",
    "results = runKNeighborsRegressor(train_X_df, train_y_sr,\n",
    "                                 val_X_df, val_y_sr,\n",
    "                                 full_pipeline, \n",
    "                                 month_to_season, \n",
    "                                 year_to_period, \n",
    "                                 num_top_types_s, \n",
    "                                 neighbors_s)\n",
    "\n",
    "train_errs_KNR_4 = results[0]\n",
    "val_errs_KNR_4 = results[1]\n",
    "best_val_err_KNR_4 = results[2]\n",
    "best_num_top_types_KNR_4 = results[3] \n",
    "best_neighbors_KNR_4 = results[4] "
   ]
  },
  {
   "cell_type": "code",
   "execution_count": 40,
   "metadata": {},
   "outputs": [
    {
     "name": "stdout",
     "output_type": "stream",
     "text": [
      "[6.430042441252226e-05, 32.33587731903427, 56.95817505704739, 64.04450640536336, 74.75503664846129, 70.31070755983495, 5.382256247798978e-05, 13.65258898770179, 20.924588888756787, 27.35805113901877, 34.13751067671022, 41.38543274675015, 5.382256247798978e-05, 14.966901295597012, 21.32195635381818, 26.589598672022916, 33.968793936394675, 40.533438799040155, 5.382256247798978e-05, 14.970570203050244, 21.322006641029418, 26.58952442271972, 33.968988374686845, 40.53322054822578, 5.382256247798978e-05, 14.969084894622625, 21.320825340463017, 26.58801508699436, 34.12003982849339, 40.93146886078976, 5.382256247798978e-05, 14.967882066195443, 21.3191818888601, 26.587228289033334, 34.1197635007684, 40.93145979115936, 5.382256247798978e-05, 14.967921524674523, 21.319187037275597, 26.587214607773603, 34.119780510994445, 40.93146425027139]\n",
      "[20.353580744925836, 25.55015090166212, 43.1310202398751, 48.217191559213155, 55.83279738817869, 58.55261891095094, 16.471038837441412, 21.03324547599425, 25.420689847839697, 29.313831099461737, 35.09094696884047, 41.89073114263928, 18.265307348795332, 20.54956859175769, 23.44746935967919, 26.556728015748064, 33.36223332396763, 41.067177983699274, 18.271798302807568, 20.52230761552765, 23.448237476633196, 26.55857623520143, 33.362063113479905, 41.120648075483814, 18.22512732131044, 20.51907188437079, 23.446053706927117, 26.55425360282412, 33.35951901299765, 41.11837324603434, 18.22267988797286, 20.532349441413714, 23.449907088423416, 26.559606295573374, 33.36366412734877, 41.12204047490283, 18.22285287015582, 20.53247445040381, 23.44995816483882, 26.55960257475678, 33.3637137174922, 41.12208087166389]\n"
     ]
    }
   ],
   "source": [
    "# Xem thử độ lỗi thu được.\n",
    "print(train_errs_KNR_4)\n",
    "print(val_errs_KNR_4)"
   ]
  },
  {
   "cell_type": "markdown",
   "metadata": {},
   "source": [
    "Bây giờ, nhóm sẽ tiến hành trực quan hóa kết quả thu được."
   ]
  },
  {
   "cell_type": "code",
   "execution_count": 28,
   "metadata": {},
   "outputs": [],
   "source": [
    "import seaborn as sns\n",
    "import matplotlib.pyplot as plt\n",
    "import numpy as np\n",
    "\n",
    "# Hàm visualizeResultKNR dùng để trực quan hóa kết quả của mô hình K-Neighbors Regression\n",
    "# Input là train_errs_KNR, val_errs_KNR, num_top_types_s và neighbors_s.\n",
    "# Không có kiểu trả về.\n",
    "def visualizeResultKNR(train_errs_KNR, val_errs_KNR, num_top_types_s, neighbors_s):\n",
    "    train_errs_df = pd.DataFrame(data=np.array(train_errs_KNR).reshape(len(neighbors_s), -1),\n",
    "                                 index=neighbors_s, columns=num_top_types_s)\n",
    "    val_errs_df = pd.DataFrame(data=np.array(val_errs_KNR).reshape(len(neighbors_s), -1), \n",
    "                               index=neighbors_s, columns=num_top_types_s)\n",
    "    min_err = min(min(train_errs_KNR), min(val_errs_KNR))\n",
    "    max_err = max(max(train_errs_KNR), max(val_errs_KNR))\n",
    "    plt.figure(figsize=(12, 6))\n",
    "    plt.subplot(1, 2, 1)\n",
    "    sns.heatmap(train_errs_df, vmin=min_err, vmax=max_err, square=True, annot=True, \n",
    "                cbar=False, fmt='.3f', cmap='Reds')\n",
    "    plt.title('train errors'); plt.xlabel('num_top_types'); plt.ylabel('neighbors')\n",
    "    plt.subplot(1, 2, 2)\n",
    "    sns.heatmap(val_errs_df, vmin=min_err, vmax=max_err, square=True, annot=True, \n",
    "                cbar=False, fmt='.3f', cmap='Reds')\n",
    "    plt.title('validation errors'); plt.xlabel('num_top_types'); plt.ylabel('neighbors');"
   ]
  },
  {
   "cell_type": "code",
   "execution_count": 41,
   "metadata": {},
   "outputs": [
    {
     "name": "stdout",
     "output_type": "stream",
     "text": [
      "Case 1: month_to_season = True and year_to_period = True\n",
      "+ Best validation errors = 16.55476122005308\n",
      "+ Best number top types = 1\n",
      "+ Best neighbors = 1\n"
     ]
    },
    {
     "data": {
      "image/png": "[encoded data removed]",
      "text/plain": [
       "<Figure size 864x432 with 2 Axes>"
      ]
     },
     "metadata": {
      "needs_background": "light"
     },
     "output_type": "display_data"
    }
   ],
   "source": [
    "num_top_types_s = [1, 3, 5, 7, 9, 11, 13]\n",
    "neighbors_s = [1, 3, 5, 7, 9, 11]\n",
    "\n",
    "# Trực quan hóa kết quả của trường hợp 1.\n",
    "print(\"Case 1: month_to_season = True and year_to_period = True\")\n",
    "print (\"+ Best validation errors = \" + str(best_val_err_KNR_1))\n",
    "print (\"+ Best number top types = \" + str(best_num_top_types_KNR_1))\n",
    "print (\"+ Best neighbors = \" + str(best_neighbors_KNR_1))\n",
    "visualizeResultKNR(train_errs_KNR_1, val_errs_KNR_1, num_top_types_s, neighbors_s)"
   ]
  },
  {
   "cell_type": "code",
   "execution_count": 42,
   "metadata": {},
   "outputs": [
    {
     "name": "stdout",
     "output_type": "stream",
     "text": [
      "Case 2: month_to_season = True and year_to_period = False\n",
      "+ Best validation errors = 16.468901083467813\n",
      "+ Best number top types = 3\n",
      "+ Best neighbors = 1\n"
     ]
    },
    {
     "data": {
      "image/png": "[encoded data removed]",
      "text/plain": [
       "<Figure size 864x432 with 2 Axes>"
      ]
     },
     "metadata": {
      "needs_background": "light"
     },
     "output_type": "display_data"
    }
   ],
   "source": [
    "# Trực quan hóa kết quả của trường hợp 2.\n",
    "print(\"Case 2: month_to_season = True and year_to_period = False\")\n",
    "print (\"+ Best validation errors = \" + str(best_val_err_KNR_2))\n",
    "print (\"+ Best number top types = \" + str(best_num_top_types_KNR_2))\n",
    "print (\"+ Best neighbors = \" + str(best_neighbors_KNR_2))\n",
    "visualizeResultKNR(train_errs_KNR_2, val_errs_KNR_2, num_top_types_s, neighbors_s)"
   ]
  },
  {
   "cell_type": "code",
   "execution_count": 43,
   "metadata": {},
   "outputs": [
    {
     "name": "stdout",
     "output_type": "stream",
     "text": [
      "Case 3: month_to_season = False and year_to_period = True\n",
      "+ Best validation errors = 15.706680656671907\n",
      "+ Best number top types = 1\n",
      "+ Best neighbors = 1\n"
     ]
    },
    {
     "data": {
      "image/png": "[encoded data removed]",
      "text/plain": [
       "<Figure size 864x432 with 2 Axes>"
      ]
     },
     "metadata": {
      "needs_background": "light"
     },
     "output_type": "display_data"
    }
   ],
   "source": [
    "# Trực quan hóa kết quả của trường hợp 3.\n",
    "print(\"Case 3: month_to_season = False and year_to_period = True\")\n",
    "print (\"+ Best validation errors = \" + str(best_val_err_KNR_3))\n",
    "print (\"+ Best number top types = \" + str(best_num_top_types_KNR_3))\n",
    "print (\"+ Best neighbors = \" + str(best_neighbors_KNR_3))\n",
    "visualizeResultKNR(train_errs_KNR_3, val_errs_KNR_3, num_top_types_s, neighbors_s)"
   ]
  },
  {
   "cell_type": "code",
   "execution_count": 44,
   "metadata": {},
   "outputs": [
    {
     "name": "stdout",
     "output_type": "stream",
     "text": [
      "Case 4: month_to_season = False and year_to_period = False\n",
      "+ Best validation errors = 16.471038837441412\n",
      "+ Best number top types = 3\n",
      "+ Best neighbors = 1\n"
     ]
    },
    {
     "data": {
      "image/png": "[encoded data removed]",
      "text/plain": [
       "<Figure size 864x432 with 2 Axes>"
      ]
     },
     "metadata": {
      "needs_background": "light"
     },
     "output_type": "display_data"
    }
   ],
   "source": [
    "# Trực quan hóa kết quả của trường hợp 4.\n",
    "print(\"Case 4: month_to_season = False and year_to_period = False\")\n",
    "print (\"+ Best validation errors = \" + str(best_val_err_KNR_4))\n",
    "print (\"+ Best number top types = \" + str(best_num_top_types_KNR_4))\n",
    "print (\"+ Best neighbors = \" + str(best_neighbors_KNR_4))\n",
    "visualizeResultKNR(train_errs_KNR_4, val_errs_KNR_4, num_top_types_s, neighbors_s)"
   ]
  },
  {
   "cell_type": "code",
   "execution_count": 45,
   "metadata": {},
   "outputs": [
    {
     "name": "stdout",
     "output_type": "stream",
     "text": [
      "Best Case of K-Neighbors Regressor : 3\n",
      "+ best_val_err_KNR: 15.706680656671907\n",
      "+ best_num_top_types_KNR: 1\n",
      "+ best_neighbors_KNR: 1\n"
     ]
    }
   ],
   "source": [
    "# Tìm trường hợp có độ lỗi trên tập validation bé nhất khi dùng K-Neighbors Regressor để huấn luyện.\n",
    "\n",
    "best_val_err_KNR_s = [best_val_err_KNR_1, best_val_err_KNR_2, best_val_err_KNR_3, best_val_err_KNR_4]\n",
    "best_num_top_types_KNR_s = [best_num_top_types_KNR_1, best_num_top_types_KNR_2, \n",
    "                            best_num_top_types_KNR_3, best_num_top_types_KNR_4]\n",
    "best_neighbors_KNR_s = [best_neighbors_KNR_1, best_neighbors_KNR_2, best_neighbors_KNR_3, best_neighbors_KNR_4]\n",
    "best_case_KNR_s = [1, 2, 3, 4]\n",
    "\n",
    "best_val_err_KNR = float('inf')\n",
    "best_num_top_types_KNR = None\n",
    "best_neighbors_KNR = None\n",
    "best_case_KNR = None\n",
    "\n",
    "for i in range(len(best_case_KNR_s)):\n",
    "    if best_val_err_KNR_s[i] < best_val_err_KNR:\n",
    "        best_val_err_KNR = best_val_err_KNR_s[i]\n",
    "        best_num_top_types_KNR = best_num_top_types_KNR_s[i]\n",
    "        best_neighbors_KNR = best_neighbors_KNR_s[i]\n",
    "        best_case_KNR = best_case_KNR_s[i]\n",
    "\n",
    "print(\"Best Case of K-Neighbors Regressor : \" + str(best_case_KNR))        \n",
    "print(\"+ best_val_err_KNR: \" + str(best_val_err_KNR))\n",
    "print(\"+ best_num_top_types_KNR: \" + str(best_num_top_types_KNR))\n",
    "print(\"+ best_neighbors_KNR: \" + str(best_neighbors_KNR))"
   ]
  },
  {
   "cell_type": "markdown",
   "metadata": {},
   "source": [
    "## 5.3. Decision Tree Regressor"
   ]
  },
  {
   "cell_type": "code",
   "execution_count": null,
   "metadata": {},
   "outputs": [],
   "source": [
    "from sklearn.tree import DecisionTreeRegressor\n",
    "\n",
    "# Tạo full pipeline bao gồm bước: tiền xử lý dữ liệu và mô hình hóa dữ liệu bằng Decision Tree Regressor.\n",
    "# Phải cố định random_state bằng 0 như của nhóm, điều này giúp kết quả chạy ra đúng với của nhóm đã chạy.\n",
    "full_pipeline = Pipeline([(\"preprocess\", preprocess_pipeline),\n",
    "                          (\"regression\", DecisionTreeRegressor(random_state=0))])"
   ]
  },
  {
   "cell_type": "code",
   "execution_count": null,
   "metadata": {},
   "outputs": [],
   "source": [
    "# Hàm runDecisionTreeRegressor dùng để chạy mô hình K-Neighbors Regressor huấn luyện tập train và đánh giá \n",
    "# trên tập validaion.\n",
    "# Input là train_X_df, train_y_sr, val_X_df, val_y_sr, full_pipeline, month_to_season, year_to_period,\n",
    "# num_top_types_s và max_depth_s.\n",
    "# Output là train_errs, val_errs, best_val_err, best_num_top_types và best_max_depth.\n",
    "def runDecisionTreeRegressor(train_X_df, train_y_sr, val_X_df, val_y_sr,\n",
    "                             full_pipeline, month_to_season=True, year_to_period=True, \n",
    "                             num_top_types_s=[5], max_depth_s=[3]):\n",
    "    train_errs = []\n",
    "    val_errs = []\n",
    "    \n",
    "    best_val_err = float('inf')\n",
    "    best_num_top_types = None\n",
    "    best_max_depth = None\n",
    "\n",
    "\n",
    "    for num_top_types in num_top_types_s:\n",
    "        for max_depth in max_depth_s:\n",
    "            # Set các tham số mới cho full_pipeline\n",
    "            full_pipeline.set_params(preprocess__date_sold__month_to_season=month_to_season,\n",
    "                                     preprocess__year_built__year_to_period=year_to_period,\n",
    "                                     preprocess__info_type__num_top_types=num_top_types,\n",
    "                                     regression__max_depth=max_depth)\n",
    "            \n",
    "            # Fit full_pipeline vào tập huấn luyện\n",
    "            full_pipeline.fit(train_X_df, train_y_sr)\n",
    "    \n",
    "            # Độ lỗi trên tập huấn luyện\n",
    "            train_err = 100 - full_pipeline.score(train_X_df, train_y_sr)*100\n",
    "    \n",
    "            # Độ lỗi tên tập validation\n",
    "            val_err = 100 - full_pipeline.score(val_X_df, val_y_sr)*100\n",
    "        \n",
    "            # Lưu lại các giá trị độ lỗi\n",
    "            train_errs.append(train_err)\n",
    "            val_errs.append(val_err)\n",
    "        \n",
    "            # Lưu lại best_val_err, best_num_top_types và best_neighbors\n",
    "            if (val_err < best_val_err): \n",
    "                best_val_err = val_err\n",
    "                best_num_top_types= num_top_types\n",
    "                best_max_depth = max_depth\n",
    "            \n",
    "    return (train_errs, val_errs, best_val_err, best_num_top_types, best_max_depth)"
   ]
  },
  {
   "cell_type": "markdown",
   "metadata": {},
   "source": [
    "**Trường hợp 1:**\n",
    "- `month_to_season` = <span style=\"color:blue\">True</span>.\n",
    "- `num_top_types` = <span style=\"color:blue\">True</span>.\n",
    "- `num_top_types_s` = [1, 3, 5, 7, 9, 11, 13]\n",
    "- `max_depth_s` = [3, 5, 7, 9, 11, 13]"
   ]
  },
  {
   "cell_type": "code",
   "execution_count": null,
   "metadata": {},
   "outputs": [],
   "source": [
    "month_to_season = True\n",
    "year_to_period = True\n",
    "num_top_types_s = [1, 3, 5, 7, 9, 11, 13]\n",
    "max_depth_s = [3, 5, 7, 9, 11, 13]\n",
    "\n",
    "train_errs_DTR_1 = [] # DTR là viết tắt của Decision Tree Regressor, số 1 là trường hợp 1\n",
    "val_errs_DTR_1 = []\n",
    "\n",
    "best_val_err_DTR_1 = float('inf')\n",
    "best_num_top_types_DTR_1 = None\n",
    "best_max_depth_DTR_1 = None\n",
    "\n",
    "# Chạy mô hình K-Neighbors Regressor cho các tham số trên và ghi nhận các kết quả độ lỗi.\n",
    "results = runKNeighborsRegressor(train_X_df, train_y_sr,\n",
    "                                 val_X_df, val_y_sr,\n",
    "                                 full_pipeline, \n",
    "                                 month_to_season, \n",
    "                                 year_to_period, \n",
    "                                 num_top_types_s, \n",
    "                                 max_depth_s)\n",
    "\n",
    "train_errs_DTR_1 = results[0]\n",
    "val_errs_DTR_1 = results[1]\n",
    "best_val_err_DTR_1 = results[2]\n",
    "best_num_top_types_DTR_1 = results[3] \n",
    "best_max_depth_DTR_1 = results[4] "
   ]
  },
  {
   "cell_type": "code",
   "execution_count": null,
   "metadata": {},
   "outputs": [],
   "source": [
    "# Xem thử độ lỗi thu được.\n",
    "print(train_errs_DTR_1)\n",
    "print(val_errs_DTR_1)"
   ]
  },
  {
   "cell_type": "markdown",
   "metadata": {},
   "source": [
    "**Trường hợp 2:**\n",
    "- `month_to_season` = <span style=\"color:blue\">True</span>.\n",
    "- `num_top_types` = <span style=\"color:red\">Fasle</span>.\n",
    "- `num_top_types_s` = [1, 3, 5, 7, 9, 11, 13]\n",
    "- `max_depth_s` = [3, 5, 7, 9, 11, 13]"
   ]
  },
  {
   "cell_type": "code",
   "execution_count": null,
   "metadata": {},
   "outputs": [],
   "source": [
    "month_to_season = True\n",
    "year_to_period = False\n",
    "num_top_types_s = [1, 3, 5, 7, 9, 11, 13]\n",
    "max_depth_s = [3, 5, 7, 9, 11, 13]\n",
    "\n",
    "train_errs_DTR_2 = [] # DTR là viết tắt của Decision Tree Regressor, số 2 là trường hợp 2\n",
    "val_errs_DTR_2 = []\n",
    "\n",
    "best_val_err_DTR_2 = float('inf')\n",
    "best_num_top_types_DTR_2 = None\n",
    "best_max_depth_DTR_2 = None\n",
    "\n",
    "# Chạy mô hình K-Neighbors Regressor cho các tham số trên và ghi nhận các kết quả độ lỗi.\n",
    "results = runKNeighborsRegressor(train_X_df, train_y_sr,\n",
    "                                 val_X_df, val_y_sr,\n",
    "                                 full_pipeline, \n",
    "                                 month_to_season, \n",
    "                                 year_to_period, \n",
    "                                 num_top_types_s, \n",
    "                                 max_depth_s)\n",
    "\n",
    "train_errs_DTR_2 = results[0]\n",
    "val_errs_DTR_2 = results[1]\n",
    "best_val_err_DTR_2 = results[2]\n",
    "best_num_top_types_DTR_2 = results[3] \n",
    "best_max_depth_DTR_2 = results[4] "
   ]
  },
  {
   "cell_type": "code",
   "execution_count": null,
   "metadata": {},
   "outputs": [],
   "source": [
    "# Xem thử độ lỗi thu được.\n",
    "print(train_errs_DTR_2)\n",
    "print(val_errs_DTR_2)"
   ]
  },
  {
   "cell_type": "markdown",
   "metadata": {},
   "source": [
    "**Trường hợp 3:**\n",
    "- `month_to_season` = <span style=\"color:red\">False</span>.\n",
    "- `num_top_types` = <span style=\"color:blue\">True</span>.\n",
    "- `num_top_types_s` = [1, 3, 5, 7, 9, 11, 13]\n",
    "- `max_depth_s` = [3, 5, 7, 9, 11, 13]"
   ]
  },
  {
   "cell_type": "code",
   "execution_count": null,
   "metadata": {},
   "outputs": [],
   "source": [
    "month_to_season = False\n",
    "year_to_period = True\n",
    "num_top_types_s = [1, 3, 5, 7, 9, 11, 13]\n",
    "max_depth_s = [3, 5, 7, 9, 11, 13]\n",
    "\n",
    "train_errs_DTR_3 = [] # DTR là viết tắt của Decision Tree Regressor, số 3 là trường hợp 3\n",
    "val_errs_DTR_3 = []\n",
    "\n",
    "best_val_err_DTR_3 = float('inf')\n",
    "best_num_top_types_DTR_3 = None\n",
    "best_max_depth_DTR_3 = None\n",
    "\n",
    "# Chạy mô hình K-Neighbors Regressor cho các tham số trên và ghi nhận các kết quả độ lỗi.\n",
    "results = runKNeighborsRegressor(train_X_df, train_y_sr,\n",
    "                                 val_X_df, val_y_sr,\n",
    "                                 full_pipeline, \n",
    "                                 month_to_season, \n",
    "                                 year_to_period, \n",
    "                                 num_top_types_s, \n",
    "                                 max_depth_s)\n",
    "\n",
    "train_errs_DTR_3 = results[0]\n",
    "val_errs_DTR_3 = results[1]\n",
    "best_val_err_DTR_3 = results[2]\n",
    "best_num_top_types_DTR_3 = results[3] \n",
    "best_max_depth_DTR_3 = results[4] "
   ]
  },
  {
   "cell_type": "code",
   "execution_count": null,
   "metadata": {},
   "outputs": [],
   "source": [
    "# Xem thử độ lỗi thu được.\n",
    "print(train_errs_DTR_3)\n",
    "print(val_errs_DTR_3)"
   ]
  },
  {
   "cell_type": "markdown",
   "metadata": {},
   "source": [
    "**Trường hợp 4:**\n",
    "- `month_to_season` = <span style=\"color:red\">False</span>.\n",
    "- `num_top_types` = <span style=\"color:red\">False</span>.\n",
    "- `num_top_types_s` = [1, 3, 5, 7, 9, 11, 13]\n",
    "- `max_depth_s` = [3, 5, 7, 9, 11, 13]"
   ]
  },
  {
   "cell_type": "code",
   "execution_count": null,
   "metadata": {},
   "outputs": [],
   "source": [
    "month_to_season = False\n",
    "year_to_period = False\n",
    "num_top_types_s = [1, 3, 5, 7, 9, 11, 13]\n",
    "max_depth_s = [3, 5, 7, 9, 11, 13]\n",
    "\n",
    "train_errs_DTR_4 = [] # DTR là viết tắt của Decision Tree Regressor, số 4 là trường hợp 4\n",
    "val_errs_DTR_4 = []\n",
    "\n",
    "best_val_err_DTR_4 = float('inf')\n",
    "best_num_top_types_DTR_4 = None\n",
    "best_max_depth_DTR_4 = None\n",
    "\n",
    "# Chạy mô hình K-Neighbors Regressor cho các tham số trên và ghi nhận các kết quả độ lỗi.\n",
    "results = runKNeighborsRegressor(train_X_df, train_y_sr,\n",
    "                                 val_X_df, val_y_sr,\n",
    "                                 full_pipeline, \n",
    "                                 month_to_season, \n",
    "                                 year_to_period, \n",
    "                                 num_top_types_s, \n",
    "                                 max_depth_s)\n",
    "\n",
    "train_errs_DTR_4 = results[0]\n",
    "val_errs_DTR_4 = results[1]\n",
    "best_val_err_DTR_4 = results[2]\n",
    "best_num_top_types_DTR_4 = results[3] \n",
    "best_max_depth_DTR_4 = results[4] "
   ]
  },
  {
   "cell_type": "code",
   "execution_count": null,
   "metadata": {},
   "outputs": [],
   "source": [
    "# Xem thử độ lỗi thu được.\n",
    "print(train_errs_DTR_4)\n",
    "print(val_errs_DTR_4)"
   ]
  },
  {
   "cell_type": "markdown",
   "metadata": {},
   "source": [
    "Bây giờ, nhóm sẽ tiến hành trực quan hóa kết quả thu được."
   ]
  },
  {
   "cell_type": "code",
   "execution_count": null,
   "metadata": {},
   "outputs": [],
   "source": [
    "import seaborn as sns\n",
    "import matplotlib.pyplot as plt\n",
    "import numpy as np\n",
    "\n",
    "# Hàm visualizeResultDTR dùng để trực quan hóa kết quả của mô hình Decision Tree Regression\n",
    "# Input là train_errs_DTR, val_errs_DTR, num_top_types_s và max_depth_s.\n",
    "# Không có kiểu trả về.\n",
    "def visualizeResultDTR(train_errs_DTR, val_errs_DTR, num_top_types_s, max_depth_s):\n",
    "    train_errs_df = pd.DataFrame(data=np.array(train_errs_DTR).reshape(len(max_depth_s), -1),\n",
    "                                 index=max_depth_s, columns=num_top_types_s)\n",
    "    val_errs_df = pd.DataFrame(data=np.array(val_errs_DTR).reshape(len(max_depth_s), -1), \n",
    "                               index=max_depth_s, columns=num_top_types_s)\n",
    "    min_err = min(min(train_errs_DTR), min(val_errs_DTR))\n",
    "    max_err = max(max(train_errs_DTR), max(val_errs_DTR))\n",
    "    plt.figure(figsize=(12, 6))\n",
    "    plt.subplot(1, 2, 1)\n",
    "    sns.heatmap(train_errs_df, vmin=min_err, vmax=max_err, square=True, annot=True, \n",
    "                cbar=False, fmt='.3f', cmap='Reds')\n",
    "    plt.title('train errors'); plt.xlabel('num_top_types'); plt.ylabel('max_depth')\n",
    "    plt.subplot(1, 2, 2)\n",
    "    sns.heatmap(val_errs_df, vmin=min_err, vmax=max_err, square=True, annot=True, \n",
    "                cbar=False, fmt='.3f', cmap='Reds')\n",
    "    plt.title('validation errors'); plt.xlabel('num_top_types'); plt.ylabel('max_depth');"
   ]
  },
  {
   "cell_type": "code",
   "execution_count": null,
   "metadata": {},
   "outputs": [],
   "source": [
    "num_top_types_s = [1, 3, 5, 7, 9, 11, 13]\n",
    "max_depth_s = [3, 5, 7, 9, 11, 13]\n",
    "\n",
    "# Trực quan hóa kết quả của trường hợp 1.\n",
    "print(\"Case 1: month_to_season = True and year_to_period = True\")\n",
    "print (\"+ Best validation errors = \" + str(best_val_err_DTR_1))\n",
    "print (\"+ Best number top types = \" + str(best_num_top_types_DTR_1))\n",
    "print (\"+ Best max depth = \" + str(best_max_depth_DTR_1))\n",
    "visualizeResultDTR(train_errs_DTR_1, val_errs_DTR_1, num_top_types_s, max_depth_s)"
   ]
  },
  {
   "cell_type": "code",
   "execution_count": null,
   "metadata": {},
   "outputs": [],
   "source": [
    "# Trực quan hóa kết quả của trường hợp 2.\n",
    "print(\"Case 2: month_to_season = True and year_to_period = False\")\n",
    "print (\"+ Best validation errors = \" + str(best_val_err_DTR_2))\n",
    "print (\"+ Best number top types = \" + str(best_num_top_types_DTR_2))\n",
    "print (\"+ Best max depth = \" + str(best_max_depth_DTR_2))\n",
    "visualizeResultDTR(train_errs_DTR_2, val_errs_DTR_2, num_top_types_s, max_depth_s)"
   ]
  },
  {
   "cell_type": "code",
   "execution_count": null,
   "metadata": {},
   "outputs": [],
   "source": [
    "# Trực quan hóa kết quả của trường hợp 3.\n",
    "print(\"Case 3: month_to_season = False and year_to_period = True\")\n",
    "print (\"+ Best validation errors = \" + str(best_val_err_DTR_3))\n",
    "print (\"+ Best number top types = \" + str(best_num_top_types_DTR_3))\n",
    "print (\"+ Best max depth = \" + str(best_max_depth_DTR_3))\n",
    "visualizeResultDTR(train_errs_DTR_3, val_errs_DTR_3, num_top_types_s, max_depth_s)"
   ]
  },
  {
   "cell_type": "code",
   "execution_count": null,
   "metadata": {},
   "outputs": [],
   "source": [
    "# Trực quan hóa kết quả của trường hợp 4.\n",
    "print(\"Case 4: month_to_season = False and year_to_period = False\")\n",
    "print (\"+ Best validation errors = \" + str(best_val_err_DTR_4))\n",
    "print (\"+ Best number top types = \" + str(best_num_top_types_DTR_4))\n",
    "print (\"+ Best max depth = \" + str(best_max_depth_DTR_4))\n",
    "visualizeResultDTR(train_errs_DTR_4, val_errs_DTR_4, num_top_types_s, max_depth_s)"
   ]
  },
  {
   "cell_type": "code",
   "execution_count": null,
   "metadata": {},
   "outputs": [],
   "source": [
    "# Tìm trường hợp có độ lỗi trên tập validation bé nhất khi dùng Decision Tree Regressor để huấn luyện.\n",
    "\n",
    "best_val_err_DTR_s = [best_val_err_DTR_1, best_val_err_DTR_2, best_val_err_DTR_3, best_val_err_DTR_4]\n",
    "best_num_top_types_DTR_s = [best_num_top_types_DTR_1, best_num_top_types_DTR_2, \n",
    "                            best_num_top_types_DTR_3, best_num_top_types_DTR_4]\n",
    "best_max_depth_DTR_s = [best_max_depth_DTR_1, best_max_depth_DTR_2, best_max_depth_DTR_3, best_max_depth_DTR_4]\n",
    "best_case_KNR_s = [1, 2, 3, 4]\n",
    "\n",
    "best_val_err_DTR = float('inf')\n",
    "best_num_top_types_DTR = None\n",
    "best_max_depth_DTR = None\n",
    "best_case_DTR = None\n",
    "\n",
    "for i in range(len(best_case_DTR_s)):\n",
    "    if best_val_err_DTR_s[i] < best_val_err_DTR:\n",
    "        best_val_err_DTR = best_val_err_DTR_s[i]\n",
    "        best_num_top_types_DTR = best_num_top_types_DTR_s[i]\n",
    "        best_max_depth_DTR = best_max_depth_DTR_s[i]\n",
    "        best_case_DTR = best_case_DTR_s[i]\n",
    "\n",
    "print(\"Best Case of Decision Tree Regressor: \" + str(best_case_DTR))        \n",
    "print(\"+ best_val_err_DTR: \" + str(best_val_err_DTR))\n",
    "print(\"+ best_num_top_types_DTR: \" + str(best_num_top_types_DTR))\n",
    "print(\"+ best_max_depth_DTR: \" + str(best_max_depth_DTR))"
   ]
  },
  {
   "cell_type": "markdown",
   "metadata": {},
   "source": [
    "## 5.4. Random Forest Regressor"
   ]
  },
  {
   "cell_type": "code",
   "execution_count": null,
   "metadata": {},
   "outputs": [],
   "source": [
    "from sklearn.ensemble import RandomForestRegressor\n",
    "\n",
    "# Tạo full pipeline bao gồm bước: tiền xử lý dữ liệu và mô hình hóa dữ liệu bằng Random Forest Regressor\n",
    "# Phải cố định n_estimators (số lượng cây) là 10 và random_state bằng 0 như của nhóm, \n",
    "# điều này giúp kết quả chạy ra đúng với của nhóm đã chạy.\n",
    "full_pipeline = Pipeline([(\"preprocess\", preprocess_pipeline),\n",
    "                          (\"regression\", RandomForestRegressor(n_estimators=10, random_state=0))])"
   ]
  },
  {
   "cell_type": "code",
   "execution_count": null,
   "metadata": {},
   "outputs": [],
   "source": [
    "# Hàm runRandomForestRegressor dùng để chạy mô hình K-Neighbors Regressor huấn luyện tập train và đánh giá \n",
    "# trên tập validaion.\n",
    "# Bên trong hàm giống với hàm runDecisionTreeRegressor, chỉ đổi tên cho rõ rãng từng bước thôi.\n",
    "# Input là train_X_df, train_y_sr, val_X_df, val_y_sr, full_pipeline, month_to_season, year_to_period,\n",
    "# num_top_types_s và max_depth_s.\n",
    "# Output là train_errs, val_errs, best_val_err, best_num_top_types và best_max_depth.\n",
    "def runRandomForestRegressor(train_X_df, train_y_sr, val_X_df, val_y_sr,\n",
    "                             full_pipeline, month_to_season=True, year_to_period=True, \n",
    "                             num_top_types_s=[5], max_depth_s=[3]):\n",
    "    train_errs = []\n",
    "    val_errs = []\n",
    "    \n",
    "    best_val_err = float('inf')\n",
    "    best_num_top_types = None\n",
    "    best_max_depth = None\n",
    "\n",
    "\n",
    "    for num_top_types in num_top_types_s:\n",
    "        for max_depth in max_depth_s:\n",
    "            # Set các tham số mới cho full_pipeline\n",
    "            full_pipeline.set_params(preprocess__date_sold__month_to_season=month_to_season,\n",
    "                                     preprocess__year_built__year_to_period=year_to_period,\n",
    "                                     preprocess__info_type__num_top_types=num_top_types,\n",
    "                                     regression__max_depth=max_depth)\n",
    "            \n",
    "            # Fit full_pipeline vào tập huấn luyện\n",
    "            full_pipeline.fit(train_X_df, train_y_sr)\n",
    "    \n",
    "            # Độ lỗi trên tập huấn luyện\n",
    "            train_err = 100 - full_pipeline.score(train_X_df, train_y_sr)*100\n",
    "    \n",
    "            # Độ lỗi tên tập validation\n",
    "            val_err = 100 - full_pipeline.score(val_X_df, val_y_sr)*100\n",
    "        \n",
    "            # Lưu lại các giá trị độ lỗi\n",
    "            train_errs.append(train_err)\n",
    "            val_errs.append(val_err)\n",
    "        \n",
    "            # Lưu lại best_val_err, best_num_top_types và best_neighbors\n",
    "            if (val_err < best_val_err): \n",
    "                best_val_err = val_err\n",
    "                best_num_top_types= num_top_types\n",
    "                best_max_depth = max_depth\n",
    "            \n",
    "    return (train_errs, val_errs, best_val_err, best_num_top_types, best_max_depth)"
   ]
  },
  {
   "cell_type": "markdown",
   "metadata": {},
   "source": [
    "**Trường hợp 1:**\n",
    "- `month_to_season` = <span style=\"color:blue\">True</span>.\n",
    "- `num_top_types` = <span style=\"color:blue\">True</span>.\n",
    "- `num_top_types_s` = [1, 3, 5, 7, 9, 11, 13]\n",
    "- `max_depth_s` = [3, 5, 7, 9, 11, 13]"
   ]
  },
  {
   "cell_type": "code",
   "execution_count": null,
   "metadata": {},
   "outputs": [],
   "source": [
    "month_to_season = True\n",
    "year_to_period = True\n",
    "num_top_types_s = [1, 3, 5, 7, 9, 11, 13]\n",
    "max_depth_s = [3, 5, 7, 9, 11, 13]\n",
    "\n",
    "train_errs_RFR_1 = [] # DTR là viết tắt của Random Forest Regressor, số 1 là trường hợp 1\n",
    "val_errs_RFR_1 = []\n",
    "\n",
    "best_val_err_RFR_1 = float('inf')\n",
    "best_num_top_types_RFR_1 = None\n",
    "best_max_depth_RFR_1 = None\n",
    "\n",
    "# Chạy mô hình K-Neighbors Regressor cho các tham số trên và ghi nhận các kết quả độ lỗi.\n",
    "results = runKNeighborsRegressor(train_X_df, train_y_sr,\n",
    "                                 val_X_df, val_y_sr,\n",
    "                                 full_pipeline, \n",
    "                                 month_to_season, \n",
    "                                 year_to_period, \n",
    "                                 num_top_types_s, \n",
    "                                 max_depth_s)\n",
    "\n",
    "train_errs_RFR_1 = results[0]\n",
    "val_errs_RFR_1 = results[1]\n",
    "best_val_err_RFR_1 = results[2]\n",
    "best_num_top_types_RFR_1 = results[3] \n",
    "best_max_depth_RFR_1 = results[4] "
   ]
  },
  {
   "cell_type": "code",
   "execution_count": null,
   "metadata": {},
   "outputs": [],
   "source": [
    "# Xem thử độ lỗi thu được.\n",
    "print(train_errs_RFR_1)\n",
    "print(val_errs_RFR_1)"
   ]
  },
  {
   "cell_type": "markdown",
   "metadata": {},
   "source": [
    "**Trường hợp 2:**\n",
    "- `month_to_season` = <span style=\"color:blue\">True</span>.\n",
    "- `num_top_types` = <span style=\"color:red\">False</span>.\n",
    "- `num_top_types_s` = [1, 3, 5, 7, 9, 11, 13]\n",
    "- `max_depth_s` = [3, 5, 7, 9, 11, 13]"
   ]
  },
  {
   "cell_type": "code",
   "execution_count": null,
   "metadata": {},
   "outputs": [],
   "source": [
    "month_to_season = True\n",
    "year_to_period = False\n",
    "num_top_types_s = [1, 3, 5, 7, 9, 11, 13]\n",
    "max_depth_s = [3, 5, 7, 9, 11, 13]\n",
    "\n",
    "train_errs_RFR_2 = [] # DTR là viết tắt của Random Forest Regressor, số 2 là trường hợp 2\n",
    "val_errs_RFR_2 = []\n",
    "\n",
    "best_val_err_RFR_2 = float('inf')\n",
    "best_num_top_types_RFR_2 = None\n",
    "best_max_depth_RFR_2 = None\n",
    "\n",
    "# Chạy mô hình K-Neighbors Regressor cho các tham số trên và ghi nhận các kết quả độ lỗi.\n",
    "results = runKNeighborsRegressor(train_X_df, train_y_sr,\n",
    "                                 val_X_df, val_y_sr,\n",
    "                                 full_pipeline, \n",
    "                                 month_to_season, \n",
    "                                 year_to_period, \n",
    "                                 num_top_types_s, \n",
    "                                 max_depth_s)\n",
    "\n",
    "train_errs_RFR_2 = results[0]\n",
    "val_errs_RFR_2 = results[1]\n",
    "best_val_err_RFR_2 = results[2]\n",
    "best_num_top_types_RFR_2 = results[3] \n",
    "best_max_depth_RFR_2 = results[4] "
   ]
  },
  {
   "cell_type": "code",
   "execution_count": null,
   "metadata": {},
   "outputs": [],
   "source": [
    "# Xem thử độ lỗi thu được.\n",
    "print(train_errs_RFR_2)\n",
    "print(val_errs_RFR_2)"
   ]
  },
  {
   "cell_type": "markdown",
   "metadata": {},
   "source": [
    "**Trường hợp 3:**\n",
    "- `month_to_season` = <span style=\"color:red\">False</span>.\n",
    "- `num_top_types` = <span style=\"color:blue\">True</span>.\n",
    "- `num_top_types_s` = [1, 3, 5, 7, 9, 11, 13]\n",
    "- `max_depth_s` = [3, 5, 7, 9, 11, 13]"
   ]
  },
  {
   "cell_type": "code",
   "execution_count": null,
   "metadata": {},
   "outputs": [],
   "source": [
    "month_to_season = True\n",
    "year_to_period = True\n",
    "num_top_types_s = [1, 3, 5, 7, 9, 11, 13]\n",
    "max_depth_s = [3, 5, 7, 9, 11, 13]\n",
    "\n",
    "train_errs_RFR_3 = [] # DTR là viết tắt của Random Forest Regressor, số 3 là trường hợp 3\n",
    "val_errs_RFR_3 = []\n",
    "\n",
    "best_val_err_RFR_3 = float('inf')\n",
    "best_num_top_types_RFR_3 = None\n",
    "best_max_depth_RFR_3 = None\n",
    "\n",
    "# Chạy mô hình K-Neighbors Regressor cho các tham số trên và ghi nhận các kết quả độ lỗi.\n",
    "results = runKNeighborsRegressor(train_X_df, train_y_sr,\n",
    "                                 val_X_df, val_y_sr,\n",
    "                                 full_pipeline, \n",
    "                                 month_to_season, \n",
    "                                 year_to_period, \n",
    "                                 num_top_types_s, \n",
    "                                 max_depth_s)\n",
    "\n",
    "train_errs_RFR_3 = results[0]\n",
    "val_errs_RFR_3 = results[1]\n",
    "best_val_err_RFR_3 = results[2]\n",
    "best_num_top_types_RFR_3 = results[3] \n",
    "best_max_depth_RFR_3 = results[4] "
   ]
  },
  {
   "cell_type": "code",
   "execution_count": null,
   "metadata": {},
   "outputs": [],
   "source": [
    "# Xem thử độ lỗi thu được.\n",
    "print(train_errs_RFR_3)\n",
    "print(val_errs_RFR_3)"
   ]
  },
  {
   "cell_type": "markdown",
   "metadata": {},
   "source": [
    "**Trường hợp 4:**\n",
    "- `month_to_season` = <span style=\"color:red\">False</span>.\n",
    "- `num_top_types` = <span style=\"color:red\">False</span>.\n",
    "- `num_top_types_s` = [1, 3, 5, 7, 9, 11, 13]\n",
    "- `max_depth_s` = [3, 5, 7, 9, 11, 13]"
   ]
  },
  {
   "cell_type": "code",
   "execution_count": null,
   "metadata": {},
   "outputs": [],
   "source": [
    "month_to_season = True\n",
    "year_to_period = True\n",
    "num_top_types_s = [1, 3, 5, 7, 9, 11, 13]\n",
    "max_depth_s = [3, 5, 7, 9, 11, 13]\n",
    "\n",
    "train_errs_RFR_4 = [] # DTR là viết tắt của Random Forest Regressor, số 4 là trường hợp 4\n",
    "val_errs_RFR_4 = []\n",
    "\n",
    "best_val_err_RFR_4 = float('inf')\n",
    "best_num_top_types_RFR_4 = None\n",
    "best_max_depth_RFR_4 = None\n",
    "\n",
    "# Chạy mô hình K-Neighbors Regressor cho các tham số trên và ghi nhận các kết quả độ lỗi.\n",
    "results = runKNeighborsRegressor(train_X_df, train_y_sr,\n",
    "                                 val_X_df, val_y_sr,\n",
    "                                 full_pipeline, \n",
    "                                 month_to_season, \n",
    "                                 year_to_period, \n",
    "                                 num_top_types_s, \n",
    "                                 max_depth_s)\n",
    "\n",
    "train_errs_RFR_4 = results[0]\n",
    "val_errs_RFR_4 = results[1]\n",
    "best_val_err_RFR_4 = results[2]\n",
    "best_num_top_types_RFR_4 = results[3] \n",
    "best_max_depth_RFR_4 = results[4] "
   ]
  },
  {
   "cell_type": "code",
   "execution_count": null,
   "metadata": {},
   "outputs": [],
   "source": [
    "# Xem thử độ lỗi thu được.\n",
    "print(train_errs_RFR_4)\n",
    "print(val_errs_RFR_4)"
   ]
  },
  {
   "cell_type": "markdown",
   "metadata": {},
   "source": [
    "Bây giờ, nhóm sẽ tiến hành trực quan hóa kết quả thu được."
   ]
  },
  {
   "cell_type": "code",
   "execution_count": null,
   "metadata": {},
   "outputs": [],
   "source": [
    "import seaborn as sns\n",
    "import matplotlib.pyplot as plt\n",
    "import numpy as np\n",
    "\n",
    "# Hàm visualizeResultRFR dùng để trực quan hóa kết quả của mô hình Random Forest Regressor\n",
    "# Input là train_errs_RFR, val_errs_RFR, num_top_types_s và max_depth_s.\n",
    "# Không có kiểu trả về.\n",
    "def visualizeResultRFR(train_errs_RFR, val_errs_RFR, num_top_types_s, max_depth_s):\n",
    "    train_errs_df = pd.DataFrame(data=np.array(train_errs_RFR).reshape(len(max_depth_s), -1),\n",
    "                                 index=max_depth_s, columns=num_top_types_s)\n",
    "    val_errs_df = pd.DataFrame(data=np.array(val_errs_RFR).reshape(len(max_depth_s), -1), \n",
    "                               index=max_depth_s, columns=num_top_types_s)\n",
    "    min_err = min(min(train_errs_RFR), min(val_errs_RFR))\n",
    "    max_err = max(max(train_errs_RFR), max(val_errs_RFR))\n",
    "    plt.figure(figsize=(12, 6))\n",
    "    plt.subplot(1, 2, 1)\n",
    "    sns.heatmap(train_errs_df, vmin=min_err, vmax=max_err, square=True, annot=True, \n",
    "                cbar=False, fmt='.3f', cmap='Reds')\n",
    "    plt.title('train errors'); plt.xlabel('num_top_types'); plt.ylabel('max_depth')\n",
    "    plt.subplot(1, 2, 2)\n",
    "    sns.heatmap(val_errs_df, vmin=min_err, vmax=max_err, square=True, annot=True, \n",
    "                cbar=False, fmt='.3f', cmap='Reds')\n",
    "    plt.title('validation errors'); plt.xlabel('num_top_types'); plt.ylabel('max_depth');"
   ]
  },
  {
   "cell_type": "code",
   "execution_count": null,
   "metadata": {},
   "outputs": [],
   "source": [
    "num_top_types_s = [1, 3, 5, 7, 9, 11, 13]\n",
    "max_depth_s = [3, 5, 7, 9, 11, 13]\n",
    "\n",
    "# Trực quan hóa kết quả của trường hợp 1.\n",
    "print(\"Case 1: month_to_season = True and year_to_period = True\")\n",
    "print (\"+ Best validation errors = \" + str(best_val_err_RFR_1))\n",
    "print (\"+ Best number top types = \" + str(best_num_top_types_RFR_1))\n",
    "print (\"+ Best max depth = \" + str(best_max_depth_RFR_1))\n",
    "visualizeResultDTR(train_errs_RFR_1, val_errs_RFR_1, num_top_types_s, max_depth_s)"
   ]
  },
  {
   "cell_type": "code",
   "execution_count": null,
   "metadata": {},
   "outputs": [],
   "source": [
    "# Trực quan hóa kết quả của trường hợp 2.\n",
    "print(\"Case 2: month_to_season = True and year_to_period = False\")\n",
    "print (\"+ Best validation errors = \" + str(best_val_err_RFR_2))\n",
    "print (\"+ Best number top types = \" + str(best_num_top_types_RFR_2))\n",
    "print (\"+ Best max depth = \" + str(best_max_depth_RFR_2))\n",
    "visualizeResultDTR(train_errs_RFR_2, val_errs_RFR_2, num_top_types_s, max_depth_s)"
   ]
  },
  {
   "cell_type": "code",
   "execution_count": null,
   "metadata": {},
   "outputs": [],
   "source": [
    "# Trực quan hóa kết quả của trường hợp 3.\n",
    "print(\"Case 3: month_to_season = False and year_to_period = True\")\n",
    "print (\"+ Best validation errors = \" + str(best_val_err_RFR_3))\n",
    "print (\"+ Best number top types = \" + str(best_num_top_types_RFR_3))\n",
    "print (\"+ Best max depth = \" + str(best_max_depth_RFR_3))\n",
    "visualizeResultDTR(train_errs_RFR_3, val_errs_RFR_3, num_top_types_s, max_depth_s)"
   ]
  },
  {
   "cell_type": "code",
   "execution_count": null,
   "metadata": {},
   "outputs": [],
   "source": [
    "# Trực quan hóa kết quả của trường hợp 4.\n",
    "print(\"Case 4: month_to_season = False and year_to_period = False\")\n",
    "print (\"+ Best validation errors = \" + str(best_val_err_RFR_4))\n",
    "print (\"+ Best number top types = \" + str(best_num_top_types_RFR_4))\n",
    "print (\"+ Best max depth = \" + str(best_max_depth_RFR_4))\n",
    "visualizeResultDTR(train_errs_RFR_4, val_errs_RFR_4, num_top_types_s, max_depth_s)"
   ]
  },
  {
   "cell_type": "code",
   "execution_count": null,
   "metadata": {},
   "outputs": [],
   "source": [
    "# Tìm trường hợp có độ lỗi trên tập validation bé nhất khi dùng Random Forest Regressor để huấn luyện.\n",
    "\n",
    "best_val_err_RFR_s = [best_val_err_RFR_1, best_val_err_RFR_2, best_val_err_RFR_3, best_val_err_RFR_4]\n",
    "best_num_top_types_RFR_s = [best_num_top_types_RFR_1, best_num_top_types_RFR_2, \n",
    "                            best_num_top_types_RFR_3, best_num_top_types_RFR_4]\n",
    "best_max_depth_RFR_s = [best_max_depth_RFR_1, best_max_depth_RFR_2, best_max_depth_RFR_3, best_max_depth_RFR_4]\n",
    "best_case_RFR_s = [1, 2, 3, 4]\n",
    "\n",
    "best_val_err_RFR = float('inf')\n",
    "best_num_top_types_RFR = None\n",
    "best_max_depth_RFR = None\n",
    "best_case_RFR = None\n",
    "\n",
    "for i in range(len(best_case_RFR_s)):\n",
    "    if best_val_err_RFR_s[i] < best_val_err_RFR:\n",
    "        best_val_err_RFR = best_val_err_RFR_s[i]\n",
    "        best_num_top_types_RFR = best_num_top_types_RFR_s[i]\n",
    "        best_max_depth_RFR = best_max_depth_RFR_s[i]\n",
    "        best_case_RFR = best_case_RFR_s[i]\n",
    "\n",
    "print(\"Best Case of Forest Regressor: \" + str(best_case_RFR))        \n",
    "print(\"+ best_val_err_RFR: \" + str(best_val_err_RFR))\n",
    "print(\"+ best_num_top_types_RFR: \" + str(best_num_top_types_RFR))\n",
    "print(\"+ best_max_depth_RFR: \" + str(best_max_depth_RFR))"
   ]
  },
  {
   "cell_type": "markdown",
   "metadata": {},
   "source": [
    "# 6. Dự đoán trên tập `test`"
   ]
  },
  {
   "cell_type": "code",
   "execution_count": null,
   "metadata": {},
   "outputs": [],
   "source": []
  }
 ],
 "metadata": {
  "kernelspec": {
   "display_name": "Python 3",
   "language": "python",
   "name": "python3"
  },
  "language_info": {
   "codemirror_mode": {
    "name": "ipython",
    "version": 3
   },
   "file_extension": ".py",
   "mimetype": "text/x-python",
   "name": "python",
   "nbconvert_exporter": "python",
   "pygments_lexer": "ipython3",
   "version": "3.7.3"
  }
 },
 "nbformat": 4,
 "nbformat_minor": 4
}
