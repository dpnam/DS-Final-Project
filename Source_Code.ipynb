{
 "cells": [
  {
   "cell_type": "markdown",
   "metadata": {},
   "source": [
    "# Thông tin nhóm\n",
    "1612406 - Đặng Phương Nam\n",
    "\n",
    "1612423 - Lê Minh Nghĩa"
   ]
  },
  {
   "cell_type": "markdown",
   "metadata": {},
   "source": [
    "# Thu thập dữ liệu từ API\n",
    "- Sử dụng API Dark Sky: để thu thập dữ liệu thời tiết của TP. Hồ Chí Minh (https://darksky.net/forecast/10.75,106.6667/us12/en)\n",
    "- Đăng ký tài khoản dev để nhận khóa API tại https://darksky.net/dev\n",
    "- API Dark chỉ cho phép tối đa thực hiện 1000 request mỗi ngày đối với dùng free,còn muốn thực hiện nhiều hơn thì phải trả phí ($0,0001 cho mỗi ngày)."
   ]
  },
  {
   "cell_type": "markdown",
   "metadata": {},
   "source": [
    "url: https://api.darksky.net/forecast/[key]/[latitude],[longitude],[time]\n",
    "+ Với [key] là secret key mà Dark Sky cung cấp cho mỗi tài khoản dev đã đăng ký ở trên, ví dụ  \"b6b7262c996a461fba2fbd016457c40d\" (khi nào dùng xong nhóm sẽ reset lại secret key).\n",
    "+ [latitude],[longitude] lần lượt là kinh độ và vĩ độ tương ứng của địa điểm mà mình muốn request. Ở đây tọa độ TP Hồ Chí Minh tương ứng là \"10.75,106.6667\".\n",
    "+ time là thời gian muốn lấy dữ liệu thời tiết, dạng UNIX time."
   ]
  },
  {
   "cell_type": "markdown",
   "metadata": {},
   "source": [
    "## Yêu cầu lấy 10.000 dữ liệu thời tiết của TP.HCM"
   ]
  },
  {
   "cell_type": "code",
   "execution_count": 1,
   "metadata": {},
   "outputs": [],
   "source": [
    "# Inport thư viện cần thiết để tính toán thời gian để bắt đầu request\n",
    "from datetime import datetime, timedelta\n",
    "import time"
   ]
  },
  {
   "cell_type": "markdown",
   "metadata": {},
   "source": [
    "### Nếu lấy theo ngày thì tốn 10.000 ngày, do đó tốn đến 10.000 lần request (tốn nhiều nhất 10 ngày liên tục)"
   ]
  },
  {
   "cell_type": "code",
   "execution_count": 2,
   "metadata": {},
   "outputs": [
    {
     "name": "stdout",
     "output_type": "stream",
     "text": [
      "Request with 10000 consecutive days:\n",
      "- Date Start request:  1992-07-14 00:00:00 -> Unix Timestamp:  711046800.0\n",
      "- Date End request:    2019-11-30 00:00:00 -> Unix Timestamp:  1575046800.0\n"
     ]
    }
   ],
   "source": [
    "# YYYY/MM/DD/Hour/Minute/Sec\n",
    "date_end = datetime(2019, 11, 30)\n",
    "date_start = date_end - timedelta(days=10000)\n",
    "print(\"Request with 10000 consecutive days:\")\n",
    "print(\"- Date Start request: \", date_start, \"-> Unix Timestamp: \", time.mktime(date_start.timetuple()))\n",
    "print(\"- Date End request:   \", date_end, \"-> Unix Timestamp: \", time.mktime(date_end.timetuple()))"
   ]
  },
  {
   "cell_type": "markdown",
   "metadata": {},
   "source": [
    "Vậy thôi lấy date_start là 1992-07-01 luôn đi, rồi cộng dồn từ từ cho đủ 10.000 ngày."
   ]
  },
  {
   "cell_type": "markdown",
   "metadata": {},
   "source": [
    "#### Dữ liệu mấy ngày gần đây có dạng: nhiều feature hơn\n",
    "\n",
    "{\"time\":1574704800,\"summary\":\"Humid and Partly Cloudy\",\"icon\":\"partly-cloudy-night\",\"precipIntensity\":0,\"precipProbability\":0,\"temperature\":79.3,\"apparentTemperature\":84.08,\"dewPoint\":77.17,\"humidity\":0.93,\"pressure\":1011.4,\"windSpeed\":4.41,\"windGust\":4.71,\"windBearing\":42,\"cloudCover\":0.44,\"uvIndex\":0,\"visibility\":4.974,\"ozone\":251.3}\n",
    "\n",
    "#### Về mấy ngày xa xôi trước đó thì có dạng: ít feature hơn\n",
    "\n",
    "{\"time\":710618400,\"temperature\":74.88,\"apparentTemperature\":76.36,\"dewPoint\":72.14,\"humidity\":0.91,\"pressure\":1008,\"windSpeed\":0,\"cloudCover\":0.88,\"uvIndex\":0}"
   ]
  },
  {
   "cell_type": "markdown",
   "metadata": {},
   "source": [
    "### Nếu lấy theo giờ thì tốn 10.000 giờ (lưu ý mỗi ngày sẽ thu được 24 data weather ứng với 24 tiếng), vậy chỉ tốn khoảng 417 lần request (chỉ 1 ngày là xong)"
   ]
  },
  {
   "cell_type": "code",
   "execution_count": 3,
   "metadata": {},
   "outputs": [
    {
     "name": "stdout",
     "output_type": "stream",
     "text": [
      "Request with 10000 consecutive days:\n",
      "- Date Start request:  2018-10-09 08:00:00 -> Unix Timestamp:  1539046800.0\n",
      "- Date End request:    2019-11-30 00:00:00 -> Unix Timestamp:  1575046800.0\n"
     ]
    }
   ],
   "source": [
    "# YYYY/MM/DD/Hour/Minute/Sec\n",
    "date_end = datetime(2019, 11, 30)\n",
    "date_start = date_end - timedelta(hours=10000)\n",
    "print(\"Request with 10000 consecutive days:\")\n",
    "print(\"- Date Start request: \", date_start, \"-> Unix Timestamp: \", time.mktime(date_start.timetuple()))\n",
    "print(\"- Date End request:   \", date_end, \"-> Unix Timestamp: \", time.mktime(date_end.timetuple()))"
   ]
  },
  {
   "cell_type": "markdown",
   "metadata": {},
   "source": [
    "Vậy thôi lấy date_start là 2018-10-09 00:00:00 luôn đi, rồi cộng dồn từ từ cho đủ 10.000 giờ."
   ]
  },
  {
   "cell_type": "markdown",
   "metadata": {},
   "source": [
    "#### Dữ liệu từ năm 2018 đến 2019 thì chắc có đầy đủ các feature giống nhau rồi."
   ]
  },
  {
   "cell_type": "markdown",
   "metadata": {},
   "source": [
    "### - Vậy lúc lấy theo ngày thì liệu có đủ feature để huấn luyện hay không?\n",
    "### - Còn lấy theo giờ thì có phù hợp với bài toán của mình hay không? (Do định dùng dữ liệu của 3 hay 5 ngày trước đó để dự đoán nhiệt độ hay thời tiết (mưa hay nắng) của ngày tiếp theo.\n",
    "### -  Xét về thời gian request thì cái lấy theo giờ nhanh hơn nhiều (chỉ tốn 1 ngày)."
   ]
  },
  {
   "cell_type": "markdown",
   "metadata": {},
   "source": [
    "## Tiến hành request (sau khi đã chọn được thời gian lấy)"
   ]
  },
  {
   "cell_type": "code",
   "execution_count": null,
   "metadata": {},
   "outputs": [],
   "source": [
    "import requests\n",
    "import json"
   ]
  },
  {
   "cell_type": "markdown",
   "metadata": {},
   "source": [
    "key = \"b6b7262c996a461fba2fbd016457c40d\" # secret key\n",
    "latitude = \"10.75\" # kinh độ TP.HCM\n",
    "longitude = \"106.6667\" # vĩ độ TP.HCM\n",
    "time = \"\" #Nhớ là Unix Timestamp\n",
    "\n",
    "records = []\n",
    "while True:\n",
    "    try:\n",
    "        url = f'https://api.darksky.net/forecast/{key}/{latitude},{longitude},{time}'\n",
    "        print(f'GET {url}')\n",
    "        r = requests.get(url)\n",
    "        json_pydata = json.loads(r.text) # Shortcut: json_pydata = r.json()\n",
    "        \n",
    "        # Lấy records tương ứng với mấy cái feature mà mình muốn lấy \n",
    "        #....\n",
    "        \n",
    "        # Cộng time lên theo ngày hay theo giờ?\n",
    "        #time +=\n",
    "        \n",
    "    except Exception as e: # Có thể là do hết lượng request được phép, hoặc hết page, ...\n",
    "        print(f'Error: {e}')\n",
    "        break\n",
    "\n",
    "Xong nhớ lưu lại dùm cái!"
   ]
  },
  {
   "cell_type": "code",
   "execution_count": 1,
   "metadata": {},
   "outputs": [],
   "source": [
    "import logging\n",
    "from datetime import datetime\n",
    "\n",
    "logger = logging.getLogger('crawler')\n",
    "fhandler = logging.FileHandler(filename=f'{datetime.today().strftime(\"%Y-%m-%d_%H_%M_%S\")}.log', mode='a')\n",
    "formatter = logging.Formatter('%(asctime)s - %(name)s - %(levelname)s - %(message)s')\n",
    "fhandler.setFormatter(formatter)\n",
    "logger.handlers = []\n",
    "logger.addHandler(fhandler)\n",
    "logger.setLevel(logging.DEBUG)"
   ]
  },
  {
   "cell_type": "code",
   "execution_count": 2,
   "metadata": {},
   "outputs": [],
   "source": [
    "import requests\n",
    "import json\n",
    "from datetime import datetime, timedelta\n",
    "import os.path\n",
    "\n",
    "#API_KEY = \"b6b7262c996a461fba2fbd016457c40d\"   # NAM 1\n",
    "API_KEY = \"9d3e4e322240bc68d548ec13b7e3e445\"   # NAM 2\n",
    "#API_KEY = \"57c62541be2d79ea4d55fd39e5080dc0\" # Nghia\n",
    "LAT = 10.75\n",
    "LNG = 106.6667\n",
    "\n",
    "date_end = datetime(2011, 9, 25) #2011-09-25\n",
    "n = 10000\n",
    "\n",
    "fname = f\"data/{date_end.strftime('%Y-%m-%d')}.json\"\n",
    "if not os.path.exists(fname):\n",
    "    s = requests.Session()\n",
    "    with open(fname, \"a\") as f:\n",
    "        for dayDelta in range(n):\n",
    "            dt = date_end - timedelta(days=dayDelta)\n",
    "            timestr = dt.strftime(\"%Y-%m-%dT%H:%M:%S\")\n",
    "            url = f\"https://api.darksky.net/forecast/{API_KEY}/{LAT},{LNG},{timestr}?exclude=currently&units=si\"\n",
    "            logger.info(f\"GET {url}\")\n",
    "            try: \n",
    "                r = s.get(url)\n",
    "                r.raise_for_status()\n",
    "                f.write(f'{r.text}')\n",
    "            except Exception as e:\n",
    "                logger.error(f\"{r.text}\\n{e}\")\n",
    "                break\n",
    "else:\n",
    "    print(\"ERROR FILE EXISTS\")"
   ]
  },
  {
   "cell_type": "code",
   "execution_count": null,
   "metadata": {},
   "outputs": [],
   "source": []
  }
 ],
 "metadata": {
  "kernelspec": {
   "display_name": "Python 3",
   "language": "python",
   "name": "python3"
  },
  "language_info": {
   "codemirror_mode": {
    "name": "ipython",
    "version": 3
   },
   "file_extension": ".py",
   "mimetype": "text/x-python",
   "name": "python",
   "nbconvert_exporter": "python",
   "pygments_lexer": "ipython3",
   "version": "3.7.3"
  }
 },
 "nbformat": 4,
 "nbformat_minor": 4
}
